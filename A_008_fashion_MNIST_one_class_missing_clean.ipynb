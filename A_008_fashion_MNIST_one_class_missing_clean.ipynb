{
 "cells": [
  {
   "cell_type": "code",
   "execution_count": 1,
   "metadata": {},
   "outputs": [
    {
     "name": "stdout",
     "output_type": "stream",
     "text": [
      "tensorflow:  1.14.0\n"
     ]
    }
   ],
   "source": [
    "# import the needed packages and check version\n",
    "import tensorflow as tf\n",
    "from tensorflow import keras\n",
    "\n",
    "# Helper libraries\n",
    "import numpy as np\n",
    "import pandas as pd\n",
    "import matplotlib.pyplot as plt\n",
    "\n",
    "print(\"tensorflow: \", tf.__version__) #1.14.0"
   ]
  },
  {
   "cell_type": "code",
   "execution_count": 2,
   "metadata": {},
   "outputs": [],
   "source": [
    "#import the fashion mnist dataset (from Zalando)\n",
    "fashion_mnist = keras.datasets.fashion_mnist\n",
    "data = fashion_mnist.load_data()\n",
    "(train_images, train_labels), (test_images, test_labels) = data\n",
    "#(train_images, train_labels), (test_images, test_labels) = fashion_mnist.load_data()"
   ]
  },
  {
   "cell_type": "code",
   "execution_count": 3,
   "metadata": {},
   "outputs": [],
   "source": [
    "class_names = ['T-shirt/top', 'Trouser', 'Pullover', 'Dress', 'Coat',\n",
    "               'Sandal', 'Shirt', 'Sneaker', 'Bag', 'Ankle boot']"
   ]
  },
  {
   "cell_type": "code",
   "execution_count": 4,
   "metadata": {},
   "outputs": [],
   "source": [
    "#preprocess the data\n",
    "train_x = np.expand_dims(train_images/255.0, axis=3)\n",
    "train_y = train_labels\n",
    "test_y = test_labels\n",
    "test_x = np.expand_dims(test_images/255.0, axis=3)"
   ]
  },
  {
   "cell_type": "markdown",
   "metadata": {},
   "source": [
    "## prepare data and exclude one class"
   ]
  },
  {
   "cell_type": "markdown",
   "metadata": {},
   "source": [
    "exclude one class and get this class seperately from the test set to test later"
   ]
  },
  {
   "cell_type": "code",
   "execution_count": 5,
   "metadata": {},
   "outputs": [],
   "source": [
    "nine_x = test_x[np.where(test_y==9)[0]]\n",
    "nine_y = test_y[np.where(test_y==9)[0]]\n",
    "\n",
    "zero_x = test_x[np.where(test_y==0)[0]]\n",
    "zero_y = test_y[np.where(test_y==0)[0]]"
   ]
  },
  {
   "cell_type": "code",
   "execution_count": 6,
   "metadata": {},
   "outputs": [],
   "source": [
    "train_x = np.delete(train_x, np.where((train_y==9))[0], axis = 0)\n",
    "train_y = np.delete(train_y, np.where(train_y==9)[0], axis = 0)"
   ]
  },
  {
   "cell_type": "code",
   "execution_count": 7,
   "metadata": {},
   "outputs": [],
   "source": [
    "train_y = np.array(pd.get_dummies(train_y))"
   ]
  },
  {
   "cell_type": "code",
   "execution_count": 8,
   "metadata": {},
   "outputs": [],
   "source": [
    "test_x_reduced = np.delete(test_x, np.where((test_y==9))[0], axis=0)\n",
    "test_y_reduced = np.delete(test_y, np.where((test_y==9))[0], axis=0)"
   ]
  },
  {
   "cell_type": "code",
   "execution_count": 9,
   "metadata": {},
   "outputs": [],
   "source": [
    "test_y_reduced = np.array(pd.get_dummies(test_y_reduced))"
   ]
  },
  {
   "cell_type": "code",
   "execution_count": 10,
   "metadata": {},
   "outputs": [],
   "source": [
    "#adjust labels\n",
    "class_names_adj = ['T-shirt/top', 'Trouser', 'Pullover', 'Dress', 'Coat',\n",
    "               'Sandal', 'Shirt', 'Sneaker', 'Bag']"
   ]
  },
  {
   "cell_type": "markdown",
   "metadata": {},
   "source": [
    "## construct a baseline CNN"
   ]
  },
  {
   "cell_type": "code",
   "execution_count": 70,
   "metadata": {},
   "outputs": [
    {
     "name": "stdout",
     "output_type": "stream",
     "text": [
      "Model: \"sequential_2\"\n",
      "_________________________________________________________________\n",
      "Layer (type)                 Output Shape              Param #   \n",
      "=================================================================\n",
      "conv2d_6 (Conv2D)            (None, 28, 28, 8)         80        \n",
      "_________________________________________________________________\n",
      "conv2d_7 (Conv2D)            (None, 28, 28, 8)         584       \n",
      "_________________________________________________________________\n",
      "max_pooling2d_2 (MaxPooling2 (None, 14, 14, 8)         0         \n",
      "_________________________________________________________________\n",
      "conv2d_8 (Conv2D)            (None, 14, 14, 16)        1168      \n",
      "_________________________________________________________________\n",
      "flatten_2 (Flatten)          (None, 3136)              0         \n",
      "_________________________________________________________________\n",
      "dropout_6 (Dropout)          (None, 3136)              0         \n",
      "_________________________________________________________________\n",
      "dense_2 (Dense)              (None, 9)                 28233     \n",
      "=================================================================\n",
      "Total params: 30,065\n",
      "Trainable params: 30,065\n",
      "Non-trainable params: 0\n",
      "_________________________________________________________________\n",
      "Epoch 1/10\n",
      "54000/54000 [==============================] - 45s 829us/sample - loss: 0.5152 - acc: 0.8122\n",
      "Epoch 2/10\n",
      "54000/54000 [==============================] - 45s 834us/sample - loss: 0.3632 - acc: 0.8694\n",
      "Epoch 3/10\n",
      "54000/54000 [==============================] - 48s 880us/sample - loss: 0.3177 - acc: 0.8858\n",
      "Epoch 4/10\n",
      "54000/54000 [==============================] - 46s 857us/sample - loss: 0.2955 - acc: 0.8939\n",
      "Epoch 5/10\n",
      "54000/54000 [==============================] - 46s 860us/sample - loss: 0.2814 - acc: 0.8986\n",
      "Epoch 6/10\n",
      "54000/54000 [==============================] - 46s 845us/sample - loss: 0.2683 - acc: 0.9026\n",
      "Epoch 7/10\n",
      "54000/54000 [==============================] - 44s 817us/sample - loss: 0.2592 - acc: 0.9062\n",
      "Epoch 8/10\n",
      "54000/54000 [==============================] - 47s 875us/sample - loss: 0.2509 - acc: 0.9091\n",
      "Epoch 9/10\n",
      "54000/54000 [==============================] - 45s 826us/sample - loss: 0.2473 - acc: 0.9114\n",
      "Epoch 10/10\n",
      "54000/54000 [==============================] - 47s 879us/sample - loss: 0.2399 - acc: 0.9133\n"
     ]
    },
    {
     "data": {
      "image/png": "[encoded data removed]",
      "text/plain": [
       "<Figure size 864x360 with 2 Axes>"
      ]
     },
     "metadata": {
      "needs_background": "light"
     },
     "output_type": "display_data"
    }
   ],
   "source": [
    "# Construct a baseline CNN\n",
    "\n",
    "model_b = keras.Sequential([\n",
    "    keras.layers.Convolution2D(8, kernel_size=(3,3), padding=\"same\", activation='relu', input_shape=(28,28,1)),\n",
    "    keras.layers.Convolution2D(8, kernel_size=(3,3), padding=\"same\", activation='relu'),\n",
    "    keras.layers.MaxPooling2D(2,2),\n",
    "    keras.layers.Convolution2D(16, kernel_size=(3,3), padding=\"same\", activation='relu'),\n",
    "    keras.layers.Flatten(),\n",
    "    keras.layers.Dropout((0.5)),\n",
    "    keras.layers.Dense(9, activation='softmax')\n",
    "])\n",
    "\n",
    "model_b.compile(loss='categorical_crossentropy', optimizer='adam', metrics=['accuracy'])\n",
    "model_b.summary()\n",
    "\n",
    "history_b = model_b.fit(train_x, train_y, epochs = 10)\n",
    "\n",
    "plt.figure(figsize=(12,5))\n",
    "plt.subplot(1,2,1)\n",
    "plt.plot(history_b.history['acc'])\n",
    "#plt.plot(history_b.history['val_accuracy'])\n",
    "plt.ylim(0,1)\n",
    "plt.title('model accuracy')\n",
    "plt.ylabel('accuracy')\n",
    "plt.xlabel('epoch')\n",
    "plt.legend(['train', 'valid'], loc='lower right')\n",
    "plt.subplot(1,2,2)\n",
    "plt.plot(history_b.history['loss'])\n",
    "#plt.plot(history_b.history['va_loss'])\n",
    "plt.title('model loss')\n",
    "plt.ylabel('loss')\n",
    "plt.xlabel('epoch')\n",
    "plt.legend(['train', 'valid'], loc='upper right')\n",
    "plt.show()"
   ]
  },
  {
   "cell_type": "code",
   "execution_count": 71,
   "metadata": {},
   "outputs": [
    {
     "name": "stdout",
     "output_type": "stream",
     "text": [
      "9000/9000 [==============================] - 2s 220us/sample - loss: 0.2404 - acc: 0.9170\n"
     ]
    },
    {
     "data": {
      "text/plain": [
       "[0.24041073830922444, 0.917]"
      ]
     },
     "execution_count": 71,
     "metadata": {},
     "output_type": "execute_result"
    }
   ],
   "source": [
    "model_b.evaluate(test_x_reduced, test_y_reduced) #test the network with adjusted test set"
   ]
  },
  {
   "cell_type": "code",
   "execution_count": 72,
   "metadata": {},
   "outputs": [],
   "source": [
    "model_b.save('A_008_model_b.h5') #save the model"
   ]
  },
  {
   "cell_type": "code",
   "execution_count": 11,
   "metadata": {},
   "outputs": [
    {
     "name": "stderr",
     "output_type": "stream",
     "text": [
      "WARNING: Logging before flag parsing goes to stderr.\n",
      "W1115 09:36:24.680001  9136 deprecation.py:506] From c:\\users\\annar\\project_folder\\venv\\lib\\site-packages\\tensorflow\\python\\ops\\init_ops.py:97: calling GlorotUniform.__init__ (from tensorflow.python.ops.init_ops) with dtype is deprecated and will be removed in a future version.\n",
      "Instructions for updating:\n",
      "Call initializer instance with the dtype argument instead of passing it to the constructor\n",
      "W1115 09:36:24.680001  9136 deprecation.py:506] From c:\\users\\annar\\project_folder\\venv\\lib\\site-packages\\tensorflow\\python\\ops\\init_ops.py:1251: calling VarianceScaling.__init__ (from tensorflow.python.ops.init_ops) with dtype is deprecated and will be removed in a future version.\n",
      "Instructions for updating:\n",
      "Call initializer instance with the dtype argument instead of passing it to the constructor\n",
      "W1115 09:36:24.680001  9136 deprecation.py:506] From c:\\users\\annar\\project_folder\\venv\\lib\\site-packages\\tensorflow\\python\\ops\\init_ops.py:97: calling Zeros.__init__ (from tensorflow.python.ops.init_ops) with dtype is deprecated and will be removed in a future version.\n",
      "Instructions for updating:\n",
      "Call initializer instance with the dtype argument instead of passing it to the constructor\n"
     ]
    }
   ],
   "source": [
    "model_b = tf.keras.models.load_model('A_model_b.h5')"
   ]
  },
  {
   "cell_type": "markdown",
   "metadata": {},
   "source": [
    "## create a BNN"
   ]
  },
  {
   "cell_type": "code",
   "execution_count": 74,
   "metadata": {},
   "outputs": [
    {
     "name": "stdout",
     "output_type": "stream",
     "text": [
      "Model: \"sequential_3\"\n",
      "_________________________________________________________________\n",
      "Layer (type)                 Output Shape              Param #   \n",
      "=================================================================\n",
      "conv2d_9 (Conv2D)            (None, 28, 28, 8)         80        \n",
      "_________________________________________________________________\n",
      "dropout_7 (Dropout)          (None, 28, 28, 8)         0         \n",
      "_________________________________________________________________\n",
      "conv2d_10 (Conv2D)           (None, 28, 28, 8)         584       \n",
      "_________________________________________________________________\n",
      "dropout_8 (Dropout)          (None, 28, 28, 8)         0         \n",
      "_________________________________________________________________\n",
      "max_pooling2d_3 (MaxPooling2 (None, 14, 14, 8)         0         \n",
      "_________________________________________________________________\n",
      "dropout_9 (Dropout)          (None, 14, 14, 8)         0         \n",
      "_________________________________________________________________\n",
      "conv2d_11 (Conv2D)           (None, 14, 14, 16)        1168      \n",
      "_________________________________________________________________\n",
      "dropout_10 (Dropout)         (None, 14, 14, 16)        0         \n",
      "_________________________________________________________________\n",
      "flatten_3 (Flatten)          (None, 3136)              0         \n",
      "_________________________________________________________________\n",
      "dropout_11 (Dropout)         (None, 3136)              0         \n",
      "_________________________________________________________________\n",
      "dense_3 (Dense)              (None, 9)                 28233     \n",
      "=================================================================\n",
      "Total params: 30,065\n",
      "Trainable params: 30,065\n",
      "Non-trainable params: 0\n",
      "_________________________________________________________________\n",
      "Epoch 1/10\n",
      "54000/54000 [==============================] - 62s 1ms/sample - loss: 0.6508 - acc: 0.7599\n",
      "Epoch 2/10\n",
      "54000/54000 [==============================] - 61s 1ms/sample - loss: 0.4575 - acc: 0.8322\n",
      "Epoch 3/10\n",
      "54000/54000 [==============================] - 61s 1ms/sample - loss: 0.4121 - acc: 0.8508\n",
      "Epoch 4/10\n",
      "54000/54000 [==============================] - 61s 1ms/sample - loss: 0.3850 - acc: 0.8598\n",
      "Epoch 5/10\n",
      "54000/54000 [==============================] - 64s 1ms/sample - loss: 0.3676 - acc: 0.8653\n",
      "Epoch 6/10\n",
      "54000/54000 [==============================] - 62s 1ms/sample - loss: 0.3578 - acc: 0.8686\n",
      "Epoch 7/10\n",
      "54000/54000 [==============================] - 61s 1ms/sample - loss: 0.3508 - acc: 0.8726\n",
      "Epoch 8/10\n",
      "54000/54000 [==============================] - 62s 1ms/sample - loss: 0.3409 - acc: 0.8759\n",
      "Epoch 9/10\n",
      "54000/54000 [==============================] - 62s 1ms/sample - loss: 0.3385 - acc: 0.8773\n",
      "Epoch 10/10\n",
      "54000/54000 [==============================] - 77s 1ms/sample - loss: 0.3339 - acc: 0.8795\n"
     ]
    },
    {
     "data": {
      "image/png": "[encoded data removed]",
      "text/plain": [
       "<Figure size 864x360 with 2 Axes>"
      ]
     },
     "metadata": {
      "needs_background": "light"
     },
     "output_type": "display_data"
    }
   ],
   "source": [
    "input_layer = keras.layers.Convolution2D(8, kernel_size=(3,3), padding=\"same\", activation='relu', input_shape=(28,28,1))\n",
    "dropout_1 = keras.layers.Dropout((0.3))\n",
    "conv_2 = keras.layers.Convolution2D(8, kernel_size=(3,3), padding=\"same\", activation='relu')\n",
    "dropout_3 = keras.layers.Dropout((0.3))\n",
    "max_pool_4 = keras.layers.MaxPooling2D(2,2)\n",
    "dropout_5 = keras.layers.Dropout((0.3))\n",
    "\n",
    "model_mc2 = keras.Sequential([\n",
    "    input_layer,\n",
    "    dropout_1,\n",
    "    conv_2,\n",
    "    dropout_3,\n",
    "    max_pool_4,\n",
    "    dropout_5,\n",
    "    keras.layers.Convolution2D(16, kernel_size=(3,3), padding=\"same\", activation='relu'),\n",
    "    keras.layers.Dropout((0.3)),\n",
    "    keras.layers.Flatten(),\n",
    "    keras.layers.Dropout((0.3)),\n",
    "    keras.layers.Dense(9, activation='softmax')\n",
    "])\n",
    "\n",
    "model_mc2.compile(loss='categorical_crossentropy', optimizer='adam', metrics=['accuracy'])\n",
    "model_mc2.summary()\n",
    "\n",
    "import tensorflow.keras.backend as K\n",
    "model_mc2_pred = K.function([model_mc2.input, K.learning_phase()], [model_mc2.output])\n",
    "\n",
    "history_mc2 = model_mc2.fit(train_x, train_y, epochs = 10)\n",
    "\n",
    "plt.figure(figsize=(12,5))\n",
    "plt.subplot(1,2,1)\n",
    "plt.plot(history_mc2.history['acc'])\n",
    "#plt.plot(history_b.history['val_accuracy'])\n",
    "plt.ylim(0,1)\n",
    "plt.title('model accuracy')\n",
    "plt.ylabel('accuracy')\n",
    "plt.xlabel('epoch')\n",
    "plt.legend(['train', 'valid'], loc='lower right')\n",
    "plt.subplot(1,2,2)\n",
    "plt.plot(history_mc2.history['loss'])\n",
    "#plt.plot(history_b.history['va_loss'])\n",
    "plt.title('model loss')\n",
    "plt.ylabel('loss')\n",
    "plt.xlabel('epoch')\n",
    "plt.legend(['train', 'valid'], loc='upper right')\n",
    "plt.show()"
   ]
  },
  {
   "cell_type": "code",
   "execution_count": 75,
   "metadata": {},
   "outputs": [
    {
     "name": "stdout",
     "output_type": "stream",
     "text": [
      "9000/9000 [==============================] - 2s 245us/sample - loss: 0.3184 - acc: 0.8899\n"
     ]
    },
    {
     "data": {
      "text/plain": [
       "[0.3183999333116743, 0.8898889]"
      ]
     },
     "execution_count": 75,
     "metadata": {},
     "output_type": "execute_result"
    }
   ],
   "source": [
    "model_mc2.evaluate(test_x_reduced, test_y_reduced) #test the network with adjusted test set"
   ]
  },
  {
   "cell_type": "code",
   "execution_count": 76,
   "metadata": {},
   "outputs": [],
   "source": [
    "model_mc2.save('A_008_model_mc.h5') #save the model"
   ]
  },
  {
   "cell_type": "code",
   "execution_count": 12,
   "metadata": {},
   "outputs": [],
   "source": [
    "model_mc2 = tf.keras.models.load_model('A_008_model_mc.h5')"
   ]
  },
  {
   "cell_type": "code",
   "execution_count": 23,
   "metadata": {},
   "outputs": [],
   "source": [
    "import tensorflow.keras.backend as K\n",
    "model_mc2_pred = K.function([model_mc2.input, K.learning_phase()], [model_mc2.output])"
   ]
  },
  {
   "cell_type": "markdown",
   "metadata": {},
   "source": [
    "## test with a picture from a class the network has seen before"
   ]
  },
  {
   "cell_type": "code",
   "execution_count": 78,
   "metadata": {},
   "outputs": [],
   "source": [
    "# set picture\n",
    "picture = 100\n",
    "picture_end = picture+1"
   ]
  },
  {
   "cell_type": "code",
   "execution_count": 79,
   "metadata": {},
   "outputs": [
    {
     "data": {
      "image/png": "[encoded data removed]",
      "text/plain": [
       "<Figure size 432x288 with 9 Axes>"
      ]
     },
     "metadata": {
      "needs_background": "light"
     },
     "output_type": "display_data"
    },
    {
     "data": {
      "image/png": "[encoded data removed]",
      "text/plain": [
       "<Figure size 432x288 with 3 Axes>"
      ]
     },
     "metadata": {
      "needs_background": "light"
     },
     "output_type": "display_data"
    },
    {
     "name": "stdout",
     "output_type": "stream",
     "text": [
      "[5.5645144e-01 1.3321953e-02 4.1413442e-03 2.0714293e-01 1.8304970e-02\n",
      " 7.6182607e-07 1.9907328e-01 2.5465229e-06 1.5608403e-03]\n"
     ]
    }
   ],
   "source": [
    "x = [0,1,2,3,4,5,6,7,8]\n",
    "predictions = model_mc2_pred([zero_x[picture:picture_end], 1])[0]\n",
    "for i in range(100):\n",
    "    pred = model_mc2_pred([zero_x[picture:picture_end], 1])[0]\n",
    "    predictions = np.append(predictions, pred, axis = 0)\n",
    "    \n",
    "for i in range(9):\n",
    "    plt.subplot(3,3,i+1)\n",
    "    plt.bar(x, predictions[i], color = ['black'])\n",
    "    plt.xticks(np.arange(9), class_names_adj, rotation = 90)\n",
    "    #plt.yticks([0.25, 0.5, 0.75, 1.0])\n",
    "    plt.ylim([0,1])\n",
    "plt.show()\n",
    "    #print(i, predictions)\n",
    "#x = [1,2,3,4,5,6,7,8,9]\n",
    "#y = pred[0].tolist()\n",
    "#plt.bar(x, y)\n",
    "#print(predictions)\n",
    "plt.subplot(2,3,1)\n",
    "plt.yticks([0,2,4,6,8])\n",
    "plt.imshow(predictions[0:9], cmap='binary', interpolation='none')\n",
    "plt.ylabel('run')\n",
    "#plt.xlabel('class')\n",
    "plt.xticks(np.arange(9), class_names_adj, rotation = 90)\n",
    "plt.title('heatmap predictions')\n",
    "plt.subplot(2,3,2)\n",
    "plt.xticks([])\n",
    "plt.yticks([])\n",
    "plt.imshow(np.squeeze(zero_x[picture:picture_end][0], axis = 2), cmap=plt.cm.binary)\n",
    "plt.xlabel(class_names_adj[zero_y[picture_end]])\n",
    "plt.title('image')\n",
    "\n",
    "#### try to also show the barchart with the average probability\n",
    "d = predictions\n",
    "predictions_mean = d.mean(axis=0)\n",
    "x = [0,1,2,3,4,5,6,7,8]\n",
    "\n",
    "plt.subplot(2,3,3)\n",
    "plt.bar(x,predictions_mean, color = ['black']) #color=(0.3,0.3,0.3,1.0)\n",
    "plt.xticks(np.arange(9), class_names_adj, rotation = 90)\n",
    "plt.title('average probability')\n",
    "\n",
    "plt.show()\n",
    "print(predictions_mean)"
   ]
  },
  {
   "cell_type": "markdown",
   "metadata": {},
   "source": [
    "# Compare the two networks with each other"
   ]
  },
  {
   "cell_type": "code",
   "execution_count": 13,
   "metadata": {},
   "outputs": [
    {
     "name": "stdout",
     "output_type": "stream",
     "text": [
      "9000/9000 [==============================] - 2s 192us/sample - loss: 2.3807 - acc: 0.2186\n"
     ]
    },
    {
     "data": {
      "text/plain": [
       "[2.380683449215359, 0.21855555]"
      ]
     },
     "execution_count": 13,
     "metadata": {},
     "output_type": "execute_result"
    }
   ],
   "source": [
    "#first on the reduced test set, where the class 9 has been deleted\n",
    "model_b.evaluate(test_x_reduced, test_y_reduced)"
   ]
  },
  {
   "cell_type": "code",
   "execution_count": 14,
   "metadata": {},
   "outputs": [
    {
     "name": "stdout",
     "output_type": "stream",
     "text": [
      "9000/9000 [==============================] - 3s 286us/sample - loss: 0.3184 - acc: 0.8899\n"
     ]
    },
    {
     "data": {
      "text/plain": [
       "[0.3183999333116743, 0.8898889]"
      ]
     },
     "execution_count": 14,
     "metadata": {},
     "output_type": "execute_result"
    }
   ],
   "source": [
    "model_mc2.evaluate(test_x_reduced, test_y_reduced)"
   ]
  },
  {
   "cell_type": "markdown",
   "metadata": {},
   "source": [
    "# Check whether BNN can detect unseen class"
   ]
  },
  {
   "cell_type": "code",
   "execution_count": 18,
   "metadata": {},
   "outputs": [],
   "source": [
    "def uncertainty_predict(picture, prediction_function, number_of_classes, number_of_predictions):\n",
    "    n = number_of_predictions\n",
    "    m = number_of_classes\n",
    "    \n",
    "    # create an empty list to store the predictions in, the maximal probability is the predicted class\n",
    "    l = []\n",
    "    for i in range(n):\n",
    "        predictions = prediction_function([picture, 1])[0]\n",
    "        l.append(predictions.argmax())\n",
    "    \n",
    "    #create a list to store the purity values in\n",
    "    p = []\n",
    "    for j in range(m):\n",
    "        purity = l.count(j)/n\n",
    "        p.append(purity)\n",
    "    \n",
    "    return l, p"
   ]
  },
  {
   "cell_type": "code",
   "execution_count": 19,
   "metadata": {},
   "outputs": [],
   "source": [
    "def predict(dataset, prediction_function, number_of_classes, number_of_predictions, max_deviation=0.0, additional_class=None):\n",
    "    #create a list to store the results in\n",
    "    if additional_class == None:\n",
    "        e = number_of_classes + 1 #to mark a datapoint which network is not certain about\n",
    "    else: \n",
    "        e = additional_class\n",
    "        \n",
    "    r = []\n",
    "    cl = [] # create a  list just with the classes\n",
    "    n = dataset.shape[0] #number of datapoints in the dataset\n",
    "\n",
    "    for i in range(n):\n",
    "        probabilities = uncertainty_predict(dataset[i:i+1], prediction_function, number_of_classes, number_of_predictions)[1]\n",
    "        p = max(probabilities)\n",
    "        v = round(p*(1-p), 2)\n",
    "        s = round(v**(1/2), 2)\n",
    "        # get the class\n",
    "        c = probabilities.index(max(probabilities))\n",
    "        # get the class if uncertainty is set\n",
    "        \n",
    "        if max_deviation == 0:\n",
    "            d = c\n",
    "        else:\n",
    "            if s > max_deviation:\n",
    "                d = e\n",
    "            else:\n",
    "                d = c\n",
    "        #d = c\n",
    "        \n",
    "        r.append([c, d, p, v, s])\n",
    "        \n",
    "        cl.append(d)\n",
    "        \n",
    "    return r, cl"
   ]
  },
  {
   "cell_type": "code",
   "execution_count": 32,
   "metadata": {},
   "outputs": [],
   "source": [
    "pred, classes = predict(nine_x, model_mc2_pred, 9, 100, 0.2, 9)"
   ]
  },
  {
   "cell_type": "code",
   "execution_count": 33,
   "metadata": {},
   "outputs": [
    {
     "data": {
      "text/plain": [
       "0.266"
      ]
     },
     "execution_count": 33,
     "metadata": {},
     "output_type": "execute_result"
    }
   ],
   "source": [
    "classes.count(9)/nine_x.shape[0]"
   ]
  },
  {
   "cell_type": "code",
   "execution_count": 39,
   "metadata": {},
   "outputs": [
    {
     "data": {
      "text/plain": [
       "0    738\n",
       "1    738\n",
       "2    738\n",
       "3    738\n",
       "4    738\n",
       "dtype: int64"
      ]
     },
     "execution_count": 39,
     "metadata": {},
     "output_type": "execute_result"
    }
   ],
   "source": [
    "pd.DataFrame(pred).where(pd.DataFrame(pred)[4]>=0.10).count()"
   ]
  },
  {
   "cell_type": "markdown",
   "metadata": {},
   "source": [
    "# how does the bnn with special prediction perform on the test dataset"
   ]
  },
  {
   "cell_type": "code",
   "execution_count": 60,
   "metadata": {},
   "outputs": [],
   "source": [
    "pred, classes = predict(test_x, model_mc2_pred, 9, 150, 0.4, 9)"
   ]
  },
  {
   "cell_type": "code",
   "execution_count": 74,
   "metadata": {},
   "outputs": [],
   "source": [
    "import pandas as pd"
   ]
  },
  {
   "cell_type": "code",
   "execution_count": 75,
   "metadata": {},
   "outputs": [],
   "source": [
    "pd = pd.DataFrame(pred)\n",
    "pd['soll'] = test_y"
   ]
  },
  {
   "cell_type": "code",
   "execution_count": 64,
   "metadata": {},
   "outputs": [
    {
     "data": {
      "text/plain": [
       "8034"
      ]
     },
     "execution_count": 64,
     "metadata": {},
     "output_type": "execute_result"
    }
   ],
   "source": [
    "(pd[0] == test_y).sum() #8028/10000 = 0.82 accuracy with the predicitons based on multiple predictions with n = 100 and dev > 0.2"
   ]
  },
  {
   "cell_type": "code",
   "execution_count": 65,
   "metadata": {},
   "outputs": [
    {
     "data": {
      "text/plain": [
       "6963"
      ]
     },
     "execution_count": 65,
     "metadata": {},
     "output_type": "execute_result"
    }
   ],
   "source": [
    "(pd[1] == test_y).sum() #6754/10000 = 0.78 accuracy when the \"shaky ones\" are given the label of the not seen class (aka 9) with n = 100 and dev > 0.2"
   ]
  },
  {
   "cell_type": "code",
   "execution_count": 66,
   "metadata": {},
   "outputs": [
    {
     "data": {
      "text/plain": [
       "3337"
      ]
     },
     "execution_count": 66,
     "metadata": {},
     "output_type": "execute_result"
    }
   ],
   "source": [
    "(pd[4] >= 0.2).sum() #--> 0.34% of the predictions have a deviation of more than 20% with n = 100 and dev > 0.2"
   ]
  },
  {
   "cell_type": "code",
   "execution_count": 87,
   "metadata": {},
   "outputs": [],
   "source": [
    "pd_check = pd[pd[1] != test_y]"
   ]
  },
  {
   "cell_type": "code",
   "execution_count": 94,
   "metadata": {},
   "outputs": [
    {
     "data": {
      "text/html": [
       "<div>\n",
       "<style scoped>\n",
       "    .dataframe tbody tr th:only-of-type {\n",
       "        vertical-align: middle;\n",
       "    }\n",
       "\n",
       "    .dataframe tbody tr th {\n",
       "        vertical-align: top;\n",
       "    }\n",
       "\n",
       "    .dataframe thead th {\n",
       "        text-align: right;\n",
       "    }\n",
       "</style>\n",
       "<table border=\"1\" class=\"dataframe\">\n",
       "  <thead>\n",
       "    <tr style=\"text-align: right;\">\n",
       "      <th></th>\n",
       "      <th>0</th>\n",
       "      <th>1</th>\n",
       "      <th>2</th>\n",
       "      <th>3</th>\n",
       "      <th>4</th>\n",
       "      <th>soll</th>\n",
       "    </tr>\n",
       "  </thead>\n",
       "  <tbody>\n",
       "    <tr>\n",
       "      <th>count</th>\n",
       "      <td>1000.00000</td>\n",
       "      <td>1000.000000</td>\n",
       "      <td>1000.000000</td>\n",
       "      <td>1000.000000</td>\n",
       "      <td>1000.000000</td>\n",
       "      <td>1000.0</td>\n",
       "    </tr>\n",
       "    <tr>\n",
       "      <th>mean</th>\n",
       "      <td>6.35200</td>\n",
       "      <td>7.760000</td>\n",
       "      <td>0.873093</td>\n",
       "      <td>0.089050</td>\n",
       "      <td>0.238790</td>\n",
       "      <td>9.0</td>\n",
       "    </tr>\n",
       "    <tr>\n",
       "      <th>std</th>\n",
       "      <td>0.94286</td>\n",
       "      <td>1.302343</td>\n",
       "      <td>0.148863</td>\n",
       "      <td>0.089203</td>\n",
       "      <td>0.178432</td>\n",
       "      <td>0.0</td>\n",
       "    </tr>\n",
       "    <tr>\n",
       "      <th>min</th>\n",
       "      <td>5.00000</td>\n",
       "      <td>5.000000</td>\n",
       "      <td>0.360000</td>\n",
       "      <td>0.000000</td>\n",
       "      <td>0.000000</td>\n",
       "      <td>9.0</td>\n",
       "    </tr>\n",
       "    <tr>\n",
       "      <th>25%</th>\n",
       "      <td>5.00000</td>\n",
       "      <td>7.000000</td>\n",
       "      <td>0.780000</td>\n",
       "      <td>0.010000</td>\n",
       "      <td>0.100000</td>\n",
       "      <td>9.0</td>\n",
       "    </tr>\n",
       "    <tr>\n",
       "      <th>50%</th>\n",
       "      <td>7.00000</td>\n",
       "      <td>7.000000</td>\n",
       "      <td>0.940000</td>\n",
       "      <td>0.060000</td>\n",
       "      <td>0.240000</td>\n",
       "      <td>9.0</td>\n",
       "    </tr>\n",
       "    <tr>\n",
       "      <th>75%</th>\n",
       "      <td>7.00000</td>\n",
       "      <td>9.000000</td>\n",
       "      <td>0.993333</td>\n",
       "      <td>0.170000</td>\n",
       "      <td>0.410000</td>\n",
       "      <td>9.0</td>\n",
       "    </tr>\n",
       "    <tr>\n",
       "      <th>max</th>\n",
       "      <td>8.00000</td>\n",
       "      <td>9.000000</td>\n",
       "      <td>1.000000</td>\n",
       "      <td>0.250000</td>\n",
       "      <td>0.500000</td>\n",
       "      <td>9.0</td>\n",
       "    </tr>\n",
       "  </tbody>\n",
       "</table>\n",
       "</div>"
      ],
      "text/plain": [
       "                0            1            2            3            4    soll\n",
       "count  1000.00000  1000.000000  1000.000000  1000.000000  1000.000000  1000.0\n",
       "mean      6.35200     7.760000     0.873093     0.089050     0.238790     9.0\n",
       "std       0.94286     1.302343     0.148863     0.089203     0.178432     0.0\n",
       "min       5.00000     5.000000     0.360000     0.000000     0.000000     9.0\n",
       "25%       5.00000     7.000000     0.780000     0.010000     0.100000     9.0\n",
       "50%       7.00000     7.000000     0.940000     0.060000     0.240000     9.0\n",
       "75%       7.00000     9.000000     0.993333     0.170000     0.410000     9.0\n",
       "max       8.00000     9.000000     1.000000     0.250000     0.500000     9.0"
      ]
     },
     "execution_count": 94,
     "metadata": {},
     "output_type": "execute_result"
    }
   ],
   "source": [
    "pd[pd['soll'] == 9].describe()"
   ]
  },
  {
   "cell_type": "code",
   "execution_count": 97,
   "metadata": {},
   "outputs": [
    {
     "data": {
      "text/plain": [
       "<matplotlib.axes._subplots.AxesSubplot at 0x20b13458f98>"
      ]
     },
     "execution_count": 97,
     "metadata": {},
     "output_type": "execute_result"
    },
    {
     "data": {
      "image/png": "[encoded data removed]",
      "text/plain": [
       "<Figure size 432x288 with 1 Axes>"
      ]
     },
     "metadata": {
      "needs_background": "light"
     },
     "output_type": "display_data"
    }
   ],
   "source": [
    "pd_check[pd_check['soll'] == 9][4].hist()"
   ]
  },
  {
   "cell_type": "code",
   "execution_count": 95,
   "metadata": {},
   "outputs": [
    {
     "data": {
      "text/html": [
       "<div>\n",
       "<style scoped>\n",
       "    .dataframe tbody tr th:only-of-type {\n",
       "        vertical-align: middle;\n",
       "    }\n",
       "\n",
       "    .dataframe tbody tr th {\n",
       "        vertical-align: top;\n",
       "    }\n",
       "\n",
       "    .dataframe thead th {\n",
       "        text-align: right;\n",
       "    }\n",
       "</style>\n",
       "<table border=\"1\" class=\"dataframe\">\n",
       "  <thead>\n",
       "    <tr style=\"text-align: right;\">\n",
       "      <th></th>\n",
       "      <th>0</th>\n",
       "      <th>1</th>\n",
       "      <th>2</th>\n",
       "      <th>3</th>\n",
       "      <th>4</th>\n",
       "      <th>soll</th>\n",
       "    </tr>\n",
       "  </thead>\n",
       "  <tbody>\n",
       "    <tr>\n",
       "      <th>count</th>\n",
       "      <td>9000.000000</td>\n",
       "      <td>9000.000000</td>\n",
       "      <td>9000.000000</td>\n",
       "      <td>9000.000000</td>\n",
       "      <td>9000.000000</td>\n",
       "      <td>9000.000000</td>\n",
       "    </tr>\n",
       "    <tr>\n",
       "      <th>mean</th>\n",
       "      <td>3.982667</td>\n",
       "      <td>5.397889</td>\n",
       "      <td>0.924273</td>\n",
       "      <td>0.051173</td>\n",
       "      <td>0.137557</td>\n",
       "      <td>4.000000</td>\n",
       "    </tr>\n",
       "    <tr>\n",
       "      <th>std</th>\n",
       "      <td>2.566448</td>\n",
       "      <td>3.138542</td>\n",
       "      <td>0.138078</td>\n",
       "      <td>0.082011</td>\n",
       "      <td>0.179358</td>\n",
       "      <td>2.582132</td>\n",
       "    </tr>\n",
       "    <tr>\n",
       "      <th>min</th>\n",
       "      <td>0.000000</td>\n",
       "      <td>0.000000</td>\n",
       "      <td>0.293333</td>\n",
       "      <td>0.000000</td>\n",
       "      <td>0.000000</td>\n",
       "      <td>0.000000</td>\n",
       "    </tr>\n",
       "    <tr>\n",
       "      <th>25%</th>\n",
       "      <td>2.000000</td>\n",
       "      <td>3.000000</td>\n",
       "      <td>0.920000</td>\n",
       "      <td>0.000000</td>\n",
       "      <td>0.000000</td>\n",
       "      <td>2.000000</td>\n",
       "    </tr>\n",
       "    <tr>\n",
       "      <th>50%</th>\n",
       "      <td>4.000000</td>\n",
       "      <td>6.000000</td>\n",
       "      <td>1.000000</td>\n",
       "      <td>0.000000</td>\n",
       "      <td>0.000000</td>\n",
       "      <td>4.000000</td>\n",
       "    </tr>\n",
       "    <tr>\n",
       "      <th>75%</th>\n",
       "      <td>6.000000</td>\n",
       "      <td>9.000000</td>\n",
       "      <td>1.000000</td>\n",
       "      <td>0.070000</td>\n",
       "      <td>0.260000</td>\n",
       "      <td>6.000000</td>\n",
       "    </tr>\n",
       "    <tr>\n",
       "      <th>max</th>\n",
       "      <td>8.000000</td>\n",
       "      <td>9.000000</td>\n",
       "      <td>1.000000</td>\n",
       "      <td>0.250000</td>\n",
       "      <td>0.500000</td>\n",
       "      <td>8.000000</td>\n",
       "    </tr>\n",
       "  </tbody>\n",
       "</table>\n",
       "</div>"
      ],
      "text/plain": [
       "                 0            1            2            3            4  \\\n",
       "count  9000.000000  9000.000000  9000.000000  9000.000000  9000.000000   \n",
       "mean      3.982667     5.397889     0.924273     0.051173     0.137557   \n",
       "std       2.566448     3.138542     0.138078     0.082011     0.179358   \n",
       "min       0.000000     0.000000     0.293333     0.000000     0.000000   \n",
       "25%       2.000000     3.000000     0.920000     0.000000     0.000000   \n",
       "50%       4.000000     6.000000     1.000000     0.000000     0.000000   \n",
       "75%       6.000000     9.000000     1.000000     0.070000     0.260000   \n",
       "max       8.000000     9.000000     1.000000     0.250000     0.500000   \n",
       "\n",
       "              soll  \n",
       "count  9000.000000  \n",
       "mean      4.000000  \n",
       "std       2.582132  \n",
       "min       0.000000  \n",
       "25%       2.000000  \n",
       "50%       4.000000  \n",
       "75%       6.000000  \n",
       "max       8.000000  "
      ]
     },
     "execution_count": 95,
     "metadata": {},
     "output_type": "execute_result"
    }
   ],
   "source": [
    "pd[pd['soll'] != 9].describe()"
   ]
  },
  {
   "cell_type": "code",
   "execution_count": 98,
   "metadata": {},
   "outputs": [
    {
     "data": {
      "text/plain": [
       "<matplotlib.axes._subplots.AxesSubplot at 0x20b13444940>"
      ]
     },
     "execution_count": 98,
     "metadata": {},
     "output_type": "execute_result"
    },
    {
     "data": {
      "image/png": "[encoded data removed]",
      "text/plain": [
       "<Figure size 432x288 with 1 Axes>"
      ]
     },
     "metadata": {
      "needs_background": "light"
     },
     "output_type": "display_data"
    }
   ],
   "source": [
    "pd[pd['soll'] != 9][4].hist()"
   ]
  },
  {
   "cell_type": "code",
   "execution_count": null,
   "metadata": {},
   "outputs": [],
   "source": []
  }
 ],
 "metadata": {
  "kernelspec": {
   "display_name": "venv_kernel",
   "language": "python",
   "name": "venv_kernel"
  },
  "language_info": {
   "codemirror_mode": {
    "name": "ipython",
    "version": 3
   },
   "file_extension": ".py",
   "mimetype": "text/x-python",
   "name": "python",
   "nbconvert_exporter": "python",
   "pygments_lexer": "ipython3",
   "version": "3.7.3"
  }
 },
 "nbformat": 4,
 "nbformat_minor": 2
}
