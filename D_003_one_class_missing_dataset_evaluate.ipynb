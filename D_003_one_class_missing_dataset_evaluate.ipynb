{
 "cells": [
  {
   "cell_type": "markdown",
   "metadata": {},
   "source": [
    "Evaluate the best prediction methods for the Hypothesis A with the small training set\n",
    "- Variational Inference - Bernoulli and Average Predict methods as well as standard prediction\n",
    "- Monte Carlo Dropout - Bernoulli and Average predict methods as well as standard prediction\n",
    "- Baseline Modell / CNN with standard prediction method"
   ]
  },
  {
   "cell_type": "code",
   "execution_count": 52,
   "metadata": {},
   "outputs": [
    {
     "name": "stdout",
     "output_type": "stream",
     "text": [
      "tensorflow:  2.0.0\n",
      "tensorflow_prob:  0.8.0\n"
     ]
    }
   ],
   "source": [
    "# import the needed packages and check version\n",
    "import tensorflow as tf\n",
    "from tensorflow import keras\n",
    "import tensorflow_probability as tfp\n",
    "\n",
    "# Helper libraries\n",
    "import numpy as np\n",
    "import pandas as pd\n",
    "import matplotlib.pyplot as plt\n",
    "\n",
    "print(\"tensorflow: \", tf.__version__) #2.0.0\n",
    "print(\"tensorflow_prob: \", tfp.__version__) #"
   ]
  },
  {
   "cell_type": "code",
   "execution_count": 53,
   "metadata": {},
   "outputs": [],
   "source": [
    "#import the helper functions for evaluation\n",
    "from helper_functions import m_predict_vi as apvi \n",
    "from helper_functions import b_predict_vi as bpvi\n",
    "from helper_functions import b_predict_mc as bpmc\n",
    "from helper_functions import m_predict_mc as apmc"
   ]
  },
  {
   "cell_type": "code",
   "execution_count": 54,
   "metadata": {},
   "outputs": [],
   "source": [
    "from tensorflow.python.framework.ops import disable_eager_execution\n",
    "disable_eager_execution()"
   ]
  },
  {
   "cell_type": "code",
   "execution_count": 55,
   "metadata": {},
   "outputs": [],
   "source": [
    "#import the fashion mnist dataset (from Zalando)\n",
    "fashion_mnist = keras.datasets.fashion_mnist\n",
    "data = fashion_mnist.load_data()\n",
    "(train_images, train_labels), (test_images, test_labels) = data\n",
    "#(train_images, train_labels), (test_images, test_labels) = fashion_mnist.load_data()"
   ]
  },
  {
   "cell_type": "code",
   "execution_count": 56,
   "metadata": {},
   "outputs": [],
   "source": [
    "class_names = ['T-shirt/top', 'Trouser', 'Pullover', 'Dress', 'Coat',\n",
    "               'Sandal', 'Shirt', 'Sneaker', 'Bag', 'Ankle boot']"
   ]
  },
  {
   "cell_type": "code",
   "execution_count": 57,
   "metadata": {},
   "outputs": [],
   "source": [
    "#preprocess the images\n",
    "train_x = np.expand_dims(train_images/255.0, axis=3)\n",
    "test_x = np.expand_dims(test_images/255.0, axis=3)"
   ]
  },
  {
   "cell_type": "code",
   "execution_count": 58,
   "metadata": {},
   "outputs": [],
   "source": [
    "train_y = train_labels\n",
    "test_y = test_labels"
   ]
  },
  {
   "cell_type": "markdown",
   "metadata": {},
   "source": [
    "# get the models"
   ]
  },
  {
   "cell_type": "code",
   "execution_count": 8,
   "metadata": {},
   "outputs": [
    {
     "name": "stderr",
     "output_type": "stream",
     "text": [
      "WARNING: Logging before flag parsing goes to stderr.\n",
      "W1201 08:54:59.915234  9316 deprecation.py:506] From C:\\Users\\annar\\Anaconda3\\envs\\ml_env\\lib\\site-packages\\tensorflow_core\\python\\ops\\resource_variable_ops.py:1630: calling BaseResourceVariable.__init__ (from tensorflow.python.ops.resource_variable_ops) with constraint is deprecated and will be removed in a future version.\n",
      "Instructions for updating:\n",
      "If using Keras pass *_constraint arguments to layers.\n"
     ]
    }
   ],
   "source": [
    "model = tf.keras.models.load_model('A_008_model_b.h5')"
   ]
  },
  {
   "cell_type": "code",
   "execution_count": 9,
   "metadata": {},
   "outputs": [],
   "source": [
    "kernel_divergence_fn=lambda q, p, _: tfp.distributions.kl_divergence(q, p) / (train_x.shape[0] *1.0)"
   ]
  },
  {
   "cell_type": "code",
   "execution_count": 10,
   "metadata": {},
   "outputs": [
    {
     "name": "stderr",
     "output_type": "stream",
     "text": [
      "W1201 08:55:03.966722  9316 deprecation.py:323] From C:\\Users\\annar\\Anaconda3\\envs\\ml_env\\lib\\site-packages\\tensorflow_probability\\python\\layers\\util.py:104: Layer.add_variable (from tensorflow.python.keras.engine.base_layer) is deprecated and will be removed in a future version.\n",
      "Instructions for updating:\n",
      "Please use `layer.add_weight` method instead.\n"
     ]
    }
   ],
   "source": [
    "model_vi = keras.Sequential([\n",
    "    tfp.layers.Convolution2DFlipout(8, kernel_size=(3,3), padding=\"same\", activation='relu', \n",
    "                                    kernel_divergence_fn=kernel_divergence_fn, input_shape=(28,28,1)),\n",
    "    tfp.layers.Convolution2DFlipout(8, kernel_size=(3,3), padding=\"same\", activation='relu', \n",
    "                                    kernel_divergence_fn = kernel_divergence_fn),\n",
    "    keras.layers.MaxPooling2D(2,2),\n",
    "    tfp.layers.Convolution2DFlipout(16, kernel_size=(3,3), padding=\"same\", activation='relu', \n",
    "                                    kernel_divergence_fn=kernel_divergence_fn),\n",
    "    keras.layers.Flatten(),\n",
    "    #keras.layers.Dropout((0.5)),\n",
    "    tfp.layers.DenseFlipout(9, activation='softmax', kernel_divergence_fn=kernel_divergence_fn)\n",
    "])"
   ]
  },
  {
   "cell_type": "code",
   "execution_count": 11,
   "metadata": {},
   "outputs": [],
   "source": [
    "#model_vi = tf.keras.models.load_model('B_004_model_vi.h5')\n",
    "model_vi.load_weights('A_010_model_vi.h5')"
   ]
  },
  {
   "cell_type": "code",
   "execution_count": 12,
   "metadata": {},
   "outputs": [],
   "source": [
    "model_mc2 = tf.keras.models.load_model('A_008_model_mc.h5')"
   ]
  },
  {
   "cell_type": "code",
   "execution_count": 13,
   "metadata": {},
   "outputs": [],
   "source": [
    "import tensorflow.keras.backend as K\n",
    "model_mc2_pred = K.function([model_mc2.input, K.learning_phase()], [model_mc2.output])"
   ]
  },
  {
   "cell_type": "markdown",
   "metadata": {},
   "source": [
    "# Evaluate the models and prediction functions"
   ]
  },
  {
   "cell_type": "markdown",
   "metadata": {},
   "source": [
    "We go for one uncertainty measure and order the test dataset accordingly and then check how the accuracy develops"
   ]
  },
  {
   "cell_type": "code",
   "execution_count": 8,
   "metadata": {},
   "outputs": [],
   "source": [
    "results = pd.read_csv(\"D_003_results.csv\", \";\")"
   ]
  },
  {
   "cell_type": "code",
   "execution_count": null,
   "metadata": {},
   "outputs": [],
   "source": [
    "# get the bernoulli predict with the variational inference model\n",
    "# the testing before showed that the best results were achieved with 25 or 10 pictures per prediction, since those are very\n",
    "# close I will go with 10 predictions per image since this is computationally less demanding\n",
    "# 18:38\n",
    "bern_vi = bpvi.bern_predict_vi(test_x, model_vi, 9, 25)"
   ]
  },
  {
   "cell_type": "code",
   "execution_count": null,
   "metadata": {},
   "outputs": [],
   "source": [
    "df_pred = pd.DataFrame(bern_vi)\n",
    "results = pd.DataFrame(df_pred[3])\n",
    "results.columns = ['sort_order']"
   ]
  },
  {
   "cell_type": "code",
   "execution_count": null,
   "metadata": {},
   "outputs": [],
   "source": [
    "results['b_vi'] = df_pred[0]"
   ]
  },
  {
   "cell_type": "code",
   "execution_count": null,
   "metadata": {},
   "outputs": [],
   "source": [
    "results.to_csv(\"D_003_results.csv\", \";\")"
   ]
  },
  {
   "cell_type": "code",
   "execution_count": 15,
   "metadata": {},
   "outputs": [
    {
     "name": "stderr",
     "output_type": "stream",
     "text": [
      "C:\\Users\\annar\\MAS Data Science\\Masterarbeit\\helper_functions\\m_predict_vi.py:18: FutureWarning: \n",
      "The current behaviour of 'Series.argmax' is deprecated, use 'idxmax'\n",
      "instead.\n",
      "The behavior of 'argmax' will be corrected to return the positional\n",
      "maximum in the future. For now, use 'series.values.argmax' or\n",
      "'np.argmax(np.array(values))' to get the position of the maximum\n",
      "row.\n",
      "  max_value = mean.argmax()\n"
     ]
    }
   ],
   "source": [
    "avg_vi = apvi.average_predict_vi(test_x, model_vi, 9, 25)"
   ]
  },
  {
   "cell_type": "code",
   "execution_count": 16,
   "metadata": {},
   "outputs": [],
   "source": [
    "p = pd.DataFrame(avg_vi)\n",
    "results['a_vi'] = p[0]\n",
    "results['a_vi_std'] = p[3]"
   ]
  },
  {
   "cell_type": "code",
   "execution_count": 17,
   "metadata": {},
   "outputs": [],
   "source": [
    "results.to_csv(\"D_003_results.csv\", \";\")"
   ]
  },
  {
   "cell_type": "code",
   "execution_count": 18,
   "metadata": {},
   "outputs": [],
   "source": [
    "b_mc = bpmc.b_predict_mc(test_x, model_mc2_pred, 9, 10)"
   ]
  },
  {
   "cell_type": "code",
   "execution_count": 19,
   "metadata": {},
   "outputs": [],
   "source": [
    "q = pd.DataFrame(b_mc)\n",
    "results['b_mc'] = q[0]\n",
    "results['b_mc_std'] = q[3]"
   ]
  },
  {
   "cell_type": "code",
   "execution_count": 20,
   "metadata": {},
   "outputs": [],
   "source": [
    "results.to_csv(\"D_003_results.csv\", \";\")"
   ]
  },
  {
   "cell_type": "code",
   "execution_count": 21,
   "metadata": {},
   "outputs": [
    {
     "name": "stderr",
     "output_type": "stream",
     "text": [
      "C:\\Users\\annar\\MAS Data Science\\Masterarbeit\\helper_functions\\m_predict_mc.py:17: FutureWarning: \n",
      "The current behaviour of 'Series.argmax' is deprecated, use 'idxmax'\n",
      "instead.\n",
      "The behavior of 'argmax' will be corrected to return the positional\n",
      "maximum in the future. For now, use 'series.values.argmax' or\n",
      "'np.argmax(np.array(values))' to get the position of the maximum\n",
      "row.\n",
      "  max_value = mean.argmax()\n"
     ]
    }
   ],
   "source": [
    "a_mc = apmc.avg_predict_mc(test_x, model_mc2_pred, 9, 50)"
   ]
  },
  {
   "cell_type": "code",
   "execution_count": 22,
   "metadata": {},
   "outputs": [],
   "source": [
    "r = pd.DataFrame(a_mc)\n",
    "results['a_mc'] = r[0]\n",
    "results['a_mc_std'] = r[3]"
   ]
  },
  {
   "cell_type": "code",
   "execution_count": 23,
   "metadata": {},
   "outputs": [],
   "source": [
    "results.to_csv(\"D_003_results.csv\", \";\")"
   ]
  },
  {
   "cell_type": "code",
   "execution_count": null,
   "metadata": {},
   "outputs": [],
   "source": [
    "results = pd.read_csv(\"D_003_results.csv\", \";\")"
   ]
  },
  {
   "cell_type": "markdown",
   "metadata": {},
   "source": [
    "# do the predictions for the baseline model and the \"normal\" prediction methods"
   ]
  },
  {
   "cell_type": "code",
   "execution_count": 24,
   "metadata": {},
   "outputs": [],
   "source": [
    "cnn_pred = []\n",
    "for i in range(10000):\n",
    "    j = i + 1\n",
    "    pred = model.predict(test_x[i:j]).argmax()\n",
    "    cnn_pred.append(pred)\n",
    "    #print(pred)"
   ]
  },
  {
   "cell_type": "code",
   "execution_count": 25,
   "metadata": {},
   "outputs": [],
   "source": [
    "results['cnn'] = cnn_pred"
   ]
  },
  {
   "cell_type": "code",
   "execution_count": 26,
   "metadata": {},
   "outputs": [],
   "source": [
    "mc_pred = []\n",
    "for i in range(10000):\n",
    "    j = i + 1\n",
    "    pred = model_mc2.predict(test_x[i:j]).argmax()\n",
    "    mc_pred.append(pred)\n",
    "    #print(pred)"
   ]
  },
  {
   "cell_type": "code",
   "execution_count": 27,
   "metadata": {},
   "outputs": [],
   "source": [
    "results['mc'] = mc_pred"
   ]
  },
  {
   "cell_type": "code",
   "execution_count": 28,
   "metadata": {},
   "outputs": [],
   "source": [
    "vi_pred = []\n",
    "for i in range(10000):\n",
    "    j = i + 1\n",
    "    pred = model_vi.predict(test_x[i:j]).argmax()\n",
    "    vi_pred.append(pred)\n",
    "    #print(pred)"
   ]
  },
  {
   "cell_type": "code",
   "execution_count": 29,
   "metadata": {},
   "outputs": [],
   "source": [
    "results['vi'] = vi_pred"
   ]
  },
  {
   "cell_type": "code",
   "execution_count": 30,
   "metadata": {},
   "outputs": [],
   "source": [
    "results.to_csv(\"D_003_results.csv\", \";\")"
   ]
  },
  {
   "cell_type": "markdown",
   "metadata": {},
   "source": [
    "# create the tests"
   ]
  },
  {
   "cell_type": "code",
   "execution_count": 59,
   "metadata": {},
   "outputs": [],
   "source": [
    "results = pd.read_csv(\"D_003_results.csv\", \";\")"
   ]
  },
  {
   "cell_type": "code",
   "execution_count": 60,
   "metadata": {},
   "outputs": [],
   "source": [
    "results['soll'] = test_y"
   ]
  },
  {
   "cell_type": "code",
   "execution_count": 61,
   "metadata": {},
   "outputs": [],
   "source": [
    "testing = results.sort_values(by=['sort_order'], ascending = True)"
   ]
  },
  {
   "cell_type": "code",
   "execution_count": 62,
   "metadata": {},
   "outputs": [
    {
     "data": {
      "text/html": [
       "<div>\n",
       "<style scoped>\n",
       "    .dataframe tbody tr th:only-of-type {\n",
       "        vertical-align: middle;\n",
       "    }\n",
       "\n",
       "    .dataframe tbody tr th {\n",
       "        vertical-align: top;\n",
       "    }\n",
       "\n",
       "    .dataframe thead th {\n",
       "        text-align: right;\n",
       "    }\n",
       "</style>\n",
       "<table border=\"1\" class=\"dataframe\">\n",
       "  <thead>\n",
       "    <tr style=\"text-align: right;\">\n",
       "      <th></th>\n",
       "      <th>Unnamed: 0</th>\n",
       "      <th>Unnamed: 0.1</th>\n",
       "      <th>sort_order</th>\n",
       "      <th>b_vi</th>\n",
       "      <th>a_vi</th>\n",
       "      <th>a_vi_std</th>\n",
       "      <th>b_mc</th>\n",
       "      <th>b_mc_std</th>\n",
       "      <th>a_mc</th>\n",
       "      <th>a_mc_std</th>\n",
       "      <th>cnn</th>\n",
       "      <th>mc</th>\n",
       "      <th>vi</th>\n",
       "      <th>soll</th>\n",
       "    </tr>\n",
       "  </thead>\n",
       "  <tbody>\n",
       "    <tr>\n",
       "      <th>0</th>\n",
       "      <td>0</td>\n",
       "      <td>0</td>\n",
       "      <td>0.0</td>\n",
       "      <td>7</td>\n",
       "      <td>7</td>\n",
       "      <td>0.040358</td>\n",
       "      <td>7</td>\n",
       "      <td>0.0</td>\n",
       "      <td>7</td>\n",
       "      <td>0.122535</td>\n",
       "      <td>7</td>\n",
       "      <td>7</td>\n",
       "      <td>7</td>\n",
       "      <td>9</td>\n",
       "    </tr>\n",
       "    <tr>\n",
       "      <th>6188</th>\n",
       "      <td>6188</td>\n",
       "      <td>6188</td>\n",
       "      <td>0.0</td>\n",
       "      <td>1</td>\n",
       "      <td>1</td>\n",
       "      <td>0.000009</td>\n",
       "      <td>1</td>\n",
       "      <td>0.0</td>\n",
       "      <td>1</td>\n",
       "      <td>0.001459</td>\n",
       "      <td>1</td>\n",
       "      <td>1</td>\n",
       "      <td>1</td>\n",
       "      <td>1</td>\n",
       "    </tr>\n",
       "    <tr>\n",
       "      <th>6187</th>\n",
       "      <td>6187</td>\n",
       "      <td>6187</td>\n",
       "      <td>0.0</td>\n",
       "      <td>6</td>\n",
       "      <td>6</td>\n",
       "      <td>0.124353</td>\n",
       "      <td>6</td>\n",
       "      <td>0.0</td>\n",
       "      <td>6</td>\n",
       "      <td>0.207784</td>\n",
       "      <td>6</td>\n",
       "      <td>6</td>\n",
       "      <td>6</td>\n",
       "      <td>6</td>\n",
       "    </tr>\n",
       "    <tr>\n",
       "      <th>6186</th>\n",
       "      <td>6186</td>\n",
       "      <td>6186</td>\n",
       "      <td>0.0</td>\n",
       "      <td>3</td>\n",
       "      <td>3</td>\n",
       "      <td>0.142943</td>\n",
       "      <td>3</td>\n",
       "      <td>0.3</td>\n",
       "      <td>3</td>\n",
       "      <td>0.186757</td>\n",
       "      <td>3</td>\n",
       "      <td>3</td>\n",
       "      <td>3</td>\n",
       "      <td>3</td>\n",
       "    </tr>\n",
       "    <tr>\n",
       "      <th>6185</th>\n",
       "      <td>6185</td>\n",
       "      <td>6185</td>\n",
       "      <td>0.0</td>\n",
       "      <td>0</td>\n",
       "      <td>0</td>\n",
       "      <td>0.028009</td>\n",
       "      <td>0</td>\n",
       "      <td>0.0</td>\n",
       "      <td>0</td>\n",
       "      <td>0.161828</td>\n",
       "      <td>0</td>\n",
       "      <td>0</td>\n",
       "      <td>0</td>\n",
       "      <td>0</td>\n",
       "    </tr>\n",
       "    <tr>\n",
       "      <th>6183</th>\n",
       "      <td>6183</td>\n",
       "      <td>6183</td>\n",
       "      <td>0.0</td>\n",
       "      <td>8</td>\n",
       "      <td>8</td>\n",
       "      <td>0.000016</td>\n",
       "      <td>8</td>\n",
       "      <td>0.0</td>\n",
       "      <td>8</td>\n",
       "      <td>0.000750</td>\n",
       "      <td>8</td>\n",
       "      <td>8</td>\n",
       "      <td>8</td>\n",
       "      <td>8</td>\n",
       "    </tr>\n",
       "    <tr>\n",
       "      <th>6182</th>\n",
       "      <td>6182</td>\n",
       "      <td>6182</td>\n",
       "      <td>0.0</td>\n",
       "      <td>3</td>\n",
       "      <td>3</td>\n",
       "      <td>0.000808</td>\n",
       "      <td>3</td>\n",
       "      <td>0.0</td>\n",
       "      <td>3</td>\n",
       "      <td>0.037122</td>\n",
       "      <td>3</td>\n",
       "      <td>3</td>\n",
       "      <td>3</td>\n",
       "      <td>3</td>\n",
       "    </tr>\n",
       "    <tr>\n",
       "      <th>6181</th>\n",
       "      <td>6181</td>\n",
       "      <td>6181</td>\n",
       "      <td>0.0</td>\n",
       "      <td>5</td>\n",
       "      <td>5</td>\n",
       "      <td>0.000106</td>\n",
       "      <td>5</td>\n",
       "      <td>0.0</td>\n",
       "      <td>5</td>\n",
       "      <td>0.000764</td>\n",
       "      <td>5</td>\n",
       "      <td>5</td>\n",
       "      <td>5</td>\n",
       "      <td>5</td>\n",
       "    </tr>\n",
       "    <tr>\n",
       "      <th>6180</th>\n",
       "      <td>6180</td>\n",
       "      <td>6180</td>\n",
       "      <td>0.0</td>\n",
       "      <td>5</td>\n",
       "      <td>5</td>\n",
       "      <td>0.020449</td>\n",
       "      <td>5</td>\n",
       "      <td>0.0</td>\n",
       "      <td>5</td>\n",
       "      <td>0.212535</td>\n",
       "      <td>5</td>\n",
       "      <td>5</td>\n",
       "      <td>5</td>\n",
       "      <td>5</td>\n",
       "    </tr>\n",
       "    <tr>\n",
       "      <th>6179</th>\n",
       "      <td>6179</td>\n",
       "      <td>6179</td>\n",
       "      <td>0.0</td>\n",
       "      <td>7</td>\n",
       "      <td>7</td>\n",
       "      <td>0.013014</td>\n",
       "      <td>7</td>\n",
       "      <td>0.0</td>\n",
       "      <td>7</td>\n",
       "      <td>0.151426</td>\n",
       "      <td>7</td>\n",
       "      <td>7</td>\n",
       "      <td>7</td>\n",
       "      <td>9</td>\n",
       "    </tr>\n",
       "    <tr>\n",
       "      <th>6178</th>\n",
       "      <td>6178</td>\n",
       "      <td>6178</td>\n",
       "      <td>0.0</td>\n",
       "      <td>8</td>\n",
       "      <td>8</td>\n",
       "      <td>0.000215</td>\n",
       "      <td>8</td>\n",
       "      <td>0.0</td>\n",
       "      <td>8</td>\n",
       "      <td>0.002019</td>\n",
       "      <td>8</td>\n",
       "      <td>8</td>\n",
       "      <td>8</td>\n",
       "      <td>8</td>\n",
       "    </tr>\n",
       "    <tr>\n",
       "      <th>6177</th>\n",
       "      <td>6177</td>\n",
       "      <td>6177</td>\n",
       "      <td>0.0</td>\n",
       "      <td>8</td>\n",
       "      <td>8</td>\n",
       "      <td>0.001916</td>\n",
       "      <td>8</td>\n",
       "      <td>0.0</td>\n",
       "      <td>8</td>\n",
       "      <td>0.015404</td>\n",
       "      <td>8</td>\n",
       "      <td>8</td>\n",
       "      <td>8</td>\n",
       "      <td>8</td>\n",
       "    </tr>\n",
       "    <tr>\n",
       "      <th>6174</th>\n",
       "      <td>6174</td>\n",
       "      <td>6174</td>\n",
       "      <td>0.0</td>\n",
       "      <td>7</td>\n",
       "      <td>7</td>\n",
       "      <td>0.005071</td>\n",
       "      <td>7</td>\n",
       "      <td>0.0</td>\n",
       "      <td>7</td>\n",
       "      <td>0.043064</td>\n",
       "      <td>7</td>\n",
       "      <td>7</td>\n",
       "      <td>7</td>\n",
       "      <td>7</td>\n",
       "    </tr>\n",
       "    <tr>\n",
       "      <th>6173</th>\n",
       "      <td>6173</td>\n",
       "      <td>6173</td>\n",
       "      <td>0.0</td>\n",
       "      <td>1</td>\n",
       "      <td>1</td>\n",
       "      <td>0.000345</td>\n",
       "      <td>1</td>\n",
       "      <td>0.0</td>\n",
       "      <td>1</td>\n",
       "      <td>0.002351</td>\n",
       "      <td>1</td>\n",
       "      <td>1</td>\n",
       "      <td>1</td>\n",
       "      <td>1</td>\n",
       "    </tr>\n",
       "    <tr>\n",
       "      <th>6172</th>\n",
       "      <td>6172</td>\n",
       "      <td>6172</td>\n",
       "      <td>0.0</td>\n",
       "      <td>2</td>\n",
       "      <td>2</td>\n",
       "      <td>0.057160</td>\n",
       "      <td>2</td>\n",
       "      <td>0.4</td>\n",
       "      <td>2</td>\n",
       "      <td>0.164842</td>\n",
       "      <td>2</td>\n",
       "      <td>2</td>\n",
       "      <td>2</td>\n",
       "      <td>2</td>\n",
       "    </tr>\n",
       "    <tr>\n",
       "      <th>6167</th>\n",
       "      <td>6167</td>\n",
       "      <td>6167</td>\n",
       "      <td>0.0</td>\n",
       "      <td>1</td>\n",
       "      <td>1</td>\n",
       "      <td>0.000624</td>\n",
       "      <td>1</td>\n",
       "      <td>0.0</td>\n",
       "      <td>1</td>\n",
       "      <td>0.015319</td>\n",
       "      <td>1</td>\n",
       "      <td>1</td>\n",
       "      <td>1</td>\n",
       "      <td>1</td>\n",
       "    </tr>\n",
       "    <tr>\n",
       "      <th>6165</th>\n",
       "      <td>6165</td>\n",
       "      <td>6165</td>\n",
       "      <td>0.0</td>\n",
       "      <td>5</td>\n",
       "      <td>5</td>\n",
       "      <td>0.002900</td>\n",
       "      <td>5</td>\n",
       "      <td>0.0</td>\n",
       "      <td>5</td>\n",
       "      <td>0.050568</td>\n",
       "      <td>5</td>\n",
       "      <td>5</td>\n",
       "      <td>5</td>\n",
       "      <td>5</td>\n",
       "    </tr>\n",
       "    <tr>\n",
       "      <th>6164</th>\n",
       "      <td>6164</td>\n",
       "      <td>6164</td>\n",
       "      <td>0.0</td>\n",
       "      <td>8</td>\n",
       "      <td>8</td>\n",
       "      <td>0.206454</td>\n",
       "      <td>8</td>\n",
       "      <td>0.0</td>\n",
       "      <td>8</td>\n",
       "      <td>0.114097</td>\n",
       "      <td>8</td>\n",
       "      <td>8</td>\n",
       "      <td>8</td>\n",
       "      <td>8</td>\n",
       "    </tr>\n",
       "    <tr>\n",
       "      <th>6163</th>\n",
       "      <td>6163</td>\n",
       "      <td>6163</td>\n",
       "      <td>0.0</td>\n",
       "      <td>7</td>\n",
       "      <td>7</td>\n",
       "      <td>0.000114</td>\n",
       "      <td>7</td>\n",
       "      <td>0.0</td>\n",
       "      <td>7</td>\n",
       "      <td>0.008878</td>\n",
       "      <td>7</td>\n",
       "      <td>7</td>\n",
       "      <td>7</td>\n",
       "      <td>9</td>\n",
       "    </tr>\n",
       "    <tr>\n",
       "      <th>6161</th>\n",
       "      <td>6161</td>\n",
       "      <td>6161</td>\n",
       "      <td>0.0</td>\n",
       "      <td>1</td>\n",
       "      <td>1</td>\n",
       "      <td>0.000527</td>\n",
       "      <td>1</td>\n",
       "      <td>0.0</td>\n",
       "      <td>1</td>\n",
       "      <td>0.002343</td>\n",
       "      <td>1</td>\n",
       "      <td>1</td>\n",
       "      <td>1</td>\n",
       "      <td>1</td>\n",
       "    </tr>\n",
       "  </tbody>\n",
       "</table>\n",
       "</div>"
      ],
      "text/plain": [
       "      Unnamed: 0  Unnamed: 0.1  sort_order  b_vi  a_vi  a_vi_std  b_mc  \\\n",
       "0              0             0         0.0     7     7  0.040358     7   \n",
       "6188        6188          6188         0.0     1     1  0.000009     1   \n",
       "6187        6187          6187         0.0     6     6  0.124353     6   \n",
       "6186        6186          6186         0.0     3     3  0.142943     3   \n",
       "6185        6185          6185         0.0     0     0  0.028009     0   \n",
       "6183        6183          6183         0.0     8     8  0.000016     8   \n",
       "6182        6182          6182         0.0     3     3  0.000808     3   \n",
       "6181        6181          6181         0.0     5     5  0.000106     5   \n",
       "6180        6180          6180         0.0     5     5  0.020449     5   \n",
       "6179        6179          6179         0.0     7     7  0.013014     7   \n",
       "6178        6178          6178         0.0     8     8  0.000215     8   \n",
       "6177        6177          6177         0.0     8     8  0.001916     8   \n",
       "6174        6174          6174         0.0     7     7  0.005071     7   \n",
       "6173        6173          6173         0.0     1     1  0.000345     1   \n",
       "6172        6172          6172         0.0     2     2  0.057160     2   \n",
       "6167        6167          6167         0.0     1     1  0.000624     1   \n",
       "6165        6165          6165         0.0     5     5  0.002900     5   \n",
       "6164        6164          6164         0.0     8     8  0.206454     8   \n",
       "6163        6163          6163         0.0     7     7  0.000114     7   \n",
       "6161        6161          6161         0.0     1     1  0.000527     1   \n",
       "\n",
       "      b_mc_std  a_mc  a_mc_std  cnn  mc  vi  soll  \n",
       "0          0.0     7  0.122535    7   7   7     9  \n",
       "6188       0.0     1  0.001459    1   1   1     1  \n",
       "6187       0.0     6  0.207784    6   6   6     6  \n",
       "6186       0.3     3  0.186757    3   3   3     3  \n",
       "6185       0.0     0  0.161828    0   0   0     0  \n",
       "6183       0.0     8  0.000750    8   8   8     8  \n",
       "6182       0.0     3  0.037122    3   3   3     3  \n",
       "6181       0.0     5  0.000764    5   5   5     5  \n",
       "6180       0.0     5  0.212535    5   5   5     5  \n",
       "6179       0.0     7  0.151426    7   7   7     9  \n",
       "6178       0.0     8  0.002019    8   8   8     8  \n",
       "6177       0.0     8  0.015404    8   8   8     8  \n",
       "6174       0.0     7  0.043064    7   7   7     7  \n",
       "6173       0.0     1  0.002351    1   1   1     1  \n",
       "6172       0.4     2  0.164842    2   2   2     2  \n",
       "6167       0.0     1  0.015319    1   1   1     1  \n",
       "6165       0.0     5  0.050568    5   5   5     5  \n",
       "6164       0.0     8  0.114097    8   8   8     8  \n",
       "6163       0.0     7  0.008878    7   7   7     9  \n",
       "6161       0.0     1  0.002343    1   1   1     1  "
      ]
     },
     "execution_count": 62,
     "metadata": {},
     "output_type": "execute_result"
    }
   ],
   "source": [
    "testing.head(20)"
   ]
  },
  {
   "cell_type": "code",
   "execution_count": 49,
   "metadata": {},
   "outputs": [],
   "source": [
    "x = []\n",
    "b_vi = []\n",
    "a_vi = []\n",
    "b_mc = []\n",
    "a_mc = []\n",
    "cnn = []\n",
    "mc = []\n",
    "vi = []\n",
    "for i in range(500,10400,500):\n",
    "    data = results.sort_values(by=['sort_order'], ascending = True)\n",
    "    data = data[0:i]\n",
    "    x.append(i)\n",
    "    b_vi.append((data['soll']==data['b_vi']).sum()/i)\n",
    "    cnn.append((data['soll']==data['cnn']).sum()/i)\n",
    "    mc.append((data['soll']==data['mc']).sum()/i)\n",
    "    vi.append((data['soll']==data['vi']).sum()/i)\n",
    "    data = results.sort_values(by=['a_vi_std'], ascending = True)\n",
    "    data = data[0:i]\n",
    "    a_vi.append((data['soll']==data['a_vi']).sum()/i)\n",
    "    data = results.sort_values(by=['b_mc_std'], ascending = True)\n",
    "    data = data[0:i]\n",
    "    b_mc.append((data['soll']==data['b_mc']).sum()/i)\n",
    "    data = results.sort_values(by=['a_mc_std'], ascending = True)\n",
    "    data = data[0:i]\n",
    "    a_mc.append((data['soll']==data['a_mc']).sum()/i)\n",
    "    data = results    "
   ]
  },
  {
   "cell_type": "code",
   "execution_count": 50,
   "metadata": {},
   "outputs": [
    {
     "data": {
      "text/plain": [
       "Text(0.5, 1.0, 'Scenario A')"
      ]
     },
     "execution_count": 50,
     "metadata": {},
     "output_type": "execute_result"
    },
    {
     "data": {
      "image/png": "[encoded data removed]",
      "text/plain": [
       "<Figure size 432x288 with 1 Axes>"
      ]
     },
     "metadata": {
      "needs_background": "light"
     },
     "output_type": "display_data"
    }
   ],
   "source": [
    "import matplotlib.pyplot as plt\n",
    "\n",
    "#plt.plot(x, b_vi, label='BNN VI Bernoulli', color='red', linestyle='--')\n",
    "plt.plot(x, a_vi, label='BNN VI Average', color='red')\n",
    "plt.plot(x, b_mc, label='BNN MC Bernoulli', color='green', linestyle='-')\n",
    "plt.plot(x, a_mc, label='BNN MC Average', color='blue', linestyle='--')\n",
    "plt.plot(x, cnn, label='CNN', color='black')\n",
    "#plt.plot(x, mc, label='BNN MC', color='orange', linestyle='-')\n",
    "#plt.plot(x, vi, label='BNN VI', color='blue', linestyle='-')\n",
    "\n",
    "plt.xlabel('nr of examples taken')\n",
    "plt.ylabel('accuracy')\n",
    "#plt.xticks(x)\n",
    "#plt.yticks(list_of_dev) \n",
    "\n",
    "plt.legend(loc='lower left')\n",
    "plt.title(\"Scenario A\")"
   ]
  },
  {
   "cell_type": "code",
   "execution_count": 51,
   "metadata": {},
   "outputs": [
    {
     "data": {
      "text/plain": [
       "Text(0.5, 1.0, 'Scenario A unseen class')"
      ]
     },
     "execution_count": 51,
     "metadata": {},
     "output_type": "execute_result"
    },
    {
     "data": {
      "image/png": "[encoded data removed]",
      "text/plain": [
       "<Figure size 576x432 with 1 Axes>"
      ]
     },
     "metadata": {
      "needs_background": "light"
     },
     "output_type": "display_data"
    }
   ],
   "source": [
    "## same graphic for presentation\n",
    "## bigger text for graphs in presentation\n",
    "fig, ax = plt.subplots(figsize=(8,6))\n",
    "ax.plot(x, b_vi, label='BNN VI Bernoulli', color='red', linestyle='--')\n",
    "ax.plot(x, a_vi, label='BNN VI Average', color='red')\n",
    "ax.plot(x, b_mc, label='BNN MC Bernoulli', color='green', linestyle='-')\n",
    "ax.plot(x, a_mc, label='BNN MC Average', color='blue', linestyle='--')\n",
    "ax.plot(x, cnn, label='CNN', color='black')\n",
    "\n",
    "ax.set_xlabel('nr of examples taken', fontdict={'size': 14})\n",
    "ax.set_ylabel('accuracy', fontdict={'size': 14})\n",
    "#ax.text(10, 20, 'nr of examples taken', fontsize=14)\n",
    "#plt.xticks([100, 2000, 4000, 6000, 8000, 10000])\n",
    "plt.legend(loc='lower left')\n",
    "ax.set_title(\"Scenario A unseen class\", fontdict={'size': 14,\n",
    "                                                       'weight': 'bold'})"
   ]
  },
  {
   "cell_type": "markdown",
   "metadata": {},
   "source": [
    "# check out performance if we overwrite classes based on uncertainty"
   ]
  },
  {
   "cell_type": "code",
   "execution_count": 8,
   "metadata": {},
   "outputs": [],
   "source": [
    "results = pd.read_csv(\"D_003_results.csv\", \";\")"
   ]
  },
  {
   "cell_type": "code",
   "execution_count": 9,
   "metadata": {},
   "outputs": [],
   "source": [
    "results['soll'] = test_y"
   ]
  },
  {
   "cell_type": "code",
   "execution_count": 15,
   "metadata": {},
   "outputs": [],
   "source": [
    "testing['a_vi_overwrite'] = np.where(testing['a_vi_std'] >= 0.3, 9, testing['a_vi'])"
   ]
  },
  {
   "cell_type": "code",
   "execution_count": 16,
   "metadata": {},
   "outputs": [],
   "source": [
    "x = []\n",
    "b_vi = []\n",
    "a_vi = []\n",
    "b_mc = []\n",
    "a_mc = []\n",
    "cnn = []\n",
    "mc = []\n",
    "vi = []\n",
    "a_vi_overwrite = []\n",
    "for i in range(500,10400,500):\n",
    "    data = testing[0:i]\n",
    "    x.append(i)\n",
    "    b_vi.append((data['soll']==data['b_vi']).sum()/i)\n",
    "    a_vi.append((data['soll']==data['a_vi']).sum()/i)\n",
    "    b_mc.append((data['soll']==data['b_mc']).sum()/i)\n",
    "    a_mc.append((data['soll']==data['a_mc']).sum()/i)\n",
    "    cnn.append((data['soll']==data['cnn']).sum()/i)\n",
    "    mc.append((data['soll']==data['mc']).sum()/i)\n",
    "    vi.append((data['soll']==data['vi']).sum()/i)\n",
    "    a_vi_overwrite.append((data['soll']==data['a_vi_overwrite']).sum()/i)"
   ]
  },
  {
   "cell_type": "code",
   "execution_count": 17,
   "metadata": {},
   "outputs": [
    {
     "data": {
      "image/png": "[encoded data removed]",
      "text/plain": [
       "<Figure size 432x288 with 1 Axes>"
      ]
     },
     "metadata": {
      "needs_background": "light"
     },
     "output_type": "display_data"
    }
   ],
   "source": [
    "import matplotlib.pyplot as plt\n",
    "\n",
    "#plt.plot(x, b_vi, label='BNN VI Bernoulli', color='red')\n",
    "plt.plot(x, a_vi, label='BNN VI Average', color='orange', linestyle= '-')\n",
    "#plt.plot(x, b_mc, label='BNN MC Bernoulli', color='green', linestyle='-')\n",
    "plt.plot(x, a_mc, label='BNN MC Average', color='blue', linestyle='--')\n",
    "plt.plot(x, cnn, label='CNN', color='black')\n",
    "#plt.plot(x, mc, label='BNN MC', color='blue', linestyle='-')\n",
    "#plt.plot(x, vi, label='>=50%', color='blue', linestyle='-')\n",
    "plt.plot(x, a_vi_overwrite, label = 'BNN VI Av with ow >=30%', color = 'red')\n",
    "\n",
    "plt.xlabel('nr of examples taken')\n",
    "plt.ylabel('accuracy')\n",
    "#plt.xticks(x)\n",
    "#plt.yticks(list_of_dev) \n",
    "\n",
    "plt.legend(loc='lower left')\n",
    "plt.title(\"Hypothesis A\")\n",
    "plt.show()"
   ]
  },
  {
   "cell_type": "markdown",
   "metadata": {},
   "source": [
    "## Check a picture with high uncertainty and low uncertainty"
   ]
  },
  {
   "cell_type": "code",
   "execution_count": 12,
   "metadata": {},
   "outputs": [
    {
     "data": {
      "text/plain": [
       "Text(0.5, 1.0, 'Hyp A picture with low uncertainty')"
      ]
     },
     "execution_count": 12,
     "metadata": {},
     "output_type": "execute_result"
    },
    {
     "data": {
      "image/png": "[encoded data removed]",
      "text/plain": [
       "<Figure size 432x288 with 1 Axes>"
      ]
     },
     "metadata": {
      "needs_background": "light"
     },
     "output_type": "display_data"
    }
   ],
   "source": [
    "# low uncertainty base on BNN MC Average\n",
    "testing = results.sort_values(by=['a_mc_std'], ascending = True)\n",
    "n = testing.index[2]\n",
    "plt.imshow(np.squeeze(test_x[n:n+1][0], axis = 2), cmap=plt.cm.binary)\n",
    "plt.xlabel(class_names[test_y[n]])\n",
    "plt.title('Hyp A picture with low uncertainty')"
   ]
  },
  {
   "cell_type": "code",
   "execution_count": 13,
   "metadata": {
    "scrolled": true
   },
   "outputs": [
    {
     "data": {
      "text/plain": [
       "Text(0.5, 1.0, 'Hyp A picture with high uncertainty')"
      ]
     },
     "execution_count": 13,
     "metadata": {},
     "output_type": "execute_result"
    },
    {
     "data": {
      "image/png": "[encoded data removed]",
      "text/plain": [
       "<Figure size 432x288 with 1 Axes>"
      ]
     },
     "metadata": {
      "needs_background": "light"
     },
     "output_type": "display_data"
    }
   ],
   "source": [
    "# high uncertainty\n",
    "n = testing.index[9999]\n",
    "plt.imshow(np.squeeze(test_x[n:n+1][0], axis = 2), cmap=plt.cm.binary)\n",
    "plt.xlabel(class_names[test_y[n]])\n",
    "plt.title('Hyp A picture with high uncertainty')"
   ]
  },
  {
   "cell_type": "code",
   "execution_count": 30,
   "metadata": {},
   "outputs": [
    {
     "data": {
      "text/plain": [
       "1000"
      ]
     },
     "execution_count": 30,
     "metadata": {},
     "output_type": "execute_result"
    }
   ],
   "source": [
    "# determine the number of pictures of the unseen class in the test set\n",
    "len(np.where(test_y == 9)[0])"
   ]
  },
  {
   "cell_type": "markdown",
   "metadata": {},
   "source": [
    "# Check what classes with the highest std, are they of the unseen class?"
   ]
  },
  {
   "cell_type": "code",
   "execution_count": 67,
   "metadata": {},
   "outputs": [],
   "source": [
    "x = []\n",
    "b_vi = []\n",
    "a_vi = []\n",
    "b_mc = []\n",
    "a_mc = []\n",
    "cnn = []\n",
    "mc = []\n",
    "vi = []\n",
    "not_seen_class = 9\n",
    "for i in range(100,10040,100):\n",
    "    data = results.sort_values(by=['sort_order'], ascending = True)\n",
    "    data = data[0:i]\n",
    "    x.append(i)\n",
    "    b_vi.append((data['soll']==not_seen_class).sum()/i)\n",
    "    cnn.append((data['soll']==not_seen_class).sum()/i)\n",
    "    mc.append((data['soll']==not_seen_class).sum()/i)\n",
    "    vi.append((data['soll']==not_seen_class).sum()/i)\n",
    "    data = results.sort_values(by=['a_vi_std'], ascending = True)\n",
    "    data = data[0:i]\n",
    "    a_vi.append((data['soll']==not_seen_class).sum()/i)\n",
    "    data = results.sort_values(by=['b_mc_std'], ascending = True)\n",
    "    data = data[0:i]\n",
    "    b_mc.append((data['soll']==not_seen_class).sum()/i)\n",
    "    data = results.sort_values(by=['a_mc_std'], ascending = True)\n",
    "    data = data[0:i]\n",
    "    a_mc.append((data['soll']==not_seen_class).sum()/i)\n",
    "    data = results "
   ]
  },
  {
   "cell_type": "code",
   "execution_count": 68,
   "metadata": {},
   "outputs": [],
   "source": [
    "n = len(x)\n",
    "random_classifier = np.full((n), 0.1)\n",
    "optimal_classifier = np.full((round(n*0.9)), 0)\n",
    "optimal_more = []\n",
    "bound = 90\n",
    "for i in range(round(n)):\n",
    "    if i < bound:\n",
    "        j = 0\n",
    "    else:\n",
    "        j = (i-bound)/n\n",
    "    optimal_more.append(j)\n",
    "#print(optimal_more)"
   ]
  },
  {
   "cell_type": "code",
   "execution_count": 71,
   "metadata": {},
   "outputs": [
    {
     "data": {
      "text/plain": [
       "Text(0.5, 1.0, 'Scenario A ratio unseen class')"
      ]
     },
     "execution_count": 71,
     "metadata": {},
     "output_type": "execute_result"
    },
    {
     "data": {
      "image/png": "[encoded data removed]",
      "text/plain": [
       "<Figure size 432x288 with 1 Axes>"
      ]
     },
     "metadata": {
      "needs_background": "light"
     },
     "output_type": "display_data"
    }
   ],
   "source": [
    "import matplotlib.pyplot as plt\n",
    "\n",
    "plt.plot(x, b_vi, label='BNN VI Bernoulli', color='red', linestyle='--')\n",
    "plt.plot(x, a_vi, label='BNN VI Average', color='red')\n",
    "plt.plot(x, b_mc, label='BNN MC Bernoulli', color='green', linestyle='-')\n",
    "plt.plot(x, a_mc, label='BNN MC Average', color='blue', linestyle='--')\n",
    "plt.plot(x, random_classifier, color = 'black', linestyle='--')\n",
    "plt.plot(x, optimal_more, color = 'black', linestyle='-')\n",
    "#plt.plot(x, cnn, label='CNN', color='black')\n",
    "#plt.plot(x, mc, label='BNN MC', color='orange', linestyle='-')\n",
    "#plt.plot(x, vi, label='BNN VI', color='blue', linestyle='-')\n",
    "\n",
    "plt.xlabel('nr of examples taken')\n",
    "plt.ylabel('ratio')\n",
    "plt.xticks([100, 2000, 4000, 6000, 8000, 10000])\n",
    "#plt.yticks(list_of_dev) \n",
    "\n",
    "plt.legend(loc='lower right')\n",
    "plt.title(\"Scenario A ratio unseen class\")"
   ]
  },
  {
   "cell_type": "code",
   "execution_count": 70,
   "metadata": {},
   "outputs": [
    {
     "data": {
      "text/plain": [
       "Text(0.5, 1.0, 'Scenario A ratio unseen class')"
      ]
     },
     "execution_count": 70,
     "metadata": {},
     "output_type": "execute_result"
    },
    {
     "data": {
      "image/png": "[encoded data removed]",
      "text/plain": [
       "<Figure size 576x432 with 1 Axes>"
      ]
     },
     "metadata": {
      "needs_background": "light"
     },
     "output_type": "display_data"
    }
   ],
   "source": [
    "## bigger text for graphs in presentation\n",
    "fig, ax = plt.subplots(figsize=(8,6))\n",
    "ax.plot(x, b_vi, label='BNN VI Bernoulli', color='red', linestyle='--')\n",
    "ax.plot(x, a_vi, label='BNN VI Average', color='red')\n",
    "ax.plot(x, b_mc, label='BNN MC Bernoulli', color='green', linestyle='-')\n",
    "ax.plot(x, a_mc, label='BNN MC Average', color='blue', linestyle='--')\n",
    "ax.plot(x, random_classifier, color = 'black', linestyle='--')\n",
    "ax.plot(x, optimal_more, color = 'black', linestyle='-')\n",
    "\n",
    "ax.set_xlabel('nr of examples taken', fontdict={'size': 14})\n",
    "ax.set_ylabel('ratio', fontdict={'size': 14})\n",
    "plt.xticks([100, 2000, 4000, 6000, 8000, 10000])\n",
    "plt.legend(loc='upper left')\n",
    "ax.set_title(\"Scenario A ratio unseen class\", fontdict={'size': 14,\n",
    "                                                       'weight': 'bold'})"
   ]
  },
  {
   "cell_type": "code",
   "execution_count": null,
   "metadata": {},
   "outputs": [],
   "source": []
  }
 ],
 "metadata": {
  "kernelspec": {
   "display_name": "Python [conda env:ml_env]",
   "language": "python",
   "name": "conda-env-ml_env-py"
  },
  "language_info": {
   "codemirror_mode": {
    "name": "ipython",
    "version": 3
   },
   "file_extension": ".py",
   "mimetype": "text/x-python",
   "name": "python",
   "nbconvert_exporter": "python",
   "pygments_lexer": "ipython3",
   "version": "3.7.3"
  }
 },
 "nbformat": 4,
 "nbformat_minor": 2
}
