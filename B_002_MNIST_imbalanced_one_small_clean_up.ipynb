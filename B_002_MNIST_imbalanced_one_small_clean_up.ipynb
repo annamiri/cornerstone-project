{
 "cells": [
  {
   "cell_type": "code",
   "execution_count": 1,
   "metadata": {},
   "outputs": [
    {
     "name": "stdout",
     "output_type": "stream",
     "text": [
      "tensorflow:  1.14.0\n"
     ]
    }
   ],
   "source": [
    "# TensorFlow and tf.keras\n",
    "import tensorflow as tf\n",
    "from tensorflow import keras\n",
    "\n",
    "# Helper libraries\n",
    "import numpy as np\n",
    "import pandas as pd\n",
    "import matplotlib.pyplot as plt\n",
    "\n",
    "print(\"tensorflow: \", tf.__version__) #1.14.0"
   ]
  },
  {
   "cell_type": "code",
   "execution_count": 2,
   "metadata": {},
   "outputs": [],
   "source": [
    "#import the fashion mnist dataset (from Zalando)\n",
    "fashion_mnist = keras.datasets.fashion_mnist\n",
    "data = fashion_mnist.load_data()\n",
    "(train_images, train_labels), (test_images, test_labels) = data\n",
    "#(train_images, train_labels), (test_images, test_labels) = fashion_mnist.load_data()"
   ]
  },
  {
   "cell_type": "code",
   "execution_count": 3,
   "metadata": {},
   "outputs": [],
   "source": [
    "class_names = ['T-shirt/top', 'Trouser', 'Pullover', 'Dress', 'Coat',\n",
    "               'Sandal', 'Shirt', 'Sneaker', 'Bag', 'Ankle boot']"
   ]
  },
  {
   "cell_type": "code",
   "execution_count": 4,
   "metadata": {},
   "outputs": [],
   "source": [
    "train_x = np.expand_dims(train_images, axis=3)\n",
    "test_x = np.expand_dims(test_images, axis=3)"
   ]
  },
  {
   "cell_type": "code",
   "execution_count": 47,
   "metadata": {},
   "outputs": [],
   "source": [
    "train_y = train_labels\n",
    "test_y = test_labels"
   ]
  },
  {
   "cell_type": "markdown",
   "metadata": {},
   "source": [
    "# Miminimze one class"
   ]
  },
  {
   "cell_type": "code",
   "execution_count": 6,
   "metadata": {},
   "outputs": [],
   "source": [
    "# define function to select only specific category\n",
    "def select_max_category(data, label, category, max_nr_for_category):\n",
    "    new_data = []\n",
    "    new_label = []\n",
    "    for i in range(len(label)):\n",
    "        if label[i] == category:\n",
    "            if len(new_label) <= max_nr_for_category-1:\n",
    "                new_label.append(label[i])\n",
    "                new_data.append(data[i])\n",
    "    #new_data = np.array(new_data)\n",
    "    #new_label = np.array(new_label)\n",
    "    return new_data, new_label"
   ]
  },
  {
   "cell_type": "code",
   "execution_count": 7,
   "metadata": {},
   "outputs": [
    {
     "name": "stdout",
     "output_type": "stream",
     "text": [
      "(6000, 28, 28, 1) (6000,)\n"
     ]
    }
   ],
   "source": [
    "#create an array with only the \"small class\"\n",
    "all_one_x = train_x[np.where(train_y==1)[0]]\n",
    "all_one_y = train_y[np.where(train_y==1)[0]]\n",
    "print(all_one_x.shape, all_one_y.shape)"
   ]
  },
  {
   "cell_type": "code",
   "execution_count": 8,
   "metadata": {},
   "outputs": [],
   "source": [
    "#create a set with only zeros in it for experimenting\n",
    "all_zero_x = test_x[np.where(test_y==0)[0]]\n",
    "all_zero_y = test_y[np.where(test_y==0)[0]]"
   ]
  },
  {
   "cell_type": "code",
   "execution_count": 9,
   "metadata": {},
   "outputs": [],
   "source": [
    "# select some pictures of class 1 and define how many\n",
    "# in the original dataset 7000 images per class are available\n",
    "rate = 0.005\n",
    "one_x, one_y = select_max_category(train_x, train_y, 1, 6000*rate)"
   ]
  },
  {
   "cell_type": "code",
   "execution_count": 10,
   "metadata": {},
   "outputs": [
    {
     "data": {
      "text/plain": [
       "(30, 28, 28, 1)"
      ]
     },
     "execution_count": 10,
     "metadata": {},
     "output_type": "execute_result"
    }
   ],
   "source": [
    "one_x = np.array(one_x)\n",
    "one_x.shape"
   ]
  },
  {
   "cell_type": "code",
   "execution_count": 11,
   "metadata": {},
   "outputs": [
    {
     "data": {
      "text/plain": [
       "(30,)"
      ]
     },
     "execution_count": 11,
     "metadata": {},
     "output_type": "execute_result"
    }
   ],
   "source": [
    "one_y = np.array(one_y)\n",
    "one_y.shape"
   ]
  },
  {
   "cell_type": "code",
   "execution_count": 12,
   "metadata": {},
   "outputs": [
    {
     "name": "stdout",
     "output_type": "stream",
     "text": [
      "(54000, 28, 28, 1)\n"
     ]
    }
   ],
   "source": [
    "#delete class 1 from the training set\n",
    "train_x = np.delete(train_x, np.where(train_y==1)[0], axis = 0)\n",
    "print(train_x.shape)"
   ]
  },
  {
   "cell_type": "code",
   "execution_count": 13,
   "metadata": {},
   "outputs": [
    {
     "name": "stdout",
     "output_type": "stream",
     "text": [
      "(54000,)\n"
     ]
    }
   ],
   "source": [
    "train_y = np.delete(train_y, np.where(train_y==1)[0], axis = 0)\n",
    "print(train_y.shape)"
   ]
  },
  {
   "cell_type": "code",
   "execution_count": 14,
   "metadata": {},
   "outputs": [],
   "source": [
    "train_x = np.append(train_x, one_x, axis=0)\n",
    "train_y = np.append(train_y, one_y, axis=0)\n",
    "#train_y = np.array(pd.get_dummies(train_y)) #onehotencoding"
   ]
  },
  {
   "cell_type": "code",
   "execution_count": 15,
   "metadata": {},
   "outputs": [
    {
     "name": "stdout",
     "output_type": "stream",
     "text": [
      "(54030, 28, 28, 1) (54030,)\n"
     ]
    }
   ],
   "source": [
    "print(train_x.shape, train_y.shape)"
   ]
  },
  {
   "cell_type": "code",
   "execution_count": 16,
   "metadata": {},
   "outputs": [],
   "source": [
    "#shuffle the data\n",
    "n = train_x.shape[0]\n",
    "## numpy has a shuffle method\n",
    "permutation = np.arange(n) #n = number of pictures/length of data\n",
    "np.random.shuffle(permutation)\n",
    "    \n",
    "train_x = [train_x[i] for i in permutation]\n",
    "train_y = [train_y[i] for i in permutation]\n",
    "#labels_ohe_shuffled = [labels_ohe[i] for i in permutation]\n",
    "\n",
    "train_x = np.array(train_x)\n",
    "train_y = np.array(train_y)\n",
    "\n",
    "train_y = np.array(pd.get_dummies(train_y)) #onehotencoding"
   ]
  },
  {
   "cell_type": "code",
   "execution_count": 18,
   "metadata": {},
   "outputs": [
    {
     "name": "stdout",
     "output_type": "stream",
     "text": [
      "(54030, 28, 28, 1)\n",
      "(54030, 10)\n"
     ]
    }
   ],
   "source": [
    "print(train_x.shape)\n",
    "print(train_y.shape)"
   ]
  },
  {
   "cell_type": "markdown",
   "metadata": {},
   "source": [
    "# Construct a baseline CNN"
   ]
  },
  {
   "cell_type": "code",
   "execution_count": 19,
   "metadata": {},
   "outputs": [
    {
     "name": "stderr",
     "output_type": "stream",
     "text": [
      "WARNING: Logging before flag parsing goes to stderr.\n",
      "W1114 13:17:13.706371 20476 deprecation.py:506] From c:\\users\\annar\\project_folder\\venv\\lib\\site-packages\\tensorflow\\python\\ops\\init_ops.py:1251: calling VarianceScaling.__init__ (from tensorflow.python.ops.init_ops) with dtype is deprecated and will be removed in a future version.\n",
      "Instructions for updating:\n",
      "Call initializer instance with the dtype argument instead of passing it to the constructor\n"
     ]
    }
   ],
   "source": [
    "model = keras.Sequential([\n",
    "    keras.layers.Convolution2D(8, kernel_size=(3,3), padding=\"same\", activation='relu', input_shape=(28,28,1)),\n",
    "    keras.layers.Convolution2D(8, kernel_size=(3,3), padding=\"same\", activation='relu'),\n",
    "    keras.layers.MaxPooling2D(2,2),\n",
    "    keras.layers.Convolution2D(16, kernel_size=(3,3), padding=\"same\", activation='relu'),\n",
    "    keras.layers.Flatten(),\n",
    "    keras.layers.Dropout((0.5)),\n",
    "    keras.layers.Dense(10, activation='softmax')\n",
    "])"
   ]
  },
  {
   "cell_type": "code",
   "execution_count": 20,
   "metadata": {},
   "outputs": [
    {
     "name": "stdout",
     "output_type": "stream",
     "text": [
      "Model: \"sequential\"\n",
      "_________________________________________________________________\n",
      "Layer (type)                 Output Shape              Param #   \n",
      "=================================================================\n",
      "conv2d (Conv2D)              (None, 28, 28, 8)         80        \n",
      "_________________________________________________________________\n",
      "conv2d_1 (Conv2D)            (None, 28, 28, 8)         584       \n",
      "_________________________________________________________________\n",
      "max_pooling2d (MaxPooling2D) (None, 14, 14, 8)         0         \n",
      "_________________________________________________________________\n",
      "conv2d_2 (Conv2D)            (None, 14, 14, 16)        1168      \n",
      "_________________________________________________________________\n",
      "flatten (Flatten)            (None, 3136)              0         \n",
      "_________________________________________________________________\n",
      "dropout (Dropout)            (None, 3136)              0         \n",
      "_________________________________________________________________\n",
      "dense (Dense)                (None, 10)                31370     \n",
      "=================================================================\n",
      "Total params: 33,202\n",
      "Trainable params: 33,202\n",
      "Non-trainable params: 0\n",
      "_________________________________________________________________\n"
     ]
    }
   ],
   "source": [
    "model.compile(loss='categorical_crossentropy', optimizer='adam', metrics=['accuracy'])\n",
    "model.summary()"
   ]
  },
  {
   "cell_type": "code",
   "execution_count": 21,
   "metadata": {},
   "outputs": [
    {
     "name": "stdout",
     "output_type": "stream",
     "text": [
      "Epoch 1/10\n",
      "54030/54030 [==============================] - 51s 936us/sample - loss: 0.6582 - acc: 0.7884\n",
      "Epoch 2/10\n",
      "54030/54030 [==============================] - 77s 1ms/sample - loss: 0.4096 - acc: 0.8524\n",
      "Epoch 3/10\n",
      "54030/54030 [==============================] - 56s 1ms/sample - loss: 0.3607 - acc: 0.8706\n",
      "Epoch 4/10\n",
      "54030/54030 [==============================] - 78s 1ms/sample - loss: 0.3309 - acc: 0.8795\n",
      "Epoch 5/10\n",
      "54030/54030 [==============================] - 63s 1ms/sample - loss: 0.3155 - acc: 0.8854\n",
      "Epoch 6/10\n",
      "54030/54030 [==============================] - 64s 1ms/sample - loss: 0.3076 - acc: 0.8882\n",
      "Epoch 7/10\n",
      "54030/54030 [==============================] - 64s 1ms/sample - loss: 0.2967 - acc: 0.8918\n",
      "Epoch 8/10\n",
      "54030/54030 [==============================] - 62s 1ms/sample - loss: 0.2910 - acc: 0.8941\n",
      "Epoch 9/10\n",
      "54030/54030 [==============================] - 68s 1ms/sample - loss: 0.2869 - acc: 0.89530s - loss: 0.2870 - acc: 0.89\n",
      "Epoch 10/10\n",
      "54030/54030 [==============================] - 74s 1ms/sample - loss: 0.2827 - acc: 0.8959\n"
     ]
    }
   ],
   "source": [
    "history = model.fit(train_x, train_y, epochs = 10)"
   ]
  },
  {
   "cell_type": "code",
   "execution_count": 22,
   "metadata": {},
   "outputs": [],
   "source": [
    "model.save('B_model_b.h5') #save the model for the scrumbled data"
   ]
  },
  {
   "cell_type": "code",
   "execution_count": 23,
   "metadata": {},
   "outputs": [
    {
     "name": "stderr",
     "output_type": "stream",
     "text": [
      "W1114 13:29:08.893622 20476 deprecation.py:506] From c:\\users\\annar\\project_folder\\venv\\lib\\site-packages\\tensorflow\\python\\ops\\init_ops.py:97: calling GlorotUniform.__init__ (from tensorflow.python.ops.init_ops) with dtype is deprecated and will be removed in a future version.\n",
      "Instructions for updating:\n",
      "Call initializer instance with the dtype argument instead of passing it to the constructor\n",
      "W1114 13:29:08.899531 20476 deprecation.py:506] From c:\\users\\annar\\project_folder\\venv\\lib\\site-packages\\tensorflow\\python\\ops\\init_ops.py:97: calling Zeros.__init__ (from tensorflow.python.ops.init_ops) with dtype is deprecated and will be removed in a future version.\n",
      "Instructions for updating:\n",
      "Call initializer instance with the dtype argument instead of passing it to the constructor\n"
     ]
    }
   ],
   "source": [
    "model = tf.keras.models.load_model('B_model_b.h5')"
   ]
  },
  {
   "cell_type": "code",
   "execution_count": 24,
   "metadata": {},
   "outputs": [
    {
     "data": {
      "image/png": "[encoded data removed]",
      "text/plain": [
       "<Figure size 864x360 with 2 Axes>"
      ]
     },
     "metadata": {
      "needs_background": "light"
     },
     "output_type": "display_data"
    }
   ],
   "source": [
    "plt.figure(figsize=(12,5))\n",
    "plt.subplot(1,2,1)\n",
    "plt.plot(history.history['acc'])\n",
    "#plt.plot(history_b.history['val_accuracy'])\n",
    "plt.ylim(0,1)\n",
    "plt.title('model accuracy')\n",
    "plt.ylabel('accuracy')\n",
    "plt.xlabel('epoch')\n",
    "plt.legend(['train', 'valid'], loc='lower right')\n",
    "plt.subplot(1,2,2)\n",
    "plt.plot(history.history['loss'])\n",
    "#plt.plot(history_b.history['va_loss'])\n",
    "plt.title('model loss')\n",
    "plt.ylabel('loss')\n",
    "plt.xlabel('epoch')\n",
    "plt.legend(['train', 'valid'], loc='upper right')\n",
    "plt.show()"
   ]
  },
  {
   "cell_type": "markdown",
   "metadata": {},
   "source": [
    "# Check the baseline model for a rarely seen picture"
   ]
  },
  {
   "cell_type": "code",
   "execution_count": 29,
   "metadata": {},
   "outputs": [
    {
     "data": {
      "image/png": "[encoded data removed]",
      "text/plain": [
       "<Figure size 432x288 with 25 Axes>"
      ]
     },
     "metadata": {
      "needs_background": "light"
     },
     "output_type": "display_data"
    }
   ],
   "source": [
    "all_one_x.shape\n",
    "for i in range(800,825,1):\n",
    "    j = 1+i\n",
    "    k = i-799\n",
    "    prediction = model.predict([all_one_x[i:j], 1])[0]\n",
    "    x = [0,1,2,3,4,5,6,7,8,9]\n",
    "    plt.subplot(5,5,k)\n",
    "    plt.bar(x,prediction, color = ['black']) #color=(0.3,0.3,0.3,1.0)\n",
    "    plt.xticks(x)\n",
    "    plt.ylim(0,1.0)\n",
    "    #plt.xticks(np.arange(10), class_names, rotation = 90)\n",
    "    #plt.title('probabilities predicted')"
   ]
  },
  {
   "cell_type": "code",
   "execution_count": 30,
   "metadata": {},
   "outputs": [
    {
     "data": {
      "text/plain": [
       "Text(0.5, 1.0, 'image')"
      ]
     },
     "execution_count": 30,
     "metadata": {},
     "output_type": "execute_result"
    },
    {
     "data": {
      "image/png": "[encoded data removed]",
      "text/plain": [
       "<Figure size 432x288 with 2 Axes>"
      ]
     },
     "metadata": {
      "needs_background": "light"
     },
     "output_type": "display_data"
    }
   ],
   "source": [
    "prediction = model.predict([all_one_x[picture:picture_end], 1])[0]\n",
    "x = [0,1,2,3,4,5,6,7,8,9]\n",
    "plt.subplot(2,3,1)\n",
    "plt.bar(x,prediction, color = ['black']) #color=(0.3,0.3,0.3,1.0)\n",
    "plt.xticks(np.arange(10), class_names, rotation = 90)\n",
    "plt.title('probabilities predicted')\n",
    "\n",
    "plt.subplot(2,3,2)\n",
    "plt.xticks([])\n",
    "plt.yticks([])\n",
    "plt.imshow(np.squeeze(all_one_x[picture:picture_end][0], axis = 2), cmap=plt.cm.binary)\n",
    "plt.xlabel(class_names[all_one_y[picture]])\n",
    "plt.title('image')"
   ]
  },
  {
   "cell_type": "markdown",
   "metadata": {},
   "source": [
    "# Create a model with MC Dropout"
   ]
  },
  {
   "cell_type": "code",
   "execution_count": 31,
   "metadata": {},
   "outputs": [
    {
     "name": "stdout",
     "output_type": "stream",
     "text": [
      "Model: \"sequential_1\"\n",
      "_________________________________________________________________\n",
      "Layer (type)                 Output Shape              Param #   \n",
      "=================================================================\n",
      "conv2d_3 (Conv2D)            (None, 28, 28, 8)         80        \n",
      "_________________________________________________________________\n",
      "dropout_1 (Dropout)          (None, 28, 28, 8)         0         \n",
      "_________________________________________________________________\n",
      "conv2d_4 (Conv2D)            (None, 28, 28, 8)         584       \n",
      "_________________________________________________________________\n",
      "dropout_2 (Dropout)          (None, 28, 28, 8)         0         \n",
      "_________________________________________________________________\n",
      "max_pooling2d_1 (MaxPooling2 (None, 14, 14, 8)         0         \n",
      "_________________________________________________________________\n",
      "dropout_3 (Dropout)          (None, 14, 14, 8)         0         \n",
      "_________________________________________________________________\n",
      "conv2d_5 (Conv2D)            (None, 14, 14, 16)        1168      \n",
      "_________________________________________________________________\n",
      "dropout_4 (Dropout)          (None, 14, 14, 16)        0         \n",
      "_________________________________________________________________\n",
      "flatten_1 (Flatten)          (None, 3136)              0         \n",
      "_________________________________________________________________\n",
      "dropout_5 (Dropout)          (None, 3136)              0         \n",
      "_________________________________________________________________\n",
      "dense_1 (Dense)              (None, 10)                31370     \n",
      "=================================================================\n",
      "Total params: 33,202\n",
      "Trainable params: 33,202\n",
      "Non-trainable params: 0\n",
      "_________________________________________________________________\n"
     ]
    }
   ],
   "source": [
    "model_mc2 = keras.Sequential([\n",
    "    keras.layers.Convolution2D(8, kernel_size=(3,3), padding=\"same\", activation='relu', input_shape=(28,28,1)),\n",
    "    keras.layers.Dropout((0.3)),\n",
    "    keras.layers.Convolution2D(8, kernel_size=(3,3), padding=\"same\", activation='relu'),\n",
    "    keras.layers.Dropout((0.3)),\n",
    "    keras.layers.MaxPooling2D(2,2),\n",
    "    keras.layers.Dropout((0.3)),\n",
    "    keras.layers.Convolution2D(16, kernel_size=(3,3), padding=\"same\", activation='relu'),\n",
    "    keras.layers.Dropout((0.3)),\n",
    "    keras.layers.Flatten(),\n",
    "    keras.layers.Dropout((0.3)),\n",
    "    keras.layers.Dense(10, activation='softmax')\n",
    "])\n",
    "model_mc2.compile(loss='categorical_crossentropy', optimizer='adam', metrics=['accuracy'])\n",
    "model_mc2.summary()"
   ]
  },
  {
   "cell_type": "code",
   "execution_count": 32,
   "metadata": {},
   "outputs": [],
   "source": [
    "import tensorflow.keras.backend as K\n",
    "model_mc2_pred = K.function([model_mc2.input, K.learning_phase()], [model_mc2.output])"
   ]
  },
  {
   "cell_type": "code",
   "execution_count": 33,
   "metadata": {},
   "outputs": [
    {
     "name": "stdout",
     "output_type": "stream",
     "text": [
      "Epoch 1/10\n",
      "54030/54030 [==============================] - 107s 2ms/sample - loss: 1.8718 - acc: 0.6479\n",
      "Epoch 2/10\n",
      "54030/54030 [==============================] - 106s 2ms/sample - loss: 0.6075 - acc: 0.7809\n",
      "Epoch 3/10\n",
      "54030/54030 [==============================] - 112s 2ms/sample - loss: 0.5253 - acc: 0.8103s - loss: 0\n",
      "Epoch 4/10\n",
      "54030/54030 [==============================] - 103s 2ms/sample - loss: 0.4847 - acc: 0.8246s - \n",
      "Epoch 5/10\n",
      "54030/54030 [==============================] - 114s 2ms/sample - loss: 0.4549 - acc: 0.8351\n",
      "Epoch 6/10\n",
      "54030/54030 [==============================] - 118s 2ms/sample - loss: 0.4370 - acc: 0.8398\n",
      "Epoch 7/10\n",
      "54030/54030 [==============================] - 106s 2ms/sample - loss: 0.4232 - acc: 0.8447s - loss: 0.4235 - acc:\n",
      "Epoch 8/10\n",
      "54030/54030 [==============================] - 118s 2ms/sample - loss: 0.4153 - acc: 0.8466\n",
      "Epoch 9/10\n",
      "54030/54030 [==============================] - 114s 2ms/sample - loss: 0.4003 - acc: 0.8528\n",
      "Epoch 10/10\n",
      "54030/54030 [==============================] - 108s 2ms/sample - loss: 0.3931 - acc: 0.8565\n"
     ]
    }
   ],
   "source": [
    "history_mc2 = model_mc2.fit(train_x, train_y, epochs = 10)"
   ]
  },
  {
   "cell_type": "code",
   "execution_count": 34,
   "metadata": {},
   "outputs": [
    {
     "data": {
      "image/png": "[encoded data removed]",
      "text/plain": [
       "<Figure size 864x360 with 2 Axes>"
      ]
     },
     "metadata": {
      "needs_background": "light"
     },
     "output_type": "display_data"
    }
   ],
   "source": [
    "plt.figure(figsize=(12,5))\n",
    "plt.subplot(1,2,1)\n",
    "plt.plot(history_mc2.history['acc'])\n",
    "#plt.plot(history_b.history['val_accuracy'])\n",
    "plt.ylim(0,1)\n",
    "plt.title('model accuracy')\n",
    "plt.ylabel('accuracy')\n",
    "plt.xlabel('epoch')\n",
    "plt.legend(['train', 'valid'], loc='lower right')\n",
    "plt.subplot(1,2,2)\n",
    "plt.plot(history_mc2.history['loss'])\n",
    "#plt.plot(history_b.history['va_loss'])\n",
    "plt.title('model loss')\n",
    "plt.ylabel('loss')\n",
    "plt.xlabel('epoch')\n",
    "plt.legend(['train', 'valid'], loc='upper right')\n",
    "plt.show()"
   ]
  },
  {
   "cell_type": "code",
   "execution_count": 35,
   "metadata": {},
   "outputs": [],
   "source": [
    "model_mc2.save('B_model_mc2.h5')"
   ]
  },
  {
   "cell_type": "code",
   "execution_count": 36,
   "metadata": {},
   "outputs": [],
   "source": [
    "model_mc2 = tf.keras.models.load_model('B_model_mc2.h5')"
   ]
  },
  {
   "cell_type": "markdown",
   "metadata": {},
   "source": [
    "## predictions for a rarely seen image (trousers)"
   ]
  },
  {
   "cell_type": "code",
   "execution_count": 37,
   "metadata": {},
   "outputs": [],
   "source": [
    "import tensorflow.keras.backend as K\n",
    "model_mc2_pred = K.function([model_mc2.input, K.learning_phase()], [model_mc2.output])"
   ]
  },
  {
   "cell_type": "code",
   "execution_count": 38,
   "metadata": {},
   "outputs": [
    {
     "data": {
      "text/plain": [
       "array([[6.7025267e-02, 8.8626647e-01, 1.1216152e-03, 2.3617299e-02,\n",
       "        1.2254784e-02, 1.9570514e-05, 9.3165180e-03, 4.7850717e-05,\n",
       "        2.4492544e-04, 8.5805397e-05]], dtype=float32)"
      ]
     },
     "execution_count": 38,
     "metadata": {},
     "output_type": "execute_result"
    }
   ],
   "source": [
    "picture = 100\n",
    "picture_end = picture+1\n",
    "model_mc2_pred([all_one_x[picture:picture_end], 1])[0]"
   ]
  },
  {
   "cell_type": "code",
   "execution_count": 39,
   "metadata": {},
   "outputs": [
    {
     "name": "stdout",
     "output_type": "stream",
     "text": [
      "(100, 10)\n"
     ]
    },
    {
     "data": {
      "image/png": "[encoded data removed]",
      "text/plain": [
       "<Figure size 432x288 with 20 Axes>"
      ]
     },
     "metadata": {
      "needs_background": "light"
     },
     "output_type": "display_data"
    },
    {
     "data": {
      "image/png": "[encoded data removed]",
      "text/plain": [
       "<Figure size 432x288 with 3 Axes>"
      ]
     },
     "metadata": {
      "needs_background": "light"
     },
     "output_type": "display_data"
    },
    {
     "name": "stdout",
     "output_type": "stream",
     "text": [
      "[1.7084488e-01 6.1673421e-01 7.6454221e-03 1.3723384e-01 1.7447559e-02\n",
      " 1.3464277e-04 4.8477493e-02 2.9245095e-04 1.1172900e-03 7.2135372e-05]\n"
     ]
    }
   ],
   "source": [
    "x = [0,1,2,3,4,5,6,7,8,9]\n",
    "predictions = model_mc2_pred([all_one_x[picture:picture_end], 1])[0]\n",
    "for i in range(700,799,1):\n",
    "    pred = model_mc2_pred([all_one_x[picture:picture_end], 1])[0]\n",
    "    #print(pred)\n",
    "    predictions = np.append(predictions, pred, axis = 0)\n",
    "    #print(i, predictions)\n",
    "\n",
    "print(predictions.shape)\n",
    "\n",
    "for i in range(20):\n",
    "    plt.subplot(5,4,i+1)\n",
    "    plt.bar(x, predictions[i], color = ['black'])\n",
    "    plt.xticks(np.arange(10), class_names, rotation = 90)\n",
    "    #plt.yticks([0.25, 0.5, 0.75, 1.0])\n",
    "    plt.ylim([0,1])\n",
    "plt.show()\n",
    "\n",
    "plt.subplot(2,3,1)\n",
    "plt.yticks([0,2,4,6,8])\n",
    "plt.imshow(predictions[0:10], cmap='binary', interpolation='none')\n",
    "plt.ylabel('run')\n",
    "#plt.xlabel('class')\n",
    "plt.xticks(np.arange(10), class_names, rotation = 90)\n",
    "plt.title('heatmap predictions')\n",
    "plt.subplot(2,3,2)\n",
    "plt.xticks([])\n",
    "plt.yticks([])\n",
    "plt.imshow(np.squeeze(all_one_x[picture:picture_end][0], axis = 2), cmap=plt.cm.binary)\n",
    "plt.xlabel(class_names[all_one_y[picture]])\n",
    "plt.title('image')\n",
    "\n",
    "#### try to also show the barchart with the average probability\n",
    "d = predictions\n",
    "predictions_mean = d.mean(axis=0)\n",
    "#x = [0,1,2,3,4,5,6,7,8]\n",
    "\n",
    "plt.subplot(2,3,3)\n",
    "plt.bar(x,predictions_mean, color = ['black']) #color=(0.3,0.3,0.3,1.0)\n",
    "plt.xticks(np.arange(10), class_names, rotation = 90)\n",
    "plt.title('average probability')\n",
    "\n",
    "plt.show()\n",
    "print(predictions_mean)"
   ]
  },
  {
   "cell_type": "markdown",
   "metadata": {},
   "source": [
    "## prediction for an often seen image (class 0)"
   ]
  },
  {
   "cell_type": "code",
   "execution_count": 40,
   "metadata": {},
   "outputs": [
    {
     "name": "stdout",
     "output_type": "stream",
     "text": [
      "(100, 10)\n"
     ]
    },
    {
     "data": {
      "image/png": "[encoded data removed]",
      "text/plain": [
       "<Figure size 432x288 with 20 Axes>"
      ]
     },
     "metadata": {
      "needs_background": "light"
     },
     "output_type": "display_data"
    },
    {
     "data": {
      "image/png": "[encoded data removed]",
      "text/plain": [
       "<Figure size 432x288 with 3 Axes>"
      ]
     },
     "metadata": {
      "needs_background": "light"
     },
     "output_type": "display_data"
    },
    {
     "name": "stdout",
     "output_type": "stream",
     "text": [
      "[7.1743476e-01 2.7454985e-04 3.3635281e-02 6.1039072e-02 4.1998416e-02\n",
      " 4.8276492e-05 1.3558534e-01 3.2632228e-04 9.6334442e-03 2.4586907e-05]\n"
     ]
    }
   ],
   "source": [
    "x = [0,1,2,3,4,5,6,7,8,9]\n",
    "predictions = model_mc2_pred([all_zero_x[picture:picture_end], 1])[0]\n",
    "for i in range(700,799,1):\n",
    "    pred = model_mc2_pred([all_zero_x[picture:picture_end], 1])[0]\n",
    "    #print(pred)\n",
    "    predictions = np.append(predictions, pred, axis = 0)\n",
    "    #print(i, predictions)\n",
    "\n",
    "print(predictions.shape)\n",
    "\n",
    "for i in range(20):\n",
    "    plt.subplot(5,4,i+1)\n",
    "    plt.bar(x, predictions[i], color = ['black'])\n",
    "    plt.xticks(np.arange(10), class_names, rotation = 90)\n",
    "    #plt.yticks([0.25, 0.5, 0.75, 1.0])\n",
    "    plt.ylim([0,1])\n",
    "plt.show()\n",
    "\n",
    "plt.subplot(2,3,1)\n",
    "plt.yticks([0,2,4,6,8])\n",
    "plt.imshow(predictions[0:10], cmap='binary', interpolation='none')\n",
    "plt.ylabel('run')\n",
    "#plt.xlabel('class')\n",
    "plt.xticks(np.arange(10), class_names, rotation = 90)\n",
    "plt.title('heatmap predictions')\n",
    "plt.subplot(2,3,2)\n",
    "plt.xticks([])\n",
    "plt.yticks([])\n",
    "plt.imshow(np.squeeze(all_zero_x[picture:picture_end][0], axis = 2), cmap=plt.cm.binary)\n",
    "plt.xlabel(class_names[all_zero_y[picture]])\n",
    "plt.title('image')\n",
    "\n",
    "#### try to also show the barchart with the average probability\n",
    "d = predictions\n",
    "predictions_mean = d.mean(axis=0)\n",
    "#x = [0,1,2,3,4,5,6,7,8]\n",
    "\n",
    "plt.subplot(2,3,3)\n",
    "plt.bar(x,predictions_mean, color = ['black']) #color=(0.3,0.3,0.3,1.0)\n",
    "plt.xticks(np.arange(10), class_names, rotation = 90)\n",
    "plt.title('average probability')\n",
    "\n",
    "plt.show()\n",
    "print(predictions_mean)"
   ]
  },
  {
   "cell_type": "markdown",
   "metadata": {},
   "source": [
    "# Evaluate the two models"
   ]
  },
  {
   "cell_type": "markdown",
   "metadata": {},
   "source": [
    "## Construct a prediction function to work with the BNN"
   ]
  },
  {
   "cell_type": "code",
   "execution_count": 67,
   "metadata": {},
   "outputs": [],
   "source": [
    "def uncertainty_predict(picture, prediction_function, number_of_classes, number_of_predictions):\n",
    "    n = number_of_predictions\n",
    "    m = number_of_classes\n",
    "    \n",
    "    # create an empty list to store the predictions in, the maximal probability is the predicted class\n",
    "    l = []\n",
    "    for i in range(n):\n",
    "        predictions = prediction_function([picture, 1])[0]\n",
    "        l.append(predictions.argmax())\n",
    "    \n",
    "    #create a list to store the purity values in\n",
    "    p = []\n",
    "    for j in range(m):\n",
    "        purity = l.count(j)/n\n",
    "        p.append(purity)\n",
    "    \n",
    "    return l, p"
   ]
  },
  {
   "cell_type": "code",
   "execution_count": 98,
   "metadata": {},
   "outputs": [],
   "source": [
    "def predict(dataset, prediction_function, number_of_classes, number_of_predictions, max_deviation=0, additional_class=None):\n",
    "    #create a list to store the results in\n",
    "    if additional_class == None:\n",
    "        e = number_of_classes + 1 #to mark a datapoint which network is not certain about\n",
    "    else: \n",
    "        e = additional_class\n",
    "        \n",
    "    r = []\n",
    "    cl = [] # create a  list just with the classes\n",
    "    n = dataset.shape[0] #number of datapoints in the dataset\n",
    "\n",
    "    for i in range(n):\n",
    "        probabilities = uncertainty_predict(dataset[i:i+1], prediction_function, number_of_classes, number_of_predictions)[1]\n",
    "        p = max(probabilities)\n",
    "        v = round(p*(1-p), 2)\n",
    "        s = round(v**(1/2), 2)\n",
    "        # get the class\n",
    "        c = probabilities.index(max(probabilities))\n",
    "        # get the class if uncertainty is set\n",
    "        \n",
    "        if max_deviation == 0:\n",
    "            d = c\n",
    "        else:\n",
    "            if s > max_deviation:\n",
    "                d = e\n",
    "            else:\n",
    "                d = c\n",
    "        #d = c\n",
    "        \n",
    "        r.append([c, d, p, v, s])\n",
    "        \n",
    "        cl.append(d)\n",
    "        \n",
    "    return r, cl"
   ]
  },
  {
   "cell_type": "markdown",
   "metadata": {},
   "source": [
    "## evaluate baseline CNN"
   ]
  },
  {
   "cell_type": "code",
   "execution_count": 48,
   "metadata": {},
   "outputs": [
    {
     "name": "stdout",
     "output_type": "stream",
     "text": [
      "10000/10000 [==============================] - 4s 385us/sample - loss: 0.3801 - acc: 0.8910\n"
     ]
    },
    {
     "data": {
      "text/plain": [
       "[0.38013033467531204, 0.891]"
      ]
     },
     "execution_count": 48,
     "metadata": {},
     "output_type": "execute_result"
    }
   ],
   "source": [
    "# evaluate the baseline CNN on the test dataset\n",
    "test_y_ohe = np.array(pd.get_dummies(test_y))\n",
    "model.evaluate(test_x, test_y_ohe)"
   ]
  },
  {
   "cell_type": "code",
   "execution_count": 58,
   "metadata": {},
   "outputs": [],
   "source": [
    "# evaluate the baseline CNN on the rarely seen pictures only\n",
    "l = []\n",
    "for i in range(all_one_x.shape[0]):\n",
    "    pred = model.predict(all_one_x[i:i+1])\n",
    "    l.append(pred.argmax())"
   ]
  },
  {
   "cell_type": "code",
   "execution_count": 61,
   "metadata": {},
   "outputs": [
    {
     "data": {
      "text/plain": [
       "0.8103333333333333"
      ]
     },
     "execution_count": 61,
     "metadata": {},
     "output_type": "execute_result"
    }
   ],
   "source": [
    "(l == all_one_y).sum()/all_one_x.shape[0]"
   ]
  },
  {
   "cell_type": "markdown",
   "metadata": {},
   "source": [
    "## evaluate the BNN with the standard prediction method"
   ]
  },
  {
   "cell_type": "code",
   "execution_count": 63,
   "metadata": {},
   "outputs": [
    {
     "name": "stdout",
     "output_type": "stream",
     "text": [
      "10000/10000 [==============================] - 4s 426us/sample - loss: 0.5132 - acc: 0.8082\n"
     ]
    },
    {
     "data": {
      "text/plain": [
       "[0.5131727836608887, 0.8082]"
      ]
     },
     "execution_count": 63,
     "metadata": {},
     "output_type": "execute_result"
    }
   ],
   "source": [
    "test_y_ohe = np.array(pd.get_dummies(test_y))\n",
    "model_mc2.evaluate(test_x, test_y_ohe)"
   ]
  },
  {
   "cell_type": "code",
   "execution_count": 64,
   "metadata": {},
   "outputs": [],
   "source": [
    "# evaluate the BNN with standard prediction on the rarely seen pictures only\n",
    "l = []\n",
    "for i in range(all_one_x.shape[0]):\n",
    "    pred = model_mc2.predict(all_one_x[i:i+1])\n",
    "    l.append(pred.argmax())"
   ]
  },
  {
   "cell_type": "code",
   "execution_count": 65,
   "metadata": {},
   "outputs": [
    {
     "data": {
      "text/plain": [
       "0.6041666666666666"
      ]
     },
     "execution_count": 65,
     "metadata": {},
     "output_type": "execute_result"
    }
   ],
   "source": [
    "(l == all_one_y).sum()/all_one_x.shape[0]"
   ]
  },
  {
   "cell_type": "markdown",
   "metadata": {},
   "source": [
    "# evaluate the BNN with special prediction method"
   ]
  },
  {
   "cell_type": "code",
   "execution_count": 95,
   "metadata": {},
   "outputs": [],
   "source": [
    "# test without taking uncertainty into consideration\n",
    "foo, classes = predict(test_x, model_mc2_pred, 10, 25)"
   ]
  },
  {
   "cell_type": "code",
   "execution_count": 96,
   "metadata": {},
   "outputs": [
    {
     "data": {
      "text/plain": [
       "0.8546"
      ]
     },
     "execution_count": 96,
     "metadata": {},
     "output_type": "execute_result"
    }
   ],
   "source": [
    "(test_y == classes).sum()/test_x.shape[0] \n",
    "#85.46% accuracy in test mit default deviation value #mit Abweichung von 0.4 sind es noch 78.38%"
   ]
  },
  {
   "cell_type": "code",
   "execution_count": 99,
   "metadata": {},
   "outputs": [],
   "source": [
    "# see what happens if we take uncertainty into consideration and we assign all the uncertain pictures the class 1\n",
    "foo, classes = predict(test_x, model_mc2_pred, 10, 25, 0.4, 1)"
   ]
  },
  {
   "cell_type": "code",
   "execution_count": 100,
   "metadata": {},
   "outputs": [
    {
     "data": {
      "text/plain": [
       "0.7718"
      ]
     },
     "execution_count": 100,
     "metadata": {},
     "output_type": "execute_result"
    }
   ],
   "source": [
    "(test_y == classes).sum()/test_x.shape[0]\n",
    "#74.01% accuracy"
   ]
  }
 ],
 "metadata": {
  "kernelspec": {
   "display_name": "venv_kernel",
   "language": "python",
   "name": "venv_kernel"
  },
  "language_info": {
   "codemirror_mode": {
    "name": "ipython",
    "version": 3
   },
   "file_extension": ".py",
   "mimetype": "text/x-python",
   "name": "python",
   "nbconvert_exporter": "python",
   "pygments_lexer": "ipython3",
   "version": "3.7.3"
  }
 },
 "nbformat": 4,
 "nbformat_minor": 2
}
