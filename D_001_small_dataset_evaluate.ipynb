{
 "cells": [
  {
   "cell_type": "markdown",
   "metadata": {},
   "source": [
    "Evaluate the best prediction methods for the Hypothesis C with the small training set\n",
    "- Variational Inference - Bernoulli and Average Predict methods as well as standard prediction\n",
    "- Monte Carlo Dropout - Bernoulli and Average predict methods as well as standard prediction\n",
    "- Baseline Modell / CNN with standard prediction method"
   ]
  },
  {
   "cell_type": "code",
   "execution_count": 1,
   "metadata": {},
   "outputs": [
    {
     "name": "stdout",
     "output_type": "stream",
     "text": [
      "tensorflow:  2.0.0\n",
      "tensorflow_prob:  0.8.0\n"
     ]
    }
   ],
   "source": [
    "# import the needed packages and check version\n",
    "import tensorflow as tf\n",
    "from tensorflow import keras\n",
    "import tensorflow_probability as tfp\n",
    "\n",
    "# Helper libraries\n",
    "import numpy as np\n",
    "import pandas as pd\n",
    "import matplotlib.pyplot as plt\n",
    "\n",
    "print(\"tensorflow: \", tf.__version__) #2.0.0\n",
    "print(\"tensorflow_prob: \", tfp.__version__) #"
   ]
  },
  {
   "cell_type": "code",
   "execution_count": 2,
   "metadata": {},
   "outputs": [],
   "source": [
    "#import the helper functions for evaluation\n",
    "from helper_functions import m_predict_vi as apvi \n",
    "from helper_functions import b_predict_vi as bpvi\n",
    "from helper_functions import b_predict_mc as bpmc\n",
    "from helper_functions import m_predict_mc as apmc"
   ]
  },
  {
   "cell_type": "code",
   "execution_count": 3,
   "metadata": {},
   "outputs": [],
   "source": [
    "from tensorflow.python.framework.ops import disable_eager_execution\n",
    "disable_eager_execution()"
   ]
  },
  {
   "cell_type": "code",
   "execution_count": 4,
   "metadata": {},
   "outputs": [],
   "source": [
    "#import the fashion mnist dataset (from Zalando)\n",
    "fashion_mnist = keras.datasets.fashion_mnist\n",
    "data = fashion_mnist.load_data()\n",
    "(train_images, train_labels), (test_images, test_labels) = data\n",
    "#(train_images, train_labels), (test_images, test_labels) = fashion_mnist.load_data()"
   ]
  },
  {
   "cell_type": "code",
   "execution_count": 5,
   "metadata": {},
   "outputs": [],
   "source": [
    "class_names = ['T-shirt/top', 'Trouser', 'Pullover', 'Dress', 'Coat',\n",
    "               'Sandal', 'Shirt', 'Sneaker', 'Bag', 'Ankle boot']"
   ]
  },
  {
   "cell_type": "code",
   "execution_count": 6,
   "metadata": {},
   "outputs": [],
   "source": [
    "#preprocess the images\n",
    "train_x = np.expand_dims(train_images/255.0, axis=3)\n",
    "test_x = np.expand_dims(test_images/255.0, axis=3)"
   ]
  },
  {
   "cell_type": "code",
   "execution_count": 7,
   "metadata": {},
   "outputs": [],
   "source": [
    "train_y = train_labels\n",
    "test_y = test_labels"
   ]
  },
  {
   "cell_type": "markdown",
   "metadata": {},
   "source": [
    "# get the models"
   ]
  },
  {
   "cell_type": "code",
   "execution_count": 8,
   "metadata": {},
   "outputs": [
    {
     "name": "stderr",
     "output_type": "stream",
     "text": [
      "WARNING: Logging before flag parsing goes to stderr.\n",
      "W1219 21:01:49.978880  4480 deprecation.py:506] From C:\\Users\\annar\\Anaconda3\\envs\\ml_env\\lib\\site-packages\\tensorflow_core\\python\\ops\\resource_variable_ops.py:1630: calling BaseResourceVariable.__init__ (from tensorflow.python.ops.resource_variable_ops) with constraint is deprecated and will be removed in a future version.\n",
      "Instructions for updating:\n",
      "If using Keras pass *_constraint arguments to layers.\n"
     ]
    }
   ],
   "source": [
    "model = tf.keras.models.load_model('C_001_model_b.h5')"
   ]
  },
  {
   "cell_type": "code",
   "execution_count": 9,
   "metadata": {},
   "outputs": [],
   "source": [
    "kernel_divergence_fn=lambda q, p, _: tfp.distributions.kl_divergence(q, p) / (train_x.shape[0] *1.0)"
   ]
  },
  {
   "cell_type": "code",
   "execution_count": 10,
   "metadata": {},
   "outputs": [
    {
     "name": "stderr",
     "output_type": "stream",
     "text": [
      "W1219 21:01:53.361178  4480 deprecation.py:323] From C:\\Users\\annar\\Anaconda3\\envs\\ml_env\\lib\\site-packages\\tensorflow_probability\\python\\layers\\util.py:104: Layer.add_variable (from tensorflow.python.keras.engine.base_layer) is deprecated and will be removed in a future version.\n",
      "Instructions for updating:\n",
      "Please use `layer.add_weight` method instead.\n"
     ]
    }
   ],
   "source": [
    "model_vi = keras.Sequential([\n",
    "    tfp.layers.Convolution2DFlipout(8, kernel_size=(3,3), padding=\"same\", activation='relu', \n",
    "                                    kernel_divergence_fn=kernel_divergence_fn, input_shape=(28,28,1)),\n",
    "    tfp.layers.Convolution2DFlipout(8, kernel_size=(3,3), padding=\"same\", activation='relu', \n",
    "                                    kernel_divergence_fn = kernel_divergence_fn),\n",
    "    keras.layers.MaxPooling2D(2,2),\n",
    "    tfp.layers.Convolution2DFlipout(16, kernel_size=(3,3), padding=\"same\", activation='relu', \n",
    "                                    kernel_divergence_fn=kernel_divergence_fn),\n",
    "    keras.layers.Flatten(),\n",
    "    #keras.layers.Dropout((0.5)),\n",
    "    tfp.layers.DenseFlipout(10, activation='softmax', kernel_divergence_fn=kernel_divergence_fn)\n",
    "])"
   ]
  },
  {
   "cell_type": "code",
   "execution_count": 11,
   "metadata": {},
   "outputs": [],
   "source": [
    "#model_vi = tf.keras.models.load_model('B_004_model_vi.h5')\n",
    "model_vi.load_weights('C_002_model_vi.h5')"
   ]
  },
  {
   "cell_type": "code",
   "execution_count": 12,
   "metadata": {},
   "outputs": [],
   "source": [
    "model_mc2 = tf.keras.models.load_model('C_001_model_mc2.h5')"
   ]
  },
  {
   "cell_type": "code",
   "execution_count": 13,
   "metadata": {},
   "outputs": [],
   "source": [
    "import tensorflow.keras.backend as K\n",
    "model_mc2_pred = K.function([model_mc2.input, K.learning_phase()], [model_mc2.output])"
   ]
  },
  {
   "cell_type": "markdown",
   "metadata": {},
   "source": [
    "# Evaluate the models and prediction functions"
   ]
  },
  {
   "cell_type": "markdown",
   "metadata": {},
   "source": [
    "We go for one uncertainty measure and order the test dataset accordingly and then check how the accuracy develops"
   ]
  },
  {
   "cell_type": "code",
   "execution_count": 14,
   "metadata": {},
   "outputs": [],
   "source": [
    "# get the bernoulli predict with the variational inference model\n",
    "# the testing before showed that the best results were achieved with 25 or 10 pictures per prediction, since those are very\n",
    "# close I will go with 10 predictions per image since this is computationally less demanding\n",
    "# 18:38\n",
    "bern_vi = bpvi.bern_predict_vi(test_x, model_vi, 10, 10)"
   ]
  },
  {
   "cell_type": "code",
   "execution_count": 15,
   "metadata": {},
   "outputs": [],
   "source": [
    "df_pred = pd.DataFrame(bern_vi)\n",
    "results = pd.DataFrame(df_pred[3])\n",
    "results.columns = ['sort_order']"
   ]
  },
  {
   "cell_type": "code",
   "execution_count": 75,
   "metadata": {},
   "outputs": [],
   "source": [
    "results['b_vi'] = df_pred[0]"
   ]
  },
  {
   "cell_type": "code",
   "execution_count": 80,
   "metadata": {},
   "outputs": [
    {
     "name": "stderr",
     "output_type": "stream",
     "text": [
      "C:\\Users\\annar\\MAS Data Science\\Masterarbeit\\helper_functions\\m_predict_vi.py:18: FutureWarning: \n",
      "The current behaviour of 'Series.argmax' is deprecated, use 'idxmax'\n",
      "instead.\n",
      "The behavior of 'argmax' will be corrected to return the positional\n",
      "maximum in the future. For now, use 'series.values.argmax' or\n",
      "'np.argmax(np.array(values))' to get the position of the maximum\n",
      "row.\n",
      "  max_value = mean.argmax()\n"
     ]
    }
   ],
   "source": [
    "avg_vi = apvi.average_predict_vi(test_x, model_vi, 10, 25)"
   ]
  },
  {
   "cell_type": "code",
   "execution_count": 81,
   "metadata": {},
   "outputs": [],
   "source": [
    "p = pd.DataFrame(avg_vi)\n",
    "results['a_vi'] = p[0]\n",
    "results['a_vi_std'] = p[3]"
   ]
  },
  {
   "cell_type": "code",
   "execution_count": 88,
   "metadata": {},
   "outputs": [],
   "source": [
    "b_mc = bpmc.b_predict_mc(test_x, model_mc2_pred, 10, 25)"
   ]
  },
  {
   "cell_type": "code",
   "execution_count": 89,
   "metadata": {},
   "outputs": [],
   "source": [
    "q = pd.DataFrame(b_mc)\n",
    "results['b_mc'] = q[0]\n",
    "results['b_mc_std'] = q[3]"
   ]
  },
  {
   "cell_type": "code",
   "execution_count": 15,
   "metadata": {},
   "outputs": [],
   "source": [
    "a_mc = apmc.avg_predict_mc(test_x, model_mc2_pred, 10, 25)"
   ]
  },
  {
   "cell_type": "code",
   "execution_count": 17,
   "metadata": {},
   "outputs": [],
   "source": [
    "r = pd.DataFrame(a_mc)\n",
    "results['a_mc'] = r[0]\n",
    "results['a_mc_std'] = r[3]"
   ]
  },
  {
   "cell_type": "code",
   "execution_count": 19,
   "metadata": {},
   "outputs": [],
   "source": [
    "results.to_csv(\"D_001_results.csv\", \";\")"
   ]
  },
  {
   "cell_type": "code",
   "execution_count": 16,
   "metadata": {},
   "outputs": [],
   "source": [
    "results = pd.read_csv(\"D_001_results.csv\", \";\")"
   ]
  },
  {
   "cell_type": "markdown",
   "metadata": {},
   "source": [
    "# do the predictions for the baseline model and the \"normal\" prediction methods"
   ]
  },
  {
   "cell_type": "code",
   "execution_count": 36,
   "metadata": {},
   "outputs": [],
   "source": [
    "cnn_pred = []\n",
    "for i in range(10000):\n",
    "    j = i + 1\n",
    "    pred = model.predict(test_x[i:j]).argmax()\n",
    "    cnn_pred.append(pred)\n",
    "    #print(pred)"
   ]
  },
  {
   "cell_type": "code",
   "execution_count": 37,
   "metadata": {},
   "outputs": [],
   "source": [
    "results['cnn'] = cnn_pred"
   ]
  },
  {
   "cell_type": "code",
   "execution_count": 38,
   "metadata": {},
   "outputs": [],
   "source": [
    "mc_pred = []\n",
    "for i in range(10000):\n",
    "    j = i + 1\n",
    "    pred = model_mc2.predict(test_x[i:j]).argmax()\n",
    "    mc_pred.append(pred)\n",
    "    #print(pred)"
   ]
  },
  {
   "cell_type": "code",
   "execution_count": 39,
   "metadata": {},
   "outputs": [],
   "source": [
    "results['mc'] = mc_pred"
   ]
  },
  {
   "cell_type": "code",
   "execution_count": 40,
   "metadata": {},
   "outputs": [],
   "source": [
    "vi_pred = []\n",
    "for i in range(10000):\n",
    "    j = i + 1\n",
    "    pred = model_vi.predict(test_x[i:j]).argmax()\n",
    "    vi_pred.append(pred)\n",
    "    #print(pred)"
   ]
  },
  {
   "cell_type": "code",
   "execution_count": 41,
   "metadata": {},
   "outputs": [],
   "source": [
    "results['vi'] = vi_pred"
   ]
  },
  {
   "cell_type": "code",
   "execution_count": 42,
   "metadata": {},
   "outputs": [],
   "source": [
    "results.to_csv(\"D_001_results.csv\", \";\")"
   ]
  },
  {
   "cell_type": "markdown",
   "metadata": {},
   "source": [
    "# create the tests"
   ]
  },
  {
   "cell_type": "code",
   "execution_count": 8,
   "metadata": {},
   "outputs": [],
   "source": [
    "results = pd.read_csv(\"D_001_results.csv\", \";\")"
   ]
  },
  {
   "cell_type": "code",
   "execution_count": 9,
   "metadata": {},
   "outputs": [],
   "source": [
    "results['soll'] = test_y"
   ]
  },
  {
   "cell_type": "code",
   "execution_count": 10,
   "metadata": {},
   "outputs": [],
   "source": [
    "testing = results.sort_values(by=['sort_order'], ascending = True)"
   ]
  },
  {
   "cell_type": "code",
   "execution_count": 11,
   "metadata": {},
   "outputs": [
    {
     "data": {
      "text/html": [
       "<div>\n",
       "<style scoped>\n",
       "    .dataframe tbody tr th:only-of-type {\n",
       "        vertical-align: middle;\n",
       "    }\n",
       "\n",
       "    .dataframe tbody tr th {\n",
       "        vertical-align: top;\n",
       "    }\n",
       "\n",
       "    .dataframe thead th {\n",
       "        text-align: right;\n",
       "    }\n",
       "</style>\n",
       "<table border=\"1\" class=\"dataframe\">\n",
       "  <thead>\n",
       "    <tr style=\"text-align: right;\">\n",
       "      <th></th>\n",
       "      <th>Unnamed: 0</th>\n",
       "      <th>Unnamed: 0.1</th>\n",
       "      <th>sort_order</th>\n",
       "      <th>b_vi</th>\n",
       "      <th>a_vi</th>\n",
       "      <th>a_vi_std</th>\n",
       "      <th>b_mc</th>\n",
       "      <th>b_mc_std</th>\n",
       "      <th>a_mc</th>\n",
       "      <th>a_mc_std</th>\n",
       "      <th>cnn</th>\n",
       "      <th>mc</th>\n",
       "      <th>vi</th>\n",
       "      <th>soll</th>\n",
       "    </tr>\n",
       "  </thead>\n",
       "  <tbody>\n",
       "    <tr>\n",
       "      <th>0</th>\n",
       "      <td>0</td>\n",
       "      <td>0</td>\n",
       "      <td>0.0</td>\n",
       "      <td>9</td>\n",
       "      <td>9</td>\n",
       "      <td>0.155031</td>\n",
       "      <td>9</td>\n",
       "      <td>0.20</td>\n",
       "      <td>9</td>\n",
       "      <td>0.159150</td>\n",
       "      <td>9</td>\n",
       "      <td>9</td>\n",
       "      <td>9</td>\n",
       "      <td>9</td>\n",
       "    </tr>\n",
       "    <tr>\n",
       "      <th>7516</th>\n",
       "      <td>7516</td>\n",
       "      <td>7516</td>\n",
       "      <td>0.0</td>\n",
       "      <td>3</td>\n",
       "      <td>3</td>\n",
       "      <td>0.144018</td>\n",
       "      <td>3</td>\n",
       "      <td>0.20</td>\n",
       "      <td>3</td>\n",
       "      <td>0.129668</td>\n",
       "      <td>3</td>\n",
       "      <td>3</td>\n",
       "      <td>3</td>\n",
       "      <td>3</td>\n",
       "    </tr>\n",
       "    <tr>\n",
       "      <th>4078</th>\n",
       "      <td>4078</td>\n",
       "      <td>4078</td>\n",
       "      <td>0.0</td>\n",
       "      <td>9</td>\n",
       "      <td>9</td>\n",
       "      <td>0.092667</td>\n",
       "      <td>9</td>\n",
       "      <td>0.00</td>\n",
       "      <td>9</td>\n",
       "      <td>0.011451</td>\n",
       "      <td>9</td>\n",
       "      <td>9</td>\n",
       "      <td>9</td>\n",
       "      <td>9</td>\n",
       "    </tr>\n",
       "    <tr>\n",
       "      <th>4077</th>\n",
       "      <td>4077</td>\n",
       "      <td>4077</td>\n",
       "      <td>0.0</td>\n",
       "      <td>9</td>\n",
       "      <td>9</td>\n",
       "      <td>0.028589</td>\n",
       "      <td>9</td>\n",
       "      <td>0.00</td>\n",
       "      <td>9</td>\n",
       "      <td>0.003600</td>\n",
       "      <td>9</td>\n",
       "      <td>9</td>\n",
       "      <td>9</td>\n",
       "      <td>9</td>\n",
       "    </tr>\n",
       "    <tr>\n",
       "      <th>4076</th>\n",
       "      <td>4076</td>\n",
       "      <td>4076</td>\n",
       "      <td>0.0</td>\n",
       "      <td>5</td>\n",
       "      <td>5</td>\n",
       "      <td>0.235345</td>\n",
       "      <td>5</td>\n",
       "      <td>0.42</td>\n",
       "      <td>5</td>\n",
       "      <td>0.294049</td>\n",
       "      <td>5</td>\n",
       "      <td>5</td>\n",
       "      <td>5</td>\n",
       "      <td>5</td>\n",
       "    </tr>\n",
       "    <tr>\n",
       "      <th>4075</th>\n",
       "      <td>4075</td>\n",
       "      <td>4075</td>\n",
       "      <td>0.0</td>\n",
       "      <td>5</td>\n",
       "      <td>5</td>\n",
       "      <td>0.019323</td>\n",
       "      <td>5</td>\n",
       "      <td>0.00</td>\n",
       "      <td>5</td>\n",
       "      <td>0.042985</td>\n",
       "      <td>5</td>\n",
       "      <td>5</td>\n",
       "      <td>5</td>\n",
       "      <td>5</td>\n",
       "    </tr>\n",
       "    <tr>\n",
       "      <th>4074</th>\n",
       "      <td>4074</td>\n",
       "      <td>4074</td>\n",
       "      <td>0.0</td>\n",
       "      <td>6</td>\n",
       "      <td>6</td>\n",
       "      <td>0.139378</td>\n",
       "      <td>6</td>\n",
       "      <td>0.33</td>\n",
       "      <td>6</td>\n",
       "      <td>0.133095</td>\n",
       "      <td>6</td>\n",
       "      <td>6</td>\n",
       "      <td>6</td>\n",
       "      <td>2</td>\n",
       "    </tr>\n",
       "    <tr>\n",
       "      <th>7518</th>\n",
       "      <td>7518</td>\n",
       "      <td>7518</td>\n",
       "      <td>0.0</td>\n",
       "      <td>4</td>\n",
       "      <td>4</td>\n",
       "      <td>0.151045</td>\n",
       "      <td>4</td>\n",
       "      <td>0.26</td>\n",
       "      <td>4</td>\n",
       "      <td>0.128975</td>\n",
       "      <td>4</td>\n",
       "      <td>4</td>\n",
       "      <td>4</td>\n",
       "      <td>4</td>\n",
       "    </tr>\n",
       "    <tr>\n",
       "      <th>4072</th>\n",
       "      <td>4072</td>\n",
       "      <td>4072</td>\n",
       "      <td>0.0</td>\n",
       "      <td>4</td>\n",
       "      <td>4</td>\n",
       "      <td>0.117832</td>\n",
       "      <td>4</td>\n",
       "      <td>0.00</td>\n",
       "      <td>4</td>\n",
       "      <td>0.050076</td>\n",
       "      <td>4</td>\n",
       "      <td>4</td>\n",
       "      <td>4</td>\n",
       "      <td>4</td>\n",
       "    </tr>\n",
       "    <tr>\n",
       "      <th>7519</th>\n",
       "      <td>7519</td>\n",
       "      <td>7519</td>\n",
       "      <td>0.0</td>\n",
       "      <td>1</td>\n",
       "      <td>1</td>\n",
       "      <td>0.005676</td>\n",
       "      <td>1</td>\n",
       "      <td>0.00</td>\n",
       "      <td>1</td>\n",
       "      <td>0.002757</td>\n",
       "      <td>1</td>\n",
       "      <td>1</td>\n",
       "      <td>1</td>\n",
       "      <td>1</td>\n",
       "    </tr>\n",
       "    <tr>\n",
       "      <th>4070</th>\n",
       "      <td>4070</td>\n",
       "      <td>4070</td>\n",
       "      <td>0.0</td>\n",
       "      <td>8</td>\n",
       "      <td>8</td>\n",
       "      <td>0.029269</td>\n",
       "      <td>8</td>\n",
       "      <td>0.00</td>\n",
       "      <td>8</td>\n",
       "      <td>0.012594</td>\n",
       "      <td>8</td>\n",
       "      <td>8</td>\n",
       "      <td>8</td>\n",
       "      <td>8</td>\n",
       "    </tr>\n",
       "    <tr>\n",
       "      <th>4069</th>\n",
       "      <td>4069</td>\n",
       "      <td>4069</td>\n",
       "      <td>0.0</td>\n",
       "      <td>7</td>\n",
       "      <td>7</td>\n",
       "      <td>0.203296</td>\n",
       "      <td>7</td>\n",
       "      <td>0.33</td>\n",
       "      <td>7</td>\n",
       "      <td>0.159631</td>\n",
       "      <td>7</td>\n",
       "      <td>7</td>\n",
       "      <td>7</td>\n",
       "      <td>7</td>\n",
       "    </tr>\n",
       "    <tr>\n",
       "      <th>4068</th>\n",
       "      <td>4068</td>\n",
       "      <td>4068</td>\n",
       "      <td>0.0</td>\n",
       "      <td>8</td>\n",
       "      <td>8</td>\n",
       "      <td>0.137010</td>\n",
       "      <td>8</td>\n",
       "      <td>0.00</td>\n",
       "      <td>8</td>\n",
       "      <td>0.006145</td>\n",
       "      <td>8</td>\n",
       "      <td>8</td>\n",
       "      <td>8</td>\n",
       "      <td>8</td>\n",
       "    </tr>\n",
       "    <tr>\n",
       "      <th>4067</th>\n",
       "      <td>4067</td>\n",
       "      <td>4067</td>\n",
       "      <td>0.0</td>\n",
       "      <td>6</td>\n",
       "      <td>6</td>\n",
       "      <td>0.165902</td>\n",
       "      <td>6</td>\n",
       "      <td>0.47</td>\n",
       "      <td>0</td>\n",
       "      <td>0.188406</td>\n",
       "      <td>6</td>\n",
       "      <td>0</td>\n",
       "      <td>6</td>\n",
       "      <td>0</td>\n",
       "    </tr>\n",
       "    <tr>\n",
       "      <th>4066</th>\n",
       "      <td>4066</td>\n",
       "      <td>4066</td>\n",
       "      <td>0.0</td>\n",
       "      <td>5</td>\n",
       "      <td>5</td>\n",
       "      <td>0.013696</td>\n",
       "      <td>5</td>\n",
       "      <td>0.00</td>\n",
       "      <td>5</td>\n",
       "      <td>0.003364</td>\n",
       "      <td>5</td>\n",
       "      <td>5</td>\n",
       "      <td>5</td>\n",
       "      <td>5</td>\n",
       "    </tr>\n",
       "    <tr>\n",
       "      <th>7521</th>\n",
       "      <td>7521</td>\n",
       "      <td>7521</td>\n",
       "      <td>0.0</td>\n",
       "      <td>9</td>\n",
       "      <td>9</td>\n",
       "      <td>0.003857</td>\n",
       "      <td>9</td>\n",
       "      <td>0.00</td>\n",
       "      <td>9</td>\n",
       "      <td>0.002617</td>\n",
       "      <td>9</td>\n",
       "      <td>9</td>\n",
       "      <td>9</td>\n",
       "      <td>9</td>\n",
       "    </tr>\n",
       "    <tr>\n",
       "      <th>7522</th>\n",
       "      <td>7522</td>\n",
       "      <td>7522</td>\n",
       "      <td>0.0</td>\n",
       "      <td>5</td>\n",
       "      <td>5</td>\n",
       "      <td>0.009830</td>\n",
       "      <td>5</td>\n",
       "      <td>0.00</td>\n",
       "      <td>5</td>\n",
       "      <td>0.007755</td>\n",
       "      <td>5</td>\n",
       "      <td>5</td>\n",
       "      <td>5</td>\n",
       "      <td>5</td>\n",
       "    </tr>\n",
       "    <tr>\n",
       "      <th>4063</th>\n",
       "      <td>4063</td>\n",
       "      <td>4063</td>\n",
       "      <td>0.0</td>\n",
       "      <td>7</td>\n",
       "      <td>7</td>\n",
       "      <td>0.067452</td>\n",
       "      <td>7</td>\n",
       "      <td>0.00</td>\n",
       "      <td>7</td>\n",
       "      <td>0.043970</td>\n",
       "      <td>7</td>\n",
       "      <td>7</td>\n",
       "      <td>7</td>\n",
       "      <td>7</td>\n",
       "    </tr>\n",
       "    <tr>\n",
       "      <th>4062</th>\n",
       "      <td>4062</td>\n",
       "      <td>4062</td>\n",
       "      <td>0.0</td>\n",
       "      <td>2</td>\n",
       "      <td>2</td>\n",
       "      <td>0.093006</td>\n",
       "      <td>2</td>\n",
       "      <td>0.00</td>\n",
       "      <td>2</td>\n",
       "      <td>0.044174</td>\n",
       "      <td>2</td>\n",
       "      <td>2</td>\n",
       "      <td>2</td>\n",
       "      <td>2</td>\n",
       "    </tr>\n",
       "    <tr>\n",
       "      <th>4060</th>\n",
       "      <td>4060</td>\n",
       "      <td>4060</td>\n",
       "      <td>0.0</td>\n",
       "      <td>0</td>\n",
       "      <td>0</td>\n",
       "      <td>0.130958</td>\n",
       "      <td>0</td>\n",
       "      <td>0.00</td>\n",
       "      <td>0</td>\n",
       "      <td>0.065245</td>\n",
       "      <td>0</td>\n",
       "      <td>0</td>\n",
       "      <td>0</td>\n",
       "      <td>0</td>\n",
       "    </tr>\n",
       "  </tbody>\n",
       "</table>\n",
       "</div>"
      ],
      "text/plain": [
       "      Unnamed: 0  Unnamed: 0.1  sort_order  b_vi  a_vi  a_vi_std  b_mc  \\\n",
       "0              0             0         0.0     9     9  0.155031     9   \n",
       "7516        7516          7516         0.0     3     3  0.144018     3   \n",
       "4078        4078          4078         0.0     9     9  0.092667     9   \n",
       "4077        4077          4077         0.0     9     9  0.028589     9   \n",
       "4076        4076          4076         0.0     5     5  0.235345     5   \n",
       "4075        4075          4075         0.0     5     5  0.019323     5   \n",
       "4074        4074          4074         0.0     6     6  0.139378     6   \n",
       "7518        7518          7518         0.0     4     4  0.151045     4   \n",
       "4072        4072          4072         0.0     4     4  0.117832     4   \n",
       "7519        7519          7519         0.0     1     1  0.005676     1   \n",
       "4070        4070          4070         0.0     8     8  0.029269     8   \n",
       "4069        4069          4069         0.0     7     7  0.203296     7   \n",
       "4068        4068          4068         0.0     8     8  0.137010     8   \n",
       "4067        4067          4067         0.0     6     6  0.165902     6   \n",
       "4066        4066          4066         0.0     5     5  0.013696     5   \n",
       "7521        7521          7521         0.0     9     9  0.003857     9   \n",
       "7522        7522          7522         0.0     5     5  0.009830     5   \n",
       "4063        4063          4063         0.0     7     7  0.067452     7   \n",
       "4062        4062          4062         0.0     2     2  0.093006     2   \n",
       "4060        4060          4060         0.0     0     0  0.130958     0   \n",
       "\n",
       "      b_mc_std  a_mc  a_mc_std  cnn  mc  vi  soll  \n",
       "0         0.20     9  0.159150    9   9   9     9  \n",
       "7516      0.20     3  0.129668    3   3   3     3  \n",
       "4078      0.00     9  0.011451    9   9   9     9  \n",
       "4077      0.00     9  0.003600    9   9   9     9  \n",
       "4076      0.42     5  0.294049    5   5   5     5  \n",
       "4075      0.00     5  0.042985    5   5   5     5  \n",
       "4074      0.33     6  0.133095    6   6   6     2  \n",
       "7518      0.26     4  0.128975    4   4   4     4  \n",
       "4072      0.00     4  0.050076    4   4   4     4  \n",
       "7519      0.00     1  0.002757    1   1   1     1  \n",
       "4070      0.00     8  0.012594    8   8   8     8  \n",
       "4069      0.33     7  0.159631    7   7   7     7  \n",
       "4068      0.00     8  0.006145    8   8   8     8  \n",
       "4067      0.47     0  0.188406    6   0   6     0  \n",
       "4066      0.00     5  0.003364    5   5   5     5  \n",
       "7521      0.00     9  0.002617    9   9   9     9  \n",
       "7522      0.00     5  0.007755    5   5   5     5  \n",
       "4063      0.00     7  0.043970    7   7   7     7  \n",
       "4062      0.00     2  0.044174    2   2   2     2  \n",
       "4060      0.00     0  0.065245    0   0   0     0  "
      ]
     },
     "execution_count": 11,
     "metadata": {},
     "output_type": "execute_result"
    }
   ],
   "source": [
    "testing.head(20)"
   ]
  },
  {
   "cell_type": "code",
   "execution_count": 12,
   "metadata": {},
   "outputs": [],
   "source": [
    "x = []\n",
    "b_vi = []\n",
    "a_vi = []\n",
    "b_mc = []\n",
    "a_mc = []\n",
    "cnn = []\n",
    "mc = []\n",
    "vi = []\n",
    "for i in range(500,10400,500):\n",
    "    data = results.sort_values(by=['sort_order'], ascending = True)\n",
    "    data = data[0:i]\n",
    "    x.append(i)\n",
    "    b_vi.append((data['soll']==data['b_vi']).sum()/i)\n",
    "    cnn.append((data['soll']==data['cnn']).sum()/i)\n",
    "    mc.append((data['soll']==data['mc']).sum()/i)\n",
    "    vi.append((data['soll']==data['vi']).sum()/i)\n",
    "    data = results.sort_values(by=['a_vi_std'], ascending = True)\n",
    "    data = data[0:i]\n",
    "    a_vi.append((data['soll']==data['a_vi']).sum()/i)\n",
    "    data = results.sort_values(by=['b_mc_std'], ascending = True)\n",
    "    data = data[0:i]\n",
    "    b_mc.append((data['soll']==data['b_mc']).sum()/i)\n",
    "    data = results.sort_values(by=['a_mc_std'], ascending = True)\n",
    "    data = data[0:i]\n",
    "    a_mc.append((data['soll']==data['a_mc']).sum()/i)\n",
    "    data = results    "
   ]
  },
  {
   "cell_type": "code",
   "execution_count": 13,
   "metadata": {},
   "outputs": [
    {
     "data": {
      "text/plain": [
       "Text(0.5, 1.0, 'Scenario C')"
      ]
     },
     "execution_count": 13,
     "metadata": {},
     "output_type": "execute_result"
    },
    {
     "data": {
      "image/png": "[encoded data removed]",
      "text/plain": [
       "<Figure size 432x288 with 1 Axes>"
      ]
     },
     "metadata": {
      "needs_background": "light"
     },
     "output_type": "display_data"
    }
   ],
   "source": [
    "import matplotlib.pyplot as plt\n",
    "\n",
    "#plt.plot(x, b_vi, label='BNN VI Bernoulli', color='red', linestyle='--')\n",
    "plt.plot(x, a_vi, label='BNN VI Average', color='red')\n",
    "plt.plot(x, b_mc, label='BNN MC Bernoulli', color='green', linestyle='-')\n",
    "plt.plot(x, a_mc, label='BNN MC Average', color='blue', linestyle='--')\n",
    "plt.plot(x, cnn, label='CNN', color='black')\n",
    "#plt.plot(x, mc, label='BNN MC', color='orange', linestyle='-')\n",
    "#plt.plot(x, vi, label='BNN VI', color='blue', linestyle='-')\n",
    "\n",
    "plt.xlabel('nr of examples taken')\n",
    "plt.ylabel('accuracy')\n",
    "#plt.xticks(x)\n",
    "#plt.yticks(list_of_dev) \n",
    "\n",
    "plt.legend(loc='lower left')\n",
    "plt.title(\"Scenario C\")\n",
    "          \n"
   ]
  },
  {
   "cell_type": "code",
   "execution_count": 14,
   "metadata": {},
   "outputs": [
    {
     "data": {
      "text/plain": [
       "Text(0.5, 1.0, 'Scenario C small classes')"
      ]
     },
     "execution_count": 14,
     "metadata": {},
     "output_type": "execute_result"
    },
    {
     "data": {
      "image/png": "[encoded data removed]",
      "text/plain": [
       "<Figure size 576x432 with 1 Axes>"
      ]
     },
     "metadata": {
      "needs_background": "light"
     },
     "output_type": "display_data"
    }
   ],
   "source": [
    "## same graphic for presentation\n",
    "## bigger text for graphs in presentation\n",
    "fig, ax = plt.subplots(figsize=(8,6))\n",
    "ax.plot(x, b_vi, label='BNN VI Bernoulli', color='red', linestyle='--')\n",
    "ax.plot(x, a_vi, label='BNN VI Average', color='red')\n",
    "ax.plot(x, b_mc, label='BNN MC Bernoulli', color='green', linestyle='-')\n",
    "ax.plot(x, a_mc, label='BNN MC Average', color='blue', linestyle='--')\n",
    "ax.plot(x, cnn, label='CNN', color='black')\n",
    "\n",
    "ax.set_xlabel('nr of examples taken', fontdict={'size': 14})\n",
    "ax.set_ylabel('accuracy', fontdict={'size': 14})\n",
    "#ax.text(10, 20, 'nr of examples taken', fontsize=14)\n",
    "#plt.xticks([100, 2000, 4000, 6000, 8000, 10000])\n",
    "plt.legend(loc='lower left')\n",
    "ax.set_title(\"Scenario C small classes\", fontdict={'size': 14,\n",
    "                                                       'weight': 'bold'})"
   ]
  },
  {
   "cell_type": "markdown",
   "metadata": {},
   "source": [
    "## Check a picture with high uncertainty and low uncertainty"
   ]
  },
  {
   "cell_type": "code",
   "execution_count": 11,
   "metadata": {},
   "outputs": [
    {
     "data": {
      "text/plain": [
       "Text(0.5, 1.0, 'Hyp C picture with low uncertainty')"
      ]
     },
     "execution_count": 11,
     "metadata": {},
     "output_type": "execute_result"
    },
    {
     "data": {
      "image/png": "[encoded data removed]",
      "text/plain": [
       "<Figure size 432x288 with 1 Axes>"
      ]
     },
     "metadata": {
      "needs_background": "light"
     },
     "output_type": "display_data"
    }
   ],
   "source": [
    "# low uncertainty based on BNN MC Average \n",
    "testing = results.sort_values(by=['a_mc_std'], ascending = True)\n",
    "n = testing.index[3]\n",
    "plt.imshow(np.squeeze(test_x[n:n+1][0], axis = 2), cmap=plt.cm.binary)\n",
    "plt.xlabel(class_names[test_y[n]])\n",
    "plt.title('Hyp C picture with low uncertainty')"
   ]
  },
  {
   "cell_type": "code",
   "execution_count": 12,
   "metadata": {},
   "outputs": [
    {
     "data": {
      "image/png": "[encoded data removed]",
      "text/plain": [
       "<Figure size 432x288 with 1 Axes>"
      ]
     },
     "metadata": {
      "needs_background": "light"
     },
     "output_type": "display_data"
    }
   ],
   "source": [
    "# high uncertainty\n",
    "n = testing.index[9999]\n",
    "plt.imshow(np.squeeze(test_x[n:n+1][0], axis = 2), cmap=plt.cm.binary)\n",
    "plt.xlabel(class_names[test_y[n]])\n",
    "plt.title('Hyp C picture with high uncertainty')\n",
    "plt.show()\n"
   ]
  },
  {
   "cell_type": "code",
   "execution_count": 17,
   "metadata": {},
   "outputs": [
    {
     "data": {
      "text/plain": [
       "4    0.1925\n",
       "2    0.1895\n",
       "6    0.1875\n",
       "0    0.1310\n",
       "3    0.0840\n",
       "5    0.0645\n",
       "7    0.0525\n",
       "8    0.0385\n",
       "1    0.0360\n",
       "9    0.0240\n",
       "Name: soll, dtype: float64"
      ]
     },
     "execution_count": 17,
     "metadata": {},
     "output_type": "execute_result"
    }
   ],
   "source": [
    "#check whether the more unceratin ones are from a specific classtesting\n",
    "testing['soll'][7999:9999].value_counts()/2000"
   ]
  },
  {
   "cell_type": "code",
   "execution_count": null,
   "metadata": {},
   "outputs": [],
   "source": []
  }
 ],
 "metadata": {
  "kernelspec": {
   "display_name": "Python [conda env:ml_env]",
   "language": "python",
   "name": "conda-env-ml_env-py"
  },
  "language_info": {
   "codemirror_mode": {
    "name": "ipython",
    "version": 3
   },
   "file_extension": ".py",
   "mimetype": "text/x-python",
   "name": "python",
   "nbconvert_exporter": "python",
   "pygments_lexer": "ipython3",
   "version": "3.7.3"
  }
 },
 "nbformat": 4,
 "nbformat_minor": 2
}
