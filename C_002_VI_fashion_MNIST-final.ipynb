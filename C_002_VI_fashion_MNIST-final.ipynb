{
 "cells": [
  {
   "cell_type": "code",
   "execution_count": 1,
   "metadata": {},
   "outputs": [
    {
     "name": "stdout",
     "output_type": "stream",
     "text": [
      "tensorflow:  2.0.0\n",
      "tensorflow_prob:  0.8.0\n"
     ]
    }
   ],
   "source": [
    "# import the needed packages and check version\n",
    "import tensorflow as tf\n",
    "from tensorflow import keras\n",
    "import tensorflow_probability as tfp\n",
    "\n",
    "# Helper libraries\n",
    "import numpy as np\n",
    "import pandas as pd\n",
    "import matplotlib.pyplot as plt\n",
    "\n",
    "print(\"tensorflow: \", tf.__version__) #2.0.0\n",
    "print(\"tensorflow_prob: \", tfp.__version__) #"
   ]
  },
  {
   "cell_type": "code",
   "execution_count": 2,
   "metadata": {},
   "outputs": [],
   "source": [
    "from tensorflow.python.framework.ops import disable_eager_execution\n",
    "disable_eager_execution()"
   ]
  },
  {
   "cell_type": "code",
   "execution_count": 3,
   "metadata": {},
   "outputs": [],
   "source": [
    "#import the fashion mnist dataset (from Zalando)\n",
    "fashion_mnist = keras.datasets.fashion_mnist\n",
    "data = fashion_mnist.load_data()\n",
    "(train_images, train_labels), (test_images, test_labels) = data\n",
    "#(train_images, train_labels), (test_images, test_labels) = fashion_mnist.load_data()"
   ]
  },
  {
   "cell_type": "code",
   "execution_count": 4,
   "metadata": {},
   "outputs": [],
   "source": [
    "class_names = ['T-shirt/top', 'Trouser', 'Pullover', 'Dress', 'Coat',\n",
    "               'Sandal', 'Shirt', 'Sneaker', 'Bag', 'Ankle boot']"
   ]
  },
  {
   "cell_type": "code",
   "execution_count": 5,
   "metadata": {},
   "outputs": [],
   "source": [
    "#preprocess the images\n",
    "train_x = np.expand_dims(train_images/255.0, axis=3)\n",
    "test_x = np.expand_dims(test_images/255.0, axis=3)"
   ]
  },
  {
   "cell_type": "code",
   "execution_count": 6,
   "metadata": {},
   "outputs": [],
   "source": [
    "train_y = train_labels\n",
    "test_y = test_labels"
   ]
  },
  {
   "cell_type": "markdown",
   "metadata": {},
   "source": [
    "# Miminimze classes"
   ]
  },
  {
   "cell_type": "code",
   "execution_count": 7,
   "metadata": {},
   "outputs": [],
   "source": [
    "# define function to select only specific category\n",
    "def select_max_category(data, label, category, max_nr_for_category):\n",
    "    new_data = []\n",
    "    new_label = []\n",
    "    for i in range(len(label)):\n",
    "        if label[i] == category:\n",
    "            if len(new_label) <= max_nr_for_category-1:\n",
    "                new_label.append(label[i])\n",
    "                new_data.append(data[i])\n",
    "    #new_data = np.array(new_data)\n",
    "    #new_label = np.array(new_label)\n",
    "    return new_data, new_label"
   ]
  },
  {
   "cell_type": "code",
   "execution_count": 8,
   "metadata": {},
   "outputs": [],
   "source": [
    "#create a set with only ones in it for experimenting\n",
    "# with ones, as we want to reduce the zeros\n",
    "all_zero_x = test_x[np.where(test_y==1)[0]]\n",
    "all_zero_y = test_y[np.where(test_y==1)[0]]"
   ]
  },
  {
   "cell_type": "code",
   "execution_count": 9,
   "metadata": {},
   "outputs": [],
   "source": [
    "# select some pictures of class 1 and define how many\n",
    "# in the original dataset 7000 images per class are available\n",
    "rate = 0.05\n",
    "zero_x, zero_y = select_max_category(train_x, train_y, 0, 6000*rate)\n",
    "one_x, one_y = select_max_category(train_x, train_y, 1, 6000*rate)\n",
    "two_x, two_y = select_max_category(train_x, train_y, 2, 6000*rate)\n",
    "three_x, three_y = select_max_category(train_x, train_y, 3, 6000*rate)\n",
    "four_x, four_y = select_max_category(train_x, train_y, 4, 6000*rate)\n",
    "five_x, five_y = select_max_category(train_x, train_y, 5, 6000*rate)\n",
    "six_x, six_y = select_max_category(train_x, train_y, 6, 6000*rate)\n",
    "seven_x, seven_y = select_max_category(train_x, train_y, 7, 6000*rate)\n",
    "eight_x, eight_y = select_max_category(train_x, train_y, 8, 6000*rate)\n",
    "nine_x, nine_y = select_max_category(train_x, train_y, 9, 6000*rate)"
   ]
  },
  {
   "cell_type": "code",
   "execution_count": 10,
   "metadata": {},
   "outputs": [
    {
     "data": {
      "text/plain": [
       "(300, 28, 28, 1)"
      ]
     },
     "execution_count": 10,
     "metadata": {},
     "output_type": "execute_result"
    }
   ],
   "source": [
    "one_x = np.array(one_x)\n",
    "one_x.shape"
   ]
  },
  {
   "cell_type": "code",
   "execution_count": 11,
   "metadata": {},
   "outputs": [
    {
     "data": {
      "text/plain": [
       "(300,)"
      ]
     },
     "execution_count": 11,
     "metadata": {},
     "output_type": "execute_result"
    }
   ],
   "source": [
    "one_y = np.array(one_y)\n",
    "one_y.shape"
   ]
  },
  {
   "cell_type": "code",
   "execution_count": 12,
   "metadata": {},
   "outputs": [],
   "source": [
    "train_x = np.append(two_x, one_x, axis=0)\n",
    "train_x = np.append(train_x, three_x, axis = 0)\n",
    "train_x = np.append(train_x, four_x, axis = 0)\n",
    "train_x = np.append(train_x, five_x, axis = 0)\n",
    "train_x = np.append(train_x, six_x, axis = 0)\n",
    "train_x = np.append(train_x, seven_x, axis = 0)\n",
    "train_x = np.append(train_x, eight_x, axis = 0)\n",
    "train_x = np.append(train_x, nine_x, axis = 0)\n",
    "train_x = np.append(train_x, zero_x, axis = 0)\n",
    "\n",
    "                   \n",
    "train_y = np.append(two_y, one_y, axis=0)\n",
    "train_y = np.append(train_y, three_y, axis=0)\n",
    "train_y = np.append(train_y, four_y, axis=0)\n",
    "train_y = np.append(train_y, five_y, axis=0)\n",
    "train_y = np.append(train_y, six_y, axis=0)\n",
    "train_y = np.append(train_y, seven_y, axis=0)\n",
    "train_y = np.append(train_y, eight_y, axis=0)\n",
    "train_y = np.append(train_y, nine_y, axis=0)\n",
    "train_y = np.append(train_y, zero_y, axis=0)\n",
    "#train_y = np.array(pd.get_dummies(train_y)) #onehotencoding"
   ]
  },
  {
   "cell_type": "code",
   "execution_count": 13,
   "metadata": {},
   "outputs": [
    {
     "name": "stdout",
     "output_type": "stream",
     "text": [
      "(3000, 28, 28, 1) (3000,)\n"
     ]
    }
   ],
   "source": [
    "print(train_x.shape, train_y.shape)"
   ]
  },
  {
   "cell_type": "code",
   "execution_count": 14,
   "metadata": {},
   "outputs": [],
   "source": [
    "#shuffle the data\n",
    "n = train_x.shape[0]\n",
    "## numpy has a shuffle method\n",
    "permutation = np.arange(n) #n = number of pictures/length of data\n",
    "np.random.shuffle(permutation)\n",
    "    \n",
    "train_x = [train_x[i] for i in permutation]\n",
    "train_y = [train_y[i] for i in permutation]\n",
    "#labels_ohe_shuffled = [labels_ohe[i] for i in permutation]\n",
    "\n",
    "train_x = np.array(train_x)\n",
    "train_y = np.array(train_y)\n",
    "\n",
    "#train_y = np.array(pd.get_dummies(train_y)) #onehotencoding\n",
    "train_y = np.array(pd.get_dummies(train_y))"
   ]
  },
  {
   "cell_type": "code",
   "execution_count": 15,
   "metadata": {},
   "outputs": [
    {
     "name": "stdout",
     "output_type": "stream",
     "text": [
      "(3000, 28, 28, 1)\n",
      "(3000, 10)\n"
     ]
    }
   ],
   "source": [
    "print(train_x.shape)\n",
    "print(train_y.shape)"
   ]
  },
  {
   "cell_type": "markdown",
   "metadata": {},
   "source": [
    "# Construct a baseline CNN"
   ]
  },
  {
   "cell_type": "code",
   "execution_count": 57,
   "metadata": {},
   "outputs": [],
   "source": [
    "model = keras.Sequential([\n",
    "    keras.layers.Convolution2D(8, kernel_size=(3,3), padding=\"same\", activation='relu', input_shape=(28,28,1)),\n",
    "    keras.layers.Convolution2D(8, kernel_size=(3,3), padding=\"same\", activation='relu'),\n",
    "    keras.layers.MaxPooling2D(2,2),\n",
    "    keras.layers.Convolution2D(16, kernel_size=(3,3), padding=\"same\", activation='relu'),\n",
    "    keras.layers.Flatten(),\n",
    "    keras.layers.Dropout((0.5)),\n",
    "    keras.layers.Dense(10, activation='softmax')\n",
    "])"
   ]
  },
  {
   "cell_type": "code",
   "execution_count": 58,
   "metadata": {},
   "outputs": [
    {
     "name": "stdout",
     "output_type": "stream",
     "text": [
      "Model: \"sequential_1\"\n",
      "_________________________________________________________________\n",
      "Layer (type)                 Output Shape              Param #   \n",
      "=================================================================\n",
      "conv2d_3 (Conv2D)            (None, 28, 28, 8)         80        \n",
      "_________________________________________________________________\n",
      "conv2d_4 (Conv2D)            (None, 28, 28, 8)         584       \n",
      "_________________________________________________________________\n",
      "max_pooling2d_1 (MaxPooling2 (None, 14, 14, 8)         0         \n",
      "_________________________________________________________________\n",
      "conv2d_5 (Conv2D)            (None, 14, 14, 16)        1168      \n",
      "_________________________________________________________________\n",
      "flatten_1 (Flatten)          (None, 3136)              0         \n",
      "_________________________________________________________________\n",
      "dropout_1 (Dropout)          (None, 3136)              0         \n",
      "_________________________________________________________________\n",
      "dense_1 (Dense)              (None, 10)                31370     \n",
      "=================================================================\n",
      "Total params: 33,202\n",
      "Trainable params: 33,202\n",
      "Non-trainable params: 0\n",
      "_________________________________________________________________\n"
     ]
    }
   ],
   "source": [
    "model.compile(loss='categorical_crossentropy', optimizer='adam', metrics=['accuracy'])\n",
    "model.summary()"
   ]
  },
  {
   "cell_type": "code",
   "execution_count": 59,
   "metadata": {},
   "outputs": [
    {
     "name": "stdout",
     "output_type": "stream",
     "text": [
      "Epoch 1/10\n",
      "3000/3000 [==============================] - 3s 1ms/sample - loss: 1.1296 - acc: 0.5820\n",
      "Epoch 2/10\n",
      "3000/3000 [==============================] - 3s 1ms/sample - loss: 0.6516 - acc: 0.7693\n",
      "Epoch 3/10\n",
      "3000/3000 [==============================] - 4s 1ms/sample - loss: 0.5561 - acc: 0.8053 0s - loss: 0.5645 - a\n",
      "Epoch 4/10\n",
      "3000/3000 [==============================] - 3s 1ms/sample - loss: 0.5083 - acc: 0.8177\n",
      "Epoch 5/10\n",
      "3000/3000 [==============================] - 4s 1ms/sample - loss: 0.4715 - acc: 0.8347\n",
      "Epoch 6/10\n",
      "3000/3000 [==============================] - 3s 1ms/sample - loss: 0.4455 - acc: 0.8463\n",
      "Epoch 7/10\n",
      "3000/3000 [==============================] - 4s 1ms/sample - loss: 0.4115 - acc: 0.8443\n",
      "Epoch 8/10\n",
      "3000/3000 [==============================] - 3s 1ms/sample - loss: 0.3956 - acc: 0.8557\n",
      "Epoch 9/10\n",
      "3000/3000 [==============================] - 3s 1ms/sample - loss: 0.3721 - acc: 0.8677\n",
      "Epoch 10/10\n",
      "3000/3000 [==============================] - 3s 889us/sample - loss: 0.3625 - acc: 0.8740\n"
     ]
    }
   ],
   "source": [
    "history = model.fit(train_x, train_y, epochs = 10)"
   ]
  },
  {
   "cell_type": "code",
   "execution_count": 60,
   "metadata": {},
   "outputs": [],
   "source": [
    "model.save('C_001_model_b.h5') #save the model for the scrumbled data"
   ]
  },
  {
   "cell_type": "code",
   "execution_count": 16,
   "metadata": {},
   "outputs": [
    {
     "name": "stderr",
     "output_type": "stream",
     "text": [
      "WARNING: Logging before flag parsing goes to stderr.\n",
      "W1206 13:35:48.888629 19308 deprecation.py:506] From C:\\Users\\annar\\Anaconda3\\envs\\ml_env\\lib\\site-packages\\tensorflow_core\\python\\ops\\resource_variable_ops.py:1630: calling BaseResourceVariable.__init__ (from tensorflow.python.ops.resource_variable_ops) with constraint is deprecated and will be removed in a future version.\n",
      "Instructions for updating:\n",
      "If using Keras pass *_constraint arguments to layers.\n"
     ]
    }
   ],
   "source": [
    "model = tf.keras.models.load_model('C_001_model_b.h5')"
   ]
  },
  {
   "cell_type": "markdown",
   "metadata": {},
   "source": [
    "# Check the baseline model for a random picture"
   ]
  },
  {
   "cell_type": "code",
   "execution_count": 17,
   "metadata": {},
   "outputs": [],
   "source": [
    "picture = 100\n",
    "picture_end = picture + 1"
   ]
  },
  {
   "cell_type": "code",
   "execution_count": 18,
   "metadata": {},
   "outputs": [
    {
     "data": {
      "image/png": "[encoded data removed]",
      "text/plain": [
       "<Figure size 432x288 with 25 Axes>"
      ]
     },
     "metadata": {
      "needs_background": "light"
     },
     "output_type": "display_data"
    }
   ],
   "source": [
    "for i in range(2,27,1):\n",
    "    j = 1+i\n",
    "    k = i-1\n",
    "    prediction = model.predict([one_x[i:j], 1])[0]\n",
    "    x = [0,1,2,3,4,5,6,7,8,9]\n",
    "    plt.subplot(5,5,k)\n",
    "    plt.bar(x,prediction, color = ['black']) #color=(0.3,0.3,0.3,1.0)\n",
    "    plt.xticks(x)\n",
    "    plt.ylim(0,1.0)\n",
    "    #plt.xticks(np.arange(10), class_names, rotation = 90)\n",
    "    #plt.title('probabilities predicted')"
   ]
  },
  {
   "cell_type": "code",
   "execution_count": 19,
   "metadata": {},
   "outputs": [
    {
     "data": {
      "text/plain": [
       "Text(0.5, 1.0, 'image')"
      ]
     },
     "execution_count": 19,
     "metadata": {},
     "output_type": "execute_result"
    },
    {
     "data": {
      "image/png": "[encoded data removed]",
      "text/plain": [
       "<Figure size 432x288 with 2 Axes>"
      ]
     },
     "metadata": {
      "needs_background": "light"
     },
     "output_type": "display_data"
    }
   ],
   "source": [
    "prediction = model.predict([one_x[picture:picture_end], 1])[0]\n",
    "x = [0,1,2,3,4,5,6,7,8,9]\n",
    "plt.subplot(2,3,1)\n",
    "plt.bar(x,prediction, color = ['black']) #color=(0.3,0.3,0.3,1.0)\n",
    "plt.xticks(np.arange(10), class_names, rotation = 90)\n",
    "plt.title('probabilities predicted')\n",
    "\n",
    "plt.subplot(2,3,2)\n",
    "plt.xticks([])\n",
    "plt.yticks([])\n",
    "plt.imshow(np.squeeze(one_x[picture:picture_end][0], axis = 2), cmap=plt.cm.binary)\n",
    "plt.xlabel(class_names[one_y[picture]])\n",
    "plt.title('image')"
   ]
  },
  {
   "cell_type": "markdown",
   "metadata": {},
   "source": [
    "# Create a model with MC Dropout"
   ]
  },
  {
   "cell_type": "code",
   "execution_count": 20,
   "metadata": {},
   "outputs": [],
   "source": [
    "kernel_divergence_fn=lambda q, p, _: tfp.distributions.kl_divergence(q, p) / (train_x.shape[0] *1.0)"
   ]
  },
  {
   "cell_type": "code",
   "execution_count": 21,
   "metadata": {},
   "outputs": [
    {
     "name": "stderr",
     "output_type": "stream",
     "text": [
      "W1206 13:36:13.862072 19308 deprecation.py:323] From C:\\Users\\annar\\Anaconda3\\envs\\ml_env\\lib\\site-packages\\tensorflow_probability\\python\\layers\\util.py:104: Layer.add_variable (from tensorflow.python.keras.engine.base_layer) is deprecated and will be removed in a future version.\n",
      "Instructions for updating:\n",
      "Please use `layer.add_weight` method instead.\n"
     ]
    },
    {
     "name": "stdout",
     "output_type": "stream",
     "text": [
      "Model: \"sequential\"\n",
      "_________________________________________________________________\n",
      "Layer (type)                 Output Shape              Param #   \n",
      "=================================================================\n",
      "conv2d_flipout (Conv2DFlipou (None, 28, 28, 8)         152       \n",
      "_________________________________________________________________\n",
      "conv2d_flipout_1 (Conv2DFlip (None, 28, 28, 8)         1160      \n",
      "_________________________________________________________________\n",
      "max_pooling2d (MaxPooling2D) (None, 14, 14, 8)         0         \n",
      "_________________________________________________________________\n",
      "conv2d_flipout_2 (Conv2DFlip (None, 14, 14, 16)        2320      \n",
      "_________________________________________________________________\n",
      "flatten (Flatten)            (None, 3136)              0         \n",
      "_________________________________________________________________\n",
      "dense_flipout (DenseFlipout) (None, 10)                62730     \n",
      "=================================================================\n",
      "Total params: 66,362\n",
      "Trainable params: 66,362\n",
      "Non-trainable params: 0\n",
      "_________________________________________________________________\n"
     ]
    }
   ],
   "source": [
    "model_vi = keras.Sequential([\n",
    "    tfp.layers.Convolution2DFlipout(8, kernel_size=(3,3), padding=\"same\", activation='relu', \n",
    "                                    kernel_divergence_fn=kernel_divergence_fn, input_shape=(28,28,1)),\n",
    "    tfp.layers.Convolution2DFlipout(8, kernel_size=(3,3), padding=\"same\", activation='relu', \n",
    "                                    kernel_divergence_fn = kernel_divergence_fn),\n",
    "    keras.layers.MaxPooling2D(2,2),\n",
    "    tfp.layers.Convolution2DFlipout(16, kernel_size=(3,3), padding=\"same\", activation='relu', \n",
    "                                    kernel_divergence_fn=kernel_divergence_fn),\n",
    "    keras.layers.Flatten(),\n",
    "    #keras.layers.Dropout((0.5)),\n",
    "    tfp.layers.DenseFlipout(10, activation='softmax', kernel_divergence_fn=kernel_divergence_fn)\n",
    "])\n",
    "\n",
    "model_vi.compile(loss='categorical_crossentropy', optimizer=\"adam\", metrics=['accuracy'])\n",
    "model_vi.summary()"
   ]
  },
  {
   "cell_type": "code",
   "execution_count": 42,
   "metadata": {},
   "outputs": [
    {
     "name": "stdout",
     "output_type": "stream",
     "text": [
      "Train on 3000 samples\n",
      "Epoch 1/10\n",
      "3000/3000 [==============================] - 7s 2ms/sample - loss: 29.1987 - accuracy: 0.3690\n",
      "Epoch 2/10\n",
      "3000/3000 [==============================] - 7s 2ms/sample - loss: 27.6387 - accuracy: 0.6550\n",
      "Epoch 3/10\n",
      "3000/3000 [==============================] - 7s 2ms/sample - loss: 26.7267 - accuracy: 0.7053\n",
      "Epoch 4/10\n",
      "3000/3000 [==============================] - 7s 2ms/sample - loss: 25.8951 - accuracy: 0.7283\n",
      "Epoch 5/10\n",
      "3000/3000 [==============================] - 9s 3ms/sample - loss: 25.0930 - accuracy: 0.7507\n",
      "Epoch 6/10\n",
      "3000/3000 [==============================] - 8s 3ms/sample - loss: 24.3073 - accuracy: 0.7627\n",
      "Epoch 7/10\n",
      "3000/3000 [==============================] - 7s 2ms/sample - loss: 23.5384 - accuracy: 0.7867\n",
      "Epoch 8/10\n",
      "3000/3000 [==============================] - 7s 2ms/sample - loss: 22.8059 - accuracy: 0.7870\n",
      "Epoch 9/10\n",
      "3000/3000 [==============================] - 7s 2ms/sample - loss: 22.0485 - accuracy: 0.8033\n",
      "Epoch 10/10\n",
      "3000/3000 [==============================] - 7s 2ms/sample - loss: 21.3330 - accuracy: 0.8110\n"
     ]
    }
   ],
   "source": [
    "history_vi = model_vi.fit(train_x, train_y, epochs = 10)"
   ]
  },
  {
   "cell_type": "code",
   "execution_count": 78,
   "metadata": {},
   "outputs": [
    {
     "data": {
      "image/png": "[encoded data removed]",
      "text/plain": [
       "<Figure size 864x360 with 2 Axes>"
      ]
     },
     "metadata": {
      "needs_background": "light"
     },
     "output_type": "display_data"
    }
   ],
   "source": [
    "plt.figure(figsize=(12,5))\n",
    "plt.subplot(1,2,1)\n",
    "plt.plot(history_vi.history['acc'])\n",
    "#plt.plot(history_b.history['val_accuracy'])\n",
    "plt.ylim(0,1)\n",
    "plt.title('model accuracy')\n",
    "plt.ylabel('accuracy')\n",
    "plt.xlabel('epoch')\n",
    "plt.legend(['train', 'valid'], loc='lower right')\n",
    "plt.subplot(1,2,2)\n",
    "plt.plot(history_vi.history['loss'])\n",
    "#plt.plot(history_b.history['va_loss'])\n",
    "plt.title('model loss')\n",
    "plt.ylabel('loss')\n",
    "plt.xlabel('epoch')\n",
    "plt.legend(['train', 'valid'], loc='upper right')\n",
    "plt.show()"
   ]
  },
  {
   "cell_type": "code",
   "execution_count": 43,
   "metadata": {},
   "outputs": [],
   "source": [
    "model_vi.save('C_002_model_vi.h5')"
   ]
  },
  {
   "cell_type": "code",
   "execution_count": 22,
   "metadata": {},
   "outputs": [],
   "source": [
    "#model_vi = tf.keras.models.load_model('B_004_model_vi.h5')\n",
    "model_vi.load_weights('C_002_model_vi.h5')"
   ]
  },
  {
   "cell_type": "markdown",
   "metadata": {},
   "source": [
    "# Evaluate and quantify the BNN"
   ]
  },
  {
   "cell_type": "markdown",
   "metadata": {},
   "source": [
    "## evaluate baseline CNN"
   ]
  },
  {
   "cell_type": "code",
   "execution_count": 26,
   "metadata": {},
   "outputs": [
    {
     "name": "stdout",
     "output_type": "stream",
     "text": [
      "10000/10000 [==============================] - 3s 253us/sample - loss: 0.4405 - accuracy: 0.8411\n"
     ]
    },
    {
     "data": {
      "text/plain": [
       "[0.440457776927948, 0.8411]"
      ]
     },
     "execution_count": 26,
     "metadata": {},
     "output_type": "execute_result"
    }
   ],
   "source": [
    "# evaluate the baseline CNN on the test dataset\n",
    "test_y_ohe = np.array(pd.get_dummies(test_y))\n",
    "model.evaluate(test_x, test_y_ohe)"
   ]
  },
  {
   "cell_type": "markdown",
   "metadata": {},
   "source": [
    "## evaluate the BNN with the standard prediction method"
   ]
  },
  {
   "cell_type": "code",
   "execution_count": 27,
   "metadata": {},
   "outputs": [
    {
     "name": "stdout",
     "output_type": "stream",
     "text": [
      "10000/10000 [==============================] - 6s 641us/sample - loss: 21.0555 - accuracy: 0.7725\n"
     ]
    },
    {
     "data": {
      "text/plain": [
       "[21.05554945983887, 0.7725]"
      ]
     },
     "execution_count": 27,
     "metadata": {},
     "output_type": "execute_result"
    }
   ],
   "source": [
    "test_y_ohe = np.array(pd.get_dummies(test_y))\n",
    "model_vi.evaluate(test_x, test_y_ohe)"
   ]
  },
  {
   "cell_type": "markdown",
   "metadata": {},
   "source": [
    "# evaluate the BNN with special prediction method"
   ]
  },
  {
   "cell_type": "code",
   "execution_count": 28,
   "metadata": {},
   "outputs": [],
   "source": [
    "#import the helper functions for evaluation\n",
    "from helper_functions import m_predict_vi as apvi \n",
    "from helper_functions import b_predict_vi as bpvi"
   ]
  },
  {
   "cell_type": "code",
   "execution_count": 29,
   "metadata": {},
   "outputs": [],
   "source": [
    "list_of_predictions = [5, 10, 25, 50, 100]\n",
    "list_of_dev = [0.1, 0.2, 0.3, 0.4, 0.5]"
   ]
  },
  {
   "cell_type": "markdown",
   "metadata": {},
   "source": [
    "## Bernoulli prediction"
   ]
  },
  {
   "cell_type": "code",
   "execution_count": 34,
   "metadata": {},
   "outputs": [],
   "source": [
    "# test without taking uncertainty into consideration\n",
    "# for 5, 10, 25, 50 and 100 predictions per image\n",
    "pred = bpvi.bern_predict_vi(test_x, model_vi, 10, 5)"
   ]
  },
  {
   "cell_type": "code",
   "execution_count": 35,
   "metadata": {},
   "outputs": [],
   "source": [
    "import pandas as pd\n",
    "p = pd.DataFrame(pred)\n",
    "#p['soll'] = test_y\n",
    "#p.to_csv(\"C_001_test_set_with_predictions_5.csv\", \";\")"
   ]
  },
  {
   "cell_type": "code",
   "execution_count": 36,
   "metadata": {},
   "outputs": [
    {
     "data": {
      "text/plain": [
       "0.8108"
      ]
     },
     "execution_count": 36,
     "metadata": {},
     "output_type": "execute_result"
    }
   ],
   "source": [
    "#just the predictions:\n",
    "(p[0] == test_y).sum()/test_x.shape[0]"
   ]
  },
  {
   "cell_type": "code",
   "execution_count": 37,
   "metadata": {},
   "outputs": [
    {
     "name": "stdout",
     "output_type": "stream",
     "text": [
      "0.1 :  0.4882\n",
      "0.2 :  0.4882\n",
      "0.3 :  0.6158\n",
      "0.4 :  0.672\n",
      "0.5 :  0.7768\n"
     ]
    }
   ],
   "source": [
    "#for different uncertainty levels\n",
    "for i in list_of_dev:\n",
    "    p['unc_est'] = np.where(p[3] >= i, 1, p[0])\n",
    "    w = (p['unc_est'] == test_y).sum()/test_x.shape[0]\n",
    "    print(i, \": \" , w)"
   ]
  },
  {
   "cell_type": "code",
   "execution_count": 38,
   "metadata": {},
   "outputs": [
    {
     "name": "stdout",
     "output_type": "stream",
     "text": [
      "0.1 - 0.2 :  0.7298\n",
      "0.1 - 0.3 :  0.6832\n",
      "0.1 - 0.4 :  0.6054\n",
      "0.1 - 0.5 :  0.4882\n",
      "0.2 - 0.3 :  0.6832\n",
      "0.2 - 0.4 :  0.6054\n",
      "0.2 - 0.5 :  0.4882\n",
      "0.3 - 0.4 :  0.733\n",
      "0.3 - 0.5 :  0.6158\n",
      "0.4 - 0.5 :  0.672\n"
     ]
    }
   ],
   "source": [
    "#evaluate with ranges\n",
    "for i in list_of_dev:\n",
    "    for j in list_of_dev:\n",
    "        if j>i:\n",
    "                p['unc_est'] = np.where(((p[3] >= i) & (p[3]<=j)), 1, p[0])\n",
    "                w = (p['unc_est'] == test_y).sum()/test_x.shape[0]\n",
    "                print(i, \"-\", j, \": \" , w)"
   ]
  },
  {
   "cell_type": "markdown",
   "metadata": {},
   "source": [
    "### graphic"
   ]
  },
  {
   "cell_type": "code",
   "execution_count": 75,
   "metadata": {},
   "outputs": [],
   "source": [
    "x = [5, 10, 25]\n",
    "y = [0.8046, 0.8103, 0.8108]\n",
    "y50 = [0.8046, 0.7884, 0.7768]\n",
    "y40 = [0.6227, 0.5639, 0.672]\n",
    "y30 = [0.6227, 0.5639, 0.6158]\n",
    "y20 = [0.6227, 0.5639, 0.4882]\n",
    "y10 = [0.6227, 0.5639, 0.4882]"
   ]
  },
  {
   "cell_type": "code",
   "execution_count": 76,
   "metadata": {},
   "outputs": [
    {
     "data": {
      "image/png": "[encoded data removed]",
      "text/plain": [
       "<Figure size 432x288 with 1 Axes>"
      ]
     },
     "metadata": {
      "needs_background": "light"
     },
     "output_type": "display_data"
    }
   ],
   "source": [
    "import matplotlib.pyplot as plt\n",
    "\n",
    "plt.plot(x,y, label='no correction', color='black')\n",
    "plt.plot(x, y10, label='>=10%', color='green', linestyle='--')\n",
    "plt.plot(x, y20, label='>=20%', color='green', linestyle='-')\n",
    "plt.plot(x, y30, label='>=30%', color='blue', linestyle='--')\n",
    "plt.plot(x, y40, label='>=40%', color='black', linestyle='--')\n",
    "plt.plot(x, y50, label='>=50%', color='blue', linestyle='-')\n",
    "\n",
    "plt.xlabel('number of predictions per image')\n",
    "plt.ylabel('accuracy')\n",
    "plt.xticks(x)\n",
    "#plt.yticks(list_of_dev)\n",
    "\n",
    "plt.legend(loc='lower left')\n",
    "plt.show()"
   ]
  },
  {
   "cell_type": "markdown",
   "metadata": {},
   "source": [
    "## Average prediction"
   ]
  },
  {
   "cell_type": "code",
   "execution_count": 19,
   "metadata": {},
   "outputs": [],
   "source": [
    "list_of_predictions = [5, 10, 25, 50, 100]\n",
    "list_of_dev = [0.1, 0.2, 0.3, 0.4, 0.5]"
   ]
  },
  {
   "cell_type": "code",
   "execution_count": null,
   "metadata": {},
   "outputs": [],
   "source": [
    "pred = apvi.average_predict_vi(test_x, model_vi, 10, 25)"
   ]
  },
  {
   "cell_type": "code",
   "execution_count": 20,
   "metadata": {},
   "outputs": [
    {
     "name": "stderr",
     "output_type": "stream",
     "text": [
      "C:\\Users\\annar\\Anaconda3\\envs\\ml_env\\lib\\site-packages\\ipykernel_launcher.py:15: FutureWarning: \n",
      "The current behaviour of 'Series.argmax' is deprecated, use 'idxmax'\n",
      "instead.\n",
      "The behavior of 'argmax' will be corrected to return the positional\n",
      "maximum in the future. For now, use 'series.values.argmax' or\n",
      "'np.argmax(np.array(values))' to get the position of the maximum\n",
      "row.\n",
      "  from ipykernel import kernelapp as app\n"
     ]
    }
   ],
   "source": [
    "df = pd.DataFrame(pred)\n",
    "#df['soll'] = test_y\n",
    "#df.to_csv(\"C_001_test_with_max_pred_5.csv\", \";\")"
   ]
  },
  {
   "cell_type": "code",
   "execution_count": 21,
   "metadata": {},
   "outputs": [
    {
     "data": {
      "text/plain": [
       "0.8149"
      ]
     },
     "execution_count": 21,
     "metadata": {},
     "output_type": "execute_result"
    }
   ],
   "source": [
    "#just the predictions:\n",
    "(df[0] == test_y).sum()/test_x.shape[0]"
   ]
  },
  {
   "cell_type": "code",
   "execution_count": 73,
   "metadata": {},
   "outputs": [
    {
     "name": "stdout",
     "output_type": "stream",
     "text": [
      "0.1 :  0.3945\n",
      "0.2 :  0.7012\n",
      "0.3 :  0.8115\n",
      "0.4 :  0.8121\n",
      "0.5 :  0.8121\n"
     ]
    }
   ],
   "source": [
    "#for different uncertainty levels\n",
    "for i in list_of_dev:\n",
    "    df['unc_est'] = np.where(df[3] >= i, 1, df[0])\n",
    "    w = (df['unc_est'] == test_y).sum()/test_x.shape[0]\n",
    "    print(i, \": \" , w)"
   ]
  },
  {
   "cell_type": "code",
   "execution_count": 74,
   "metadata": {},
   "outputs": [
    {
     "name": "stdout",
     "output_type": "stream",
     "text": [
      "0.1 - 0.2 :  0.5054\n",
      "0.1 - 0.3 :  0.3951\n",
      "0.1 - 0.4 :  0.3945\n",
      "0.1 - 0.5 :  0.3945\n",
      "0.2 - 0.3 :  0.7018\n",
      "0.2 - 0.4 :  0.7012\n",
      "0.2 - 0.5 :  0.7012\n",
      "0.3 - 0.4 :  0.8115\n",
      "0.3 - 0.5 :  0.8115\n",
      "0.4 - 0.5 :  0.8121\n"
     ]
    }
   ],
   "source": [
    "#evaluate with ranges\n",
    "for i in list_of_dev:\n",
    "    for j in list_of_dev:\n",
    "        if j>i:\n",
    "                df['unc_est'] = np.where(((df[3] >= i) & (df[3]<=j)), 1, df[0])\n",
    "                w = (df['unc_est'] == test_y).sum()/test_x.shape[0]                \n",
    "                print(i, \"-\", j, \": \" , w)\n",
    "            "
   ]
  },
  {
   "cell_type": "markdown",
   "metadata": {},
   "source": [
    "### graphic"
   ]
  },
  {
   "cell_type": "code",
   "execution_count": 77,
   "metadata": {},
   "outputs": [],
   "source": [
    "x = [5, 10, 25]\n",
    "y = [0.8012, 0.8083, 0.8121]\n",
    "y50 = [0.8012, 0.8083, 0.8121]\n",
    "y40 = [0.8005, 0.8083, 0.8121]\n",
    "y30 = [0.7841, 0.8039, 0.8115]\n",
    "y20 = [0.6848, 0.6943, 0.7012]\n",
    "y10 = [0.4605, 0.4168, 0.3945]"
   ]
  },
  {
   "cell_type": "code",
   "execution_count": 78,
   "metadata": {},
   "outputs": [
    {
     "data": {
      "image/png": "[encoded data removed]",
      "text/plain": [
       "<Figure size 432x288 with 1 Axes>"
      ]
     },
     "metadata": {
      "needs_background": "light"
     },
     "output_type": "display_data"
    }
   ],
   "source": [
    "import matplotlib.pyplot as plt\n",
    "\n",
    "plt.plot(x,y, label='no correction', color='black')\n",
    "plt.plot(x, y10, label='>=10%', color='green', linestyle='--')\n",
    "plt.plot(x, y20, label='>=20%', color='green', linestyle='-')\n",
    "plt.plot(x, y30, label='>=30%', color='blue', linestyle='--')\n",
    "plt.plot(x, y40, label='>=40%', color='black', linestyle='--')\n",
    "plt.plot(x, y50, label='>=50%', color='blue', linestyle='-')\n",
    "\n",
    "plt.xlabel('number of predictions per image')\n",
    "plt.ylabel('accuracy')\n",
    "plt.xticks(x)\n",
    "#plt.yticks(list_of_dev)\n",
    "\n",
    "plt.legend(loc='lower left')\n",
    "plt.show()"
   ]
  },
  {
   "cell_type": "markdown",
   "metadata": {},
   "source": [
    "# compare bernoulli with average prediction method"
   ]
  },
  {
   "cell_type": "code",
   "execution_count": 30,
   "metadata": {},
   "outputs": [],
   "source": [
    "x = [5, 10, 25, 50]\n",
    "y_avg = [0.8012, 0.8083, 0.8121, 0.8149]\n",
    "y_bern = [0.8046, 0.8103, 0.8108, None]\n",
    "y_baseline = [0.8411, 0.8411, 0.8411, 0.8411]"
   ]
  },
  {
   "cell_type": "code",
   "execution_count": 31,
   "metadata": {},
   "outputs": [
    {
     "data": {
      "image/png": "[encoded data removed]",
      "text/plain": [
       "<Figure size 432x288 with 1 Axes>"
      ]
     },
     "metadata": {
      "needs_background": "light"
     },
     "output_type": "display_data"
    }
   ],
   "source": [
    "import matplotlib.pyplot as plt\n",
    "\n",
    "plt.plot(x,y_bern, label='Bernoulli', color='black')\n",
    "plt.plot(x, y_avg, label='Average', color='blue')\n",
    "#plt.plot(x, y_baseline, label='Baseline', color='red')\n",
    "\n",
    "plt.xlabel('number of predictions per image')\n",
    "plt.ylabel('accuracy')\n",
    "plt.xticks(x)\n",
    "#plt.yticks(list_of_dev)\n",
    "\n",
    "plt.legend(loc='lower right')\n",
    "plt.show()"
   ]
  }
 ],
 "metadata": {
  "kernelspec": {
   "display_name": "Python [conda env:ml_env]",
   "language": "python",
   "name": "conda-env-ml_env-py"
  },
  "language_info": {
   "codemirror_mode": {
    "name": "ipython",
    "version": 3
   },
   "file_extension": ".py",
   "mimetype": "text/x-python",
   "name": "python",
   "nbconvert_exporter": "python",
   "pygments_lexer": "ipython3",
   "version": "3.7.3"
  }
 },
 "nbformat": 4,
 "nbformat_minor": 2
}
