{
 "cells": [
  {
   "cell_type": "code",
   "execution_count": 1,
   "metadata": {},
   "outputs": [
    {
     "name": "stdout",
     "output_type": "stream",
     "text": [
      "tensorflow:  1.14.0\n"
     ]
    }
   ],
   "source": [
    "# TensorFlow and tf.keras\n",
    "import tensorflow as tf\n",
    "from tensorflow import keras\n",
    "\n",
    "# Helper libraries\n",
    "import numpy as np\n",
    "import pandas as pd\n",
    "import matplotlib.pyplot as plt\n",
    "\n",
    "print(\"tensorflow: \", tf.__version__) #1.14.0"
   ]
  },
  {
   "cell_type": "code",
   "execution_count": 2,
   "metadata": {},
   "outputs": [],
   "source": [
    "#import the fashion mnist dataset (from Zalando)\n",
    "fashion_mnist = keras.datasets.fashion_mnist\n",
    "data = fashion_mnist.load_data()\n",
    "(train_images, train_labels), (test_images, test_labels) = data\n",
    "#(train_images, train_labels), (test_images, test_labels) = fashion_mnist.load_data()"
   ]
  },
  {
   "cell_type": "code",
   "execution_count": 3,
   "metadata": {},
   "outputs": [],
   "source": [
    "class_names = ['T-shirt/top', 'Trouser', 'Pullover', 'Dress', 'Coat',\n",
    "               'Sandal', 'Shirt', 'Sneaker', 'Bag', 'Ankle boot']"
   ]
  },
  {
   "cell_type": "code",
   "execution_count": 38,
   "metadata": {},
   "outputs": [],
   "source": [
    "#preprocess the images\n",
    "train_x = np.expand_dims(train_images/255.0, axis=3)\n",
    "test_x = np.expand_dims(test_images/255.0, axis=3)"
   ]
  },
  {
   "cell_type": "code",
   "execution_count": 39,
   "metadata": {},
   "outputs": [],
   "source": [
    "train_y = train_labels\n",
    "test_y = test_labels"
   ]
  },
  {
   "cell_type": "markdown",
   "metadata": {},
   "source": [
    "# Miminimze one class"
   ]
  },
  {
   "cell_type": "code",
   "execution_count": 40,
   "metadata": {},
   "outputs": [],
   "source": [
    "# define function to select only specific category\n",
    "def select_max_category(data, label, category, max_nr_for_category):\n",
    "    new_data = []\n",
    "    new_label = []\n",
    "    for i in range(len(label)):\n",
    "        if label[i] == category:\n",
    "            if len(new_label) <= max_nr_for_category-1:\n",
    "                new_label.append(label[i])\n",
    "                new_data.append(data[i])\n",
    "    #new_data = np.array(new_data)\n",
    "    #new_label = np.array(new_label)\n",
    "    return new_data, new_label"
   ]
  },
  {
   "cell_type": "code",
   "execution_count": 41,
   "metadata": {},
   "outputs": [
    {
     "name": "stdout",
     "output_type": "stream",
     "text": [
      "(6000, 28, 28, 1) (6000,)\n"
     ]
    }
   ],
   "source": [
    "#create an array with only the \"small class\"\n",
    "\n",
    "all_one_x = train_x[np.where(train_y==1)[0]]\n",
    "all_one_y = train_y[np.where(train_y==1)[0]]\n",
    "print(all_one_x.shape, all_one_y.shape)"
   ]
  },
  {
   "cell_type": "code",
   "execution_count": 42,
   "metadata": {},
   "outputs": [],
   "source": [
    "#create a set with only ones in it for experimenting\n",
    "# with ones, as we want to reduce the zeros\n",
    "all_zero_x = test_x[np.where(test_y==0)[0]]\n",
    "all_zero_y = test_y[np.where(test_y==0)[0]]"
   ]
  },
  {
   "cell_type": "code",
   "execution_count": 43,
   "metadata": {},
   "outputs": [],
   "source": [
    "# select some pictures of class 1 and define how many\n",
    "# in the original dataset 7000 images per class are available\n",
    "rate = 0.005\n",
    "one_x, one_y = select_max_category(train_x, train_y, 1, 6000*rate)"
   ]
  },
  {
   "cell_type": "code",
   "execution_count": 44,
   "metadata": {},
   "outputs": [
    {
     "data": {
      "text/plain": [
       "(30, 28, 28, 1)"
      ]
     },
     "execution_count": 44,
     "metadata": {},
     "output_type": "execute_result"
    }
   ],
   "source": [
    "one_x = np.array(one_x)\n",
    "one_x.shape"
   ]
  },
  {
   "cell_type": "code",
   "execution_count": 45,
   "metadata": {},
   "outputs": [
    {
     "data": {
      "text/plain": [
       "(30,)"
      ]
     },
     "execution_count": 45,
     "metadata": {},
     "output_type": "execute_result"
    }
   ],
   "source": [
    "one_y = np.array(one_y)\n",
    "one_y.shape"
   ]
  },
  {
   "cell_type": "code",
   "execution_count": 46,
   "metadata": {},
   "outputs": [
    {
     "name": "stdout",
     "output_type": "stream",
     "text": [
      "(54000, 28, 28, 1)\n"
     ]
    }
   ],
   "source": [
    "#delete class 1 from the training set\n",
    "train_x = np.delete(train_x, np.where(train_y==1)[0], axis = 0)\n",
    "print(train_x.shape)"
   ]
  },
  {
   "cell_type": "code",
   "execution_count": 47,
   "metadata": {},
   "outputs": [
    {
     "name": "stdout",
     "output_type": "stream",
     "text": [
      "(54000,)\n"
     ]
    }
   ],
   "source": [
    "train_y = np.delete(train_y, np.where(train_y==1)[0], axis = 0)\n",
    "print(train_y.shape)"
   ]
  },
  {
   "cell_type": "code",
   "execution_count": 48,
   "metadata": {},
   "outputs": [],
   "source": [
    "train_x = np.append(train_x, one_x, axis=0)\n",
    "train_y = np.append(train_y, one_y, axis=0)\n",
    "#train_y = np.array(pd.get_dummies(train_y)) #onehotencoding"
   ]
  },
  {
   "cell_type": "code",
   "execution_count": 49,
   "metadata": {},
   "outputs": [
    {
     "name": "stdout",
     "output_type": "stream",
     "text": [
      "(54030, 28, 28, 1) (54030,)\n"
     ]
    }
   ],
   "source": [
    "print(train_x.shape, train_y.shape)"
   ]
  },
  {
   "cell_type": "code",
   "execution_count": 50,
   "metadata": {},
   "outputs": [],
   "source": [
    "#shuffle the data\n",
    "n = train_x.shape[0]\n",
    "## numpy has a shuffle method\n",
    "permutation = np.arange(n) #n = number of pictures/length of data\n",
    "np.random.shuffle(permutation)\n",
    "    \n",
    "train_x = [train_x[i] for i in permutation]\n",
    "train_y = [train_y[i] for i in permutation]\n",
    "#labels_ohe_shuffled = [labels_ohe[i] for i in permutation]\n",
    "\n",
    "train_x = np.array(train_x)\n",
    "train_y = np.array(train_y)\n",
    "\n",
    "train_y = np.array(pd.get_dummies(train_y)) #onehotencoding"
   ]
  },
  {
   "cell_type": "code",
   "execution_count": 51,
   "metadata": {},
   "outputs": [
    {
     "name": "stdout",
     "output_type": "stream",
     "text": [
      "(54030, 28, 28, 1)\n",
      "(54030, 10)\n"
     ]
    }
   ],
   "source": [
    "print(train_x.shape)\n",
    "print(train_y.shape)"
   ]
  },
  {
   "cell_type": "markdown",
   "metadata": {},
   "source": [
    "# Construct a baseline CNN"
   ]
  },
  {
   "cell_type": "code",
   "execution_count": 52,
   "metadata": {},
   "outputs": [],
   "source": [
    "model = keras.Sequential([\n",
    "    keras.layers.Convolution2D(8, kernel_size=(3,3), padding=\"same\", activation='relu', input_shape=(28,28,1)),\n",
    "    keras.layers.Convolution2D(8, kernel_size=(3,3), padding=\"same\", activation='relu'),\n",
    "    keras.layers.MaxPooling2D(2,2),\n",
    "    keras.layers.Convolution2D(16, kernel_size=(3,3), padding=\"same\", activation='relu'),\n",
    "    keras.layers.Flatten(),\n",
    "    keras.layers.Dropout((0.5)),\n",
    "    keras.layers.Dense(10, activation='softmax')\n",
    "])"
   ]
  },
  {
   "cell_type": "code",
   "execution_count": 53,
   "metadata": {},
   "outputs": [
    {
     "name": "stdout",
     "output_type": "stream",
     "text": [
      "Model: \"sequential_1\"\n",
      "_________________________________________________________________\n",
      "Layer (type)                 Output Shape              Param #   \n",
      "=================================================================\n",
      "conv2d_3 (Conv2D)            (None, 28, 28, 8)         80        \n",
      "_________________________________________________________________\n",
      "conv2d_4 (Conv2D)            (None, 28, 28, 8)         584       \n",
      "_________________________________________________________________\n",
      "max_pooling2d_1 (MaxPooling2 (None, 14, 14, 8)         0         \n",
      "_________________________________________________________________\n",
      "conv2d_5 (Conv2D)            (None, 14, 14, 16)        1168      \n",
      "_________________________________________________________________\n",
      "flatten_1 (Flatten)          (None, 3136)              0         \n",
      "_________________________________________________________________\n",
      "dropout_1 (Dropout)          (None, 3136)              0         \n",
      "_________________________________________________________________\n",
      "dense_1 (Dense)              (None, 10)                31370     \n",
      "=================================================================\n",
      "Total params: 33,202\n",
      "Trainable params: 33,202\n",
      "Non-trainable params: 0\n",
      "_________________________________________________________________\n"
     ]
    }
   ],
   "source": [
    "model.compile(loss='categorical_crossentropy', optimizer='adam', metrics=['accuracy'])\n",
    "model.summary()"
   ]
  },
  {
   "cell_type": "code",
   "execution_count": 54,
   "metadata": {},
   "outputs": [
    {
     "name": "stdout",
     "output_type": "stream",
     "text": [
      "Epoch 1/10\n",
      "54030/54030 [==============================] - 61s 1ms/sample - loss: 0.5232 - acc: 0.80840s - loss: 0.5253 - \n",
      "Epoch 2/10\n",
      "54030/54030 [==============================] - 62s 1ms/sample - loss: 0.3624 - acc: 0.8697\n",
      "Epoch 3/10\n",
      "54030/54030 [==============================] - 61s 1ms/sample - loss: 0.3196 - acc: 0.8848\n",
      "Epoch 4/10\n",
      "54030/54030 [==============================] - 62s 1ms/sample - loss: 0.2966 - acc: 0.8917\n",
      "Epoch 5/10\n",
      "54030/54030 [==============================] - 66s 1ms/sample - loss: 0.2836 - acc: 0.8979\n",
      "Epoch 6/10\n",
      "54030/54030 [==============================] - 62s 1ms/sample - loss: 0.2712 - acc: 0.9011\n",
      "Epoch 7/10\n",
      "54030/54030 [==============================] - 64s 1ms/sample - loss: 0.2659 - acc: 0.9031\n",
      "Epoch 8/10\n",
      "54030/54030 [==============================] - 62s 1ms/sample - loss: 0.2572 - acc: 0.9057\n",
      "Epoch 9/10\n",
      "54030/54030 [==============================] - 62s 1ms/sample - loss: 0.2512 - acc: 0.9080\n",
      "Epoch 10/10\n",
      "54030/54030 [==============================] - 67s 1ms/sample - loss: 0.2463 - acc: 0.9105\n"
     ]
    }
   ],
   "source": [
    "history = model.fit(train_x, train_y, epochs = 10)"
   ]
  },
  {
   "cell_type": "code",
   "execution_count": 24,
   "metadata": {},
   "outputs": [],
   "source": [
    "model.save('B_004_model_b.h5') #save the model for the scrumbled data"
   ]
  },
  {
   "cell_type": "code",
   "execution_count": 18,
   "metadata": {},
   "outputs": [
    {
     "name": "stderr",
     "output_type": "stream",
     "text": [
      "WARNING: Logging before flag parsing goes to stderr.\n",
      "W0126 20:24:01.351684 13472 deprecation.py:506] From c:\\users\\annar\\project_folder\\venv\\lib\\site-packages\\tensorflow\\python\\ops\\init_ops.py:97: calling GlorotUniform.__init__ (from tensorflow.python.ops.init_ops) with dtype is deprecated and will be removed in a future version.\n",
      "Instructions for updating:\n",
      "Call initializer instance with the dtype argument instead of passing it to the constructor\n",
      "W0126 20:24:01.365413 13472 deprecation.py:506] From c:\\users\\annar\\project_folder\\venv\\lib\\site-packages\\tensorflow\\python\\ops\\init_ops.py:1251: calling VarianceScaling.__init__ (from tensorflow.python.ops.init_ops) with dtype is deprecated and will be removed in a future version.\n",
      "Instructions for updating:\n",
      "Call initializer instance with the dtype argument instead of passing it to the constructor\n",
      "W0126 20:24:01.368204 13472 deprecation.py:506] From c:\\users\\annar\\project_folder\\venv\\lib\\site-packages\\tensorflow\\python\\ops\\init_ops.py:97: calling Zeros.__init__ (from tensorflow.python.ops.init_ops) with dtype is deprecated and will be removed in a future version.\n",
      "Instructions for updating:\n",
      "Call initializer instance with the dtype argument instead of passing it to the constructor\n"
     ]
    }
   ],
   "source": [
    "model = tf.keras.models.load_model('B_004_model_b.h5')"
   ]
  },
  {
   "cell_type": "code",
   "execution_count": 55,
   "metadata": {},
   "outputs": [
    {
     "data": {
      "image/png": "[encoded data removed]",
      "text/plain": [
       "<Figure size 864x360 with 2 Axes>"
      ]
     },
     "metadata": {
      "needs_background": "light"
     },
     "output_type": "display_data"
    }
   ],
   "source": [
    "plt.figure(figsize=(12,5))\n",
    "plt.subplot(1,2,1)\n",
    "plt.plot(history.history['acc'])\n",
    "#plt.plot(history_b.history['val_accuracy'])\n",
    "plt.ylim(0,1)\n",
    "plt.title('model accuracy')\n",
    "plt.ylabel('accuracy')\n",
    "plt.xlabel('epoch')\n",
    "plt.legend(['train', 'valid'], loc='lower right')\n",
    "plt.subplot(1,2,2)\n",
    "plt.plot(history.history['loss'])\n",
    "#plt.plot(history_b.history['va_loss'])\n",
    "plt.title('model loss')\n",
    "plt.ylabel('loss')\n",
    "plt.xlabel('epoch')\n",
    "plt.legend(['train', 'valid'], loc='upper right')\n",
    "plt.show()"
   ]
  },
  {
   "cell_type": "markdown",
   "metadata": {},
   "source": [
    "# Check the baseline model for a rarely seen picture"
   ]
  },
  {
   "cell_type": "code",
   "execution_count": 56,
   "metadata": {},
   "outputs": [],
   "source": [
    "picture = 100\n",
    "picture_end = picture + 1"
   ]
  },
  {
   "cell_type": "code",
   "execution_count": 57,
   "metadata": {},
   "outputs": [
    {
     "data": {
      "image/png": "[encoded data removed]",
      "text/plain": [
       "<Figure size 432x288 with 25 Axes>"
      ]
     },
     "metadata": {
      "needs_background": "light"
     },
     "output_type": "display_data"
    }
   ],
   "source": [
    "all_one_x.shape\n",
    "for i in range(800,825,1):\n",
    "    j = 1+i\n",
    "    k = i-799\n",
    "    prediction = model.predict([all_one_x[i:j], 1])[0]\n",
    "    x = [0,1,2,3,4,5,6,7,8,9]\n",
    "    plt.subplot(5,5,k)\n",
    "    plt.bar(x,prediction, color = ['black']) #color=(0.3,0.3,0.3,1.0)\n",
    "    plt.xticks(x)\n",
    "    plt.ylim(0,1.0)\n",
    "    #plt.xticks(np.arange(10), class_names, rotation = 90)\n",
    "    #plt.title('probabilities predicted')"
   ]
  },
  {
   "cell_type": "code",
   "execution_count": 58,
   "metadata": {},
   "outputs": [
    {
     "data": {
      "text/plain": [
       "Text(0.5, 1.0, 'image')"
      ]
     },
     "execution_count": 58,
     "metadata": {},
     "output_type": "execute_result"
    },
    {
     "data": {
      "image/png": "[encoded data removed]",
      "text/plain": [
       "<Figure size 432x288 with 2 Axes>"
      ]
     },
     "metadata": {
      "needs_background": "light"
     },
     "output_type": "display_data"
    }
   ],
   "source": [
    "prediction = model.predict([all_one_x[picture:picture_end], 1])[0]\n",
    "x = [0,1,2,3,4,5,6,7,8,9]\n",
    "plt.subplot(2,3,1)\n",
    "plt.bar(x,prediction, color = ['black']) #color=(0.3,0.3,0.3,1.0)\n",
    "plt.xticks(np.arange(10), class_names, rotation = 90)\n",
    "plt.title('probabilities predicted')\n",
    "\n",
    "plt.subplot(2,3,2)\n",
    "plt.xticks([])\n",
    "plt.yticks([])\n",
    "plt.imshow(np.squeeze(all_one_x[picture:picture_end][0], axis = 2), cmap=plt.cm.binary)\n",
    "plt.xlabel(class_names[all_one_y[picture]])\n",
    "plt.title('image')"
   ]
  },
  {
   "cell_type": "markdown",
   "metadata": {},
   "source": [
    "# Create a model with MC Dropout"
   ]
  },
  {
   "cell_type": "code",
   "execution_count": 59,
   "metadata": {},
   "outputs": [
    {
     "name": "stdout",
     "output_type": "stream",
     "text": [
      "Model: \"sequential_2\"\n",
      "_________________________________________________________________\n",
      "Layer (type)                 Output Shape              Param #   \n",
      "=================================================================\n",
      "conv2d_6 (Conv2D)            (None, 28, 28, 8)         80        \n",
      "_________________________________________________________________\n",
      "dropout_2 (Dropout)          (None, 28, 28, 8)         0         \n",
      "_________________________________________________________________\n",
      "conv2d_7 (Conv2D)            (None, 28, 28, 8)         584       \n",
      "_________________________________________________________________\n",
      "dropout_3 (Dropout)          (None, 28, 28, 8)         0         \n",
      "_________________________________________________________________\n",
      "max_pooling2d_2 (MaxPooling2 (None, 14, 14, 8)         0         \n",
      "_________________________________________________________________\n",
      "dropout_4 (Dropout)          (None, 14, 14, 8)         0         \n",
      "_________________________________________________________________\n",
      "conv2d_8 (Conv2D)            (None, 14, 14, 16)        1168      \n",
      "_________________________________________________________________\n",
      "dropout_5 (Dropout)          (None, 14, 14, 16)        0         \n",
      "_________________________________________________________________\n",
      "flatten_2 (Flatten)          (None, 3136)              0         \n",
      "_________________________________________________________________\n",
      "dropout_6 (Dropout)          (None, 3136)              0         \n",
      "_________________________________________________________________\n",
      "dense_2 (Dense)              (None, 10)                31370     \n",
      "=================================================================\n",
      "Total params: 33,202\n",
      "Trainable params: 33,202\n",
      "Non-trainable params: 0\n",
      "_________________________________________________________________\n"
     ]
    }
   ],
   "source": [
    "model_mc2 = keras.Sequential([\n",
    "    keras.layers.Convolution2D(8, kernel_size=(3,3), padding=\"same\", activation='relu', input_shape=(28,28,1)),\n",
    "    keras.layers.Dropout((0.3)),\n",
    "    keras.layers.Convolution2D(8, kernel_size=(3,3), padding=\"same\", activation='relu'),\n",
    "    keras.layers.Dropout((0.3)),\n",
    "    keras.layers.MaxPooling2D(2,2),\n",
    "    keras.layers.Dropout((0.3)),\n",
    "    keras.layers.Convolution2D(16, kernel_size=(3,3), padding=\"same\", activation='relu'),\n",
    "    keras.layers.Dropout((0.3)),\n",
    "    keras.layers.Flatten(),\n",
    "    keras.layers.Dropout((0.3)),\n",
    "    keras.layers.Dense(10, activation='softmax')\n",
    "])\n",
    "model_mc2.compile(loss='categorical_crossentropy', optimizer='adam', metrics=['accuracy'])\n",
    "model_mc2.summary()"
   ]
  },
  {
   "cell_type": "code",
   "execution_count": 60,
   "metadata": {},
   "outputs": [],
   "source": [
    "import tensorflow.keras.backend as K\n",
    "model_mc2_pred = K.function([model_mc2.input, K.learning_phase()], [model_mc2.output])"
   ]
  },
  {
   "cell_type": "code",
   "execution_count": 61,
   "metadata": {},
   "outputs": [
    {
     "name": "stdout",
     "output_type": "stream",
     "text": [
      "Epoch 1/10\n",
      "54030/54030 [==============================] - 97s 2ms/sample - loss: 0.6295 - acc: 0.7693\n",
      "Epoch 2/10\n",
      "54030/54030 [==============================] - 95s 2ms/sample - loss: 0.4631 - acc: 0.8310\n",
      "Epoch 3/10\n",
      "54030/54030 [==============================] - 100s 2ms/sample - loss: 0.4175 - acc: 0.8491\n",
      "Epoch 4/10\n",
      "54030/54030 [==============================] - 91s 2ms/sample - loss: 0.3909 - acc: 0.8573\n",
      "Epoch 5/10\n",
      "54030/54030 [==============================] - 88s 2ms/sample - loss: 0.3727 - acc: 0.8649\n",
      "Epoch 6/10\n",
      "54030/54030 [==============================] - 92s 2ms/sample - loss: 0.3594 - acc: 0.8689\n",
      "Epoch 7/10\n",
      "54030/54030 [==============================] - 72s 1ms/sample - loss: 0.3534 - acc: 0.8704\n",
      "Epoch 8/10\n",
      "54030/54030 [==============================] - 72s 1ms/sample - loss: 0.3478 - acc: 0.8735\n",
      "Epoch 9/10\n",
      "54030/54030 [==============================] - 72s 1ms/sample - loss: 0.3482 - acc: 0.8729\n",
      "Epoch 10/10\n",
      "54030/54030 [==============================] - 77s 1ms/sample - loss: 0.3401 - acc: 0.8754\n"
     ]
    }
   ],
   "source": [
    "history_mc2 = model_mc2.fit(train_x, train_y, epochs = 10)"
   ]
  },
  {
   "cell_type": "code",
   "execution_count": 62,
   "metadata": {},
   "outputs": [
    {
     "data": {
      "image/png": "[encoded data removed]",
      "text/plain": [
       "<Figure size 864x360 with 2 Axes>"
      ]
     },
     "metadata": {
      "needs_background": "light"
     },
     "output_type": "display_data"
    }
   ],
   "source": [
    "plt.figure(figsize=(12,5))\n",
    "plt.subplot(1,2,1)\n",
    "plt.plot(history_mc2.history['acc'])\n",
    "#plt.plot(history_b.history['val_accuracy'])\n",
    "plt.ylim(0,1)\n",
    "plt.title('model accuracy')\n",
    "plt.ylabel('accuracy')\n",
    "plt.xlabel('epoch')\n",
    "plt.legend(['train', 'valid'], loc='lower right')\n",
    "plt.subplot(1,2,2)\n",
    "plt.plot(history_mc2.history['loss'])\n",
    "#plt.plot(history_b.history['va_loss'])\n",
    "plt.title('model loss')\n",
    "plt.ylabel('loss')\n",
    "plt.xlabel('epoch')\n",
    "plt.legend(['train', 'valid'], loc='upper right')\n",
    "plt.show()"
   ]
  },
  {
   "cell_type": "code",
   "execution_count": 29,
   "metadata": {},
   "outputs": [],
   "source": [
    "model_mc2.save('B_004_model_mc2.h5')"
   ]
  },
  {
   "cell_type": "code",
   "execution_count": 23,
   "metadata": {},
   "outputs": [],
   "source": [
    "model_mc2 = tf.keras.models.load_model('B_004_model_mc2.h5')"
   ]
  },
  {
   "cell_type": "markdown",
   "metadata": {},
   "source": [
    "## predictions for a rarely seen image (trousers)"
   ]
  },
  {
   "cell_type": "code",
   "execution_count": 63,
   "metadata": {},
   "outputs": [],
   "source": [
    "import tensorflow.keras.backend as K\n",
    "model_mc2_pred = K.function([model_mc2.input, K.learning_phase()], [model_mc2.output])"
   ]
  },
  {
   "cell_type": "code",
   "execution_count": 64,
   "metadata": {},
   "outputs": [
    {
     "data": {
      "text/plain": [
       "array([[1.9387053e-02, 3.8199291e-01, 1.8000144e-03, 2.1764114e-01,\n",
       "        3.7324762e-01, 3.3511535e-07, 5.8562774e-03, 5.5057876e-07,\n",
       "        7.3942647e-05, 7.6950641e-08]], dtype=float32)"
      ]
     },
     "execution_count": 64,
     "metadata": {},
     "output_type": "execute_result"
    }
   ],
   "source": [
    "picture = 100\n",
    "picture_end = picture+1\n",
    "model_mc2_pred([all_one_x[picture:picture_end], 1])[0]"
   ]
  },
  {
   "cell_type": "code",
   "execution_count": 65,
   "metadata": {},
   "outputs": [
    {
     "name": "stdout",
     "output_type": "stream",
     "text": [
      "(100, 10)\n"
     ]
    },
    {
     "data": {
      "image/png": "[encoded data removed]",
      "text/plain": [
       "<Figure size 432x288 with 20 Axes>"
      ]
     },
     "metadata": {
      "needs_background": "light"
     },
     "output_type": "display_data"
    },
    {
     "data": {
      "image/png": "[encoded data removed]",
      "text/plain": [
       "<Figure size 432x288 with 3 Axes>"
      ]
     },
     "metadata": {
      "needs_background": "light"
     },
     "output_type": "display_data"
    },
    {
     "name": "stdout",
     "output_type": "stream",
     "text": [
      "[8.6308070e-02 5.0854421e-01 2.8952295e-03 2.8546298e-01 9.0577595e-02\n",
      " 1.1292537e-07 2.5936713e-02 3.9092656e-06 2.7076076e-04 5.3187102e-07]\n"
     ]
    }
   ],
   "source": [
    "x = [0,1,2,3,4,5,6,7,8,9]\n",
    "predictions = model_mc2_pred([all_one_x[picture:picture_end], 1])[0]\n",
    "for i in range(700,799,1):\n",
    "    pred = model_mc2_pred([all_one_x[picture:picture_end], 1])[0]\n",
    "    #print(pred)\n",
    "    predictions = np.append(predictions, pred, axis = 0)\n",
    "    #print(i, predictions)\n",
    "\n",
    "print(predictions.shape)\n",
    "\n",
    "for i in range(20):\n",
    "    plt.subplot(5,4,i+1)\n",
    "    plt.bar(x, predictions[i], color = ['black'])\n",
    "    plt.xticks(np.arange(10), class_names, rotation = 90)\n",
    "    #plt.yticks([0.25, 0.5, 0.75, 1.0])\n",
    "    plt.ylim([0,1])\n",
    "plt.show()\n",
    "\n",
    "plt.subplot(2,3,1)\n",
    "plt.yticks([0,2,4,6,8])\n",
    "plt.imshow(predictions[0:10], cmap='binary', interpolation='none')\n",
    "plt.ylabel('run')\n",
    "#plt.xlabel('class')\n",
    "plt.xticks(np.arange(10), class_names, rotation = 90)\n",
    "plt.title('heatmap predictions')\n",
    "plt.subplot(2,3,2)\n",
    "plt.xticks([])\n",
    "plt.yticks([])\n",
    "plt.imshow(np.squeeze(all_one_x[picture:picture_end][0], axis = 2), cmap=plt.cm.binary)\n",
    "plt.xlabel(class_names[all_one_y[picture]])\n",
    "plt.title('image')\n",
    "\n",
    "#### try to also show the barchart with the average probability\n",
    "d = predictions\n",
    "predictions_mean = d.mean(axis=0)\n",
    "#x = [0,1,2,3,4,5,6,7,8]\n",
    "\n",
    "plt.subplot(2,3,3)\n",
    "plt.bar(x,predictions_mean, color = ['black']) #color=(0.3,0.3,0.3,1.0)\n",
    "plt.xticks(np.arange(10), class_names, rotation = 90)\n",
    "plt.title('average probability')\n",
    "\n",
    "plt.show()\n",
    "print(predictions_mean)"
   ]
  },
  {
   "cell_type": "markdown",
   "metadata": {},
   "source": [
    "## prediction for an often seen image (class 0)"
   ]
  },
  {
   "cell_type": "code",
   "execution_count": 66,
   "metadata": {},
   "outputs": [
    {
     "name": "stdout",
     "output_type": "stream",
     "text": [
      "(100, 10)\n"
     ]
    },
    {
     "data": {
      "image/png": "[encoded data removed]",
      "text/plain": [
       "<Figure size 432x288 with 20 Axes>"
      ]
     },
     "metadata": {
      "needs_background": "light"
     },
     "output_type": "display_data"
    },
    {
     "data": {
      "image/png": "[encoded data removed]",
      "text/plain": [
       "<Figure size 432x288 with 3 Axes>"
      ]
     },
     "metadata": {
      "needs_background": "light"
     },
     "output_type": "display_data"
    },
    {
     "name": "stdout",
     "output_type": "stream",
     "text": [
      "[6.1055660e-01 1.7307566e-04 8.2084946e-03 1.3566276e-01 1.8600088e-02\n",
      " 2.9709079e-07 2.1810666e-01 1.9622171e-06 8.6893970e-03 6.3976847e-07]\n"
     ]
    }
   ],
   "source": [
    "x = [0,1,2,3,4,5,6,7,8,9]\n",
    "predictions = model_mc2_pred([all_zero_x[picture:picture_end], 1])[0]\n",
    "for i in range(700,799,1):\n",
    "    pred = model_mc2_pred([all_zero_x[picture:picture_end], 1])[0]\n",
    "    #print(pred)\n",
    "    predictions = np.append(predictions, pred, axis = 0)\n",
    "    #print(i, predictions)\n",
    "\n",
    "print(predictions.shape)\n",
    "\n",
    "for i in range(20):\n",
    "    plt.subplot(5,4,i+1)\n",
    "    plt.bar(x, predictions[i], color = ['black'])\n",
    "    plt.xticks(np.arange(10), class_names, rotation = 90)\n",
    "    #plt.yticks([0.25, 0.5, 0.75, 1.0])\n",
    "    plt.ylim([0,1])\n",
    "plt.show()\n",
    "\n",
    "plt.subplot(2,3,1)\n",
    "plt.yticks([0,2,4,6,8])\n",
    "plt.imshow(predictions[0:10], cmap='binary', interpolation='none')\n",
    "plt.ylabel('run')\n",
    "#plt.xlabel('class')\n",
    "plt.xticks(np.arange(10), class_names, rotation = 90)\n",
    "plt.title('heatmap predictions')\n",
    "plt.subplot(2,3,2)\n",
    "plt.xticks([])\n",
    "plt.yticks([])\n",
    "plt.imshow(np.squeeze(all_zero_x[picture:picture_end][0], axis = 2), cmap=plt.cm.binary)\n",
    "plt.xlabel(class_names[all_zero_y[picture]])\n",
    "plt.title('image')\n",
    "\n",
    "#### try to also show the barchart with the average probability\n",
    "d = predictions\n",
    "predictions_mean = d.mean(axis=0)\n",
    "#x = [0,1,2,3,4,5,6,7,8]\n",
    "\n",
    "plt.subplot(2,3,3)\n",
    "plt.bar(x,predictions_mean, color = ['black']) #color=(0.3,0.3,0.3,1.0)\n",
    "plt.xticks(np.arange(10), class_names, rotation = 90)\n",
    "plt.title('average probability')\n",
    "\n",
    "plt.show()\n",
    "print(predictions_mean)"
   ]
  },
  {
   "cell_type": "markdown",
   "metadata": {},
   "source": [
    "## evaluate baseline CNN"
   ]
  },
  {
   "cell_type": "code",
   "execution_count": 67,
   "metadata": {},
   "outputs": [
    {
     "name": "stdout",
     "output_type": "stream",
     "text": [
      "10000/10000 [==============================] - 2s 223us/sample - loss: 0.3288 - acc: 0.9000\n"
     ]
    },
    {
     "data": {
      "text/plain": [
       "[0.32875375918149946, 0.9]"
      ]
     },
     "execution_count": 67,
     "metadata": {},
     "output_type": "execute_result"
    }
   ],
   "source": [
    "# evaluate the baseline CNN on the test dataset\n",
    "test_y_ohe = np.array(pd.get_dummies(test_y))\n",
    "model.evaluate(test_x, test_y_ohe)"
   ]
  },
  {
   "cell_type": "code",
   "execution_count": 68,
   "metadata": {},
   "outputs": [],
   "source": [
    "# evaluate the baseline CNN on the rarely seen pictures only\n",
    "l = []\n",
    "for i in range(all_one_x.shape[0]):\n",
    "    pred = model.predict(all_one_x[i:i+1])\n",
    "    l.append(pred.argmax())"
   ]
  },
  {
   "cell_type": "code",
   "execution_count": 69,
   "metadata": {},
   "outputs": [
    {
     "data": {
      "text/plain": [
       "0.8663333333333333"
      ]
     },
     "execution_count": 69,
     "metadata": {},
     "output_type": "execute_result"
    }
   ],
   "source": [
    "(l == all_one_y).sum()/all_one_x.shape[0]"
   ]
  },
  {
   "cell_type": "markdown",
   "metadata": {},
   "source": [
    "# Check and quantify BNN"
   ]
  },
  {
   "cell_type": "code",
   "execution_count": 70,
   "metadata": {},
   "outputs": [],
   "source": [
    "#import the helper functions for evaluation\n",
    "from helper_functions import b_predict_mc as bpmc\n",
    "from helper_functions import m_predict_mc as apmc"
   ]
  },
  {
   "cell_type": "markdown",
   "metadata": {},
   "source": [
    "## evaluate the BNN with the standard prediction method"
   ]
  },
  {
   "cell_type": "code",
   "execution_count": 71,
   "metadata": {},
   "outputs": [
    {
     "name": "stdout",
     "output_type": "stream",
     "text": [
      "10000/10000 [==============================] - 2s 232us/sample - loss: 0.4199 - acc: 0.8657\n"
     ]
    },
    {
     "data": {
      "text/plain": [
       "[0.41993748750686644, 0.8657]"
      ]
     },
     "execution_count": 71,
     "metadata": {},
     "output_type": "execute_result"
    }
   ],
   "source": [
    "test_y_ohe = np.array(pd.get_dummies(test_y))\n",
    "model_mc2.evaluate(test_x, test_y_ohe)"
   ]
  },
  {
   "cell_type": "code",
   "execution_count": 72,
   "metadata": {},
   "outputs": [],
   "source": [
    "# evaluate the BNN with standard prediction on the rarely seen pictures only\n",
    "l = []\n",
    "for i in range(all_one_x.shape[0]):\n",
    "    pred = model_mc2.predict(all_one_x[i:i+1])\n",
    "    l.append(pred.argmax())"
   ]
  },
  {
   "cell_type": "code",
   "execution_count": 73,
   "metadata": {},
   "outputs": [
    {
     "data": {
      "text/plain": [
       "0.709"
      ]
     },
     "execution_count": 73,
     "metadata": {},
     "output_type": "execute_result"
    }
   ],
   "source": [
    "(l == all_one_y).sum()/all_one_x.shape[0]"
   ]
  },
  {
   "cell_type": "markdown",
   "metadata": {},
   "source": [
    "# Check and quantify BNN"
   ]
  },
  {
   "cell_type": "code",
   "execution_count": 74,
   "metadata": {},
   "outputs": [],
   "source": [
    "#import the helper functions for evaluation\n",
    "from helper_functions import b_predict_mc as bpmc\n",
    "from helper_functions import m_predict_mc as apmc"
   ]
  },
  {
   "cell_type": "markdown",
   "metadata": {},
   "source": [
    "## Bernoulli Predict"
   ]
  },
  {
   "cell_type": "code",
   "execution_count": 75,
   "metadata": {},
   "outputs": [],
   "source": [
    "list_of_predictions = [5, 10, 25, 50, 100]\n",
    "list_of_dev = [0.1, 0.2, 0.3, 0.4, 0.5]"
   ]
  },
  {
   "cell_type": "code",
   "execution_count": 77,
   "metadata": {},
   "outputs": [],
   "source": [
    "pred = bpmc.b_predict_mc(test_x, model_mc2_pred, 10, 5)"
   ]
  },
  {
   "cell_type": "code",
   "execution_count": null,
   "metadata": {},
   "outputs": [],
   "source": [
    "#import pandas as pd\n",
    "p = pd.DataFrame(pred)\n",
    "p['soll'] = test_y\n",
    "#p.to_csv(\"A_008_test_set_with_predictions_5.csv\", \";\")"
   ]
  },
  {
   "cell_type": "code",
   "execution_count": null,
   "metadata": {},
   "outputs": [],
   "source": [
    "#just the predictions:\n",
    "(p[0] == test_y).sum()/test_x.shape[0] #0.8805 #07959"
   ]
  },
  {
   "cell_type": "code",
   "execution_count": 33,
   "metadata": {},
   "outputs": [
    {
     "name": "stdout",
     "output_type": "stream",
     "text": [
      "0.1 :  0.6126\n",
      "0.2 :  0.6126\n",
      "0.3 :  0.6126\n",
      "0.4 :  0.6126\n",
      "0.5 :  0.7262\n"
     ]
    }
   ],
   "source": [
    "#for different uncertainty levels\n",
    "for i in list_of_dev:\n",
    "    p['unc_est'] = np.where(p[3] >= i, 9, p[0])\n",
    "    w = (p['unc_est'] == test_y).sum()/test_x.shape[0]\n",
    "    print(i, \": \" , w)"
   ]
  },
  {
   "cell_type": "code",
   "execution_count": 34,
   "metadata": {},
   "outputs": [
    {
     "name": "stdout",
     "output_type": "stream",
     "text": [
      "0.1 - 0.2 :  0.7262\n",
      "0.1 - 0.3 :  0.7262\n",
      "0.1 - 0.4 :  0.6564\n",
      "0.1 - 0.5 :  0.6126\n",
      "0.2 - 0.3 :  0.7262\n",
      "0.2 - 0.4 :  0.6564\n",
      "0.2 - 0.5 :  0.6126\n",
      "0.3 - 0.4 :  0.6564\n",
      "0.3 - 0.5 :  0.6126\n",
      "0.4 - 0.5 :  0.6126\n"
     ]
    }
   ],
   "source": [
    "#evaluate with ranges\n",
    "for i in list_of_dev:\n",
    "    for j in list_of_dev:\n",
    "        if j>i:\n",
    "                p['unc_est'] = np.where(((p[3] >= i) & (p[3]<=j)), 9, p[0])\n",
    "                w = (p['unc_est'] == test_y).sum()/test_x.shape[0]\n",
    "                print(i, \"-\", j, \": \" , w)"
   ]
  },
  {
   "cell_type": "markdown",
   "metadata": {},
   "source": [
    "### plot the results"
   ]
  },
  {
   "cell_type": "code",
   "execution_count": 11,
   "metadata": {},
   "outputs": [],
   "source": [
    "x = [5, 10, 25, 50, 100]\n",
    "y = [0.8735, 0.8802, 0.8811, 0.8833, 0.8828]\n",
    "y50 = [0.8735, 0.8698, 0.8635, 0.8668, 0.8664]\n",
    "y40 = [0.7642, 0.7881, 0.8009, 0.8016, 0.8056]\n",
    "y30 = [0.7642, 0.7231, 0.7584, 0.8668, 0.7524]\n",
    "y20 = [0.7642, 0.7231, 0.659, 0.6744, 0.6893]\n",
    "y10 = [0.7642, 0.7231, 0.659, 0.6136, 0.5745]"
   ]
  },
  {
   "cell_type": "code",
   "execution_count": 12,
   "metadata": {},
   "outputs": [
    {
     "data": {
      "image/png": "[encoded data removed]",
      "text/plain": [
       "<Figure size 432x288 with 1 Axes>"
      ]
     },
     "metadata": {
      "needs_background": "light"
     },
     "output_type": "display_data"
    }
   ],
   "source": [
    "import matplotlib.pyplot as plt\n",
    "\n",
    "plt.plot(x,y, label='no correction', color='black')\n",
    "plt.plot(x, y10, label='>=10%', color='green', linestyle='--')\n",
    "plt.plot(x, y20, label='>=20%', color='green', linestyle='-')\n",
    "plt.plot(x, y30, label='>=30%', color='blue', linestyle='--')\n",
    "plt.plot(x, y40, label='>=40%', color='black', linestyle='--')\n",
    "plt.plot(x, y50, label='>=50%', color='blue', linestyle='-')\n",
    "\n",
    "plt.xlabel('number of predictions per image')\n",
    "plt.ylabel('accuracy')\n",
    "plt.xticks(list_of_predictions)\n",
    "#plt.yticks(list_of_dev)\n",
    "\n",
    "plt.legend(loc='lower left')\n",
    "plt.title(\"Hyp B MC Bernoulli Method\")\n",
    "plt.show()"
   ]
  },
  {
   "cell_type": "markdown",
   "metadata": {},
   "source": [
    "## Average prediction"
   ]
  },
  {
   "cell_type": "code",
   "execution_count": 45,
   "metadata": {},
   "outputs": [],
   "source": [
    "pred = apmc.avg_predict_mc(test_x, model_mc2_pred, 10, 5)"
   ]
  },
  {
   "cell_type": "code",
   "execution_count": 46,
   "metadata": {},
   "outputs": [],
   "source": [
    "df = pd.DataFrame(pred)\n",
    "df['soll'] = test_y\n",
    "#df.to_csv(\"A_009_test_with_max_pred_5.csv\", \";\")"
   ]
  },
  {
   "cell_type": "code",
   "execution_count": 47,
   "metadata": {},
   "outputs": [
    {
     "data": {
      "text/plain": [
       "0.8223"
      ]
     },
     "execution_count": 47,
     "metadata": {},
     "output_type": "execute_result"
    }
   ],
   "source": [
    "#just the predictions:\n",
    "(df[0] == test_y).sum()/test_x.shape[0]"
   ]
  },
  {
   "cell_type": "code",
   "execution_count": 48,
   "metadata": {},
   "outputs": [
    {
     "name": "stdout",
     "output_type": "stream",
     "text": [
      "0.1 :  0.6079\n",
      "0.2 :  0.7301\n",
      "0.3 :  0.8023\n",
      "0.4 :  0.821\n",
      "0.5 :  0.8223\n"
     ]
    }
   ],
   "source": [
    "#for different uncertainty levels\n",
    "for i in list_of_dev:\n",
    "    df['unc_est'] = np.where(df[3] >= i, 9, df[0])\n",
    "    w = (df['unc_est'] == test_y).sum()/test_x.shape[0]\n",
    "    print(i, \": \" , w)"
   ]
  },
  {
   "cell_type": "code",
   "execution_count": 49,
   "metadata": {},
   "outputs": [
    {
     "name": "stdout",
     "output_type": "stream",
     "text": [
      "0.1 - 0.2 :  0.7001\n",
      "0.1 - 0.3 :  0.6279\n",
      "0.1 - 0.4 :  0.6092\n",
      "0.1 - 0.5 :  0.6079\n",
      "0.2 - 0.3 :  0.7501\n",
      "0.2 - 0.4 :  0.7314\n",
      "0.2 - 0.5 :  0.7301\n",
      "0.3 - 0.4 :  0.8036\n",
      "0.3 - 0.5 :  0.8023\n",
      "0.4 - 0.5 :  0.821\n"
     ]
    }
   ],
   "source": [
    "#evaluate with ranges\n",
    "for i in list_of_dev:\n",
    "    for j in list_of_dev:\n",
    "        if j>i:\n",
    "                df['unc_est'] = np.where(((df[3] >= i) & (df[3]<=j)), 9, df[0])\n",
    "                w = (df['unc_est'] == test_y).sum()/test_x.shape[0]                \n",
    "                print(i, \"-\", j, \": \" , w)\n",
    "            "
   ]
  },
  {
   "cell_type": "code",
   "execution_count": 8,
   "metadata": {},
   "outputs": [],
   "source": [
    "x = [5, 10, 25, 50, 100]\n",
    "y = [0.8783, 0.8807, 0.8814, 0.8847, 0.8844]\n",
    "y50 = [0.8783, 0.8807, 0.8814, 0.8847, 0.8844]\n",
    "y40 = [0.878, 0.8806, 0.8814, 0.8847, 0.8844]\n",
    "y30 = [0.8681, 0.8763, 0.8794, 0.8831, 0.8839]\n",
    "y20 = [0.7989, 0.8086, 0.8176, 0.8231, 0.825]\n",
    "y10 = [0.6373, 0.6083, 0.5828, 0.5802, 0.5761]"
   ]
  },
  {
   "cell_type": "code",
   "execution_count": 9,
   "metadata": {},
   "outputs": [
    {
     "data": {
      "image/png": "[encoded data removed]",
      "text/plain": [
       "<Figure size 432x288 with 1 Axes>"
      ]
     },
     "metadata": {
      "needs_background": "light"
     },
     "output_type": "display_data"
    }
   ],
   "source": [
    "import matplotlib.pyplot as plt\n",
    "\n",
    "plt.plot(x,y, label='no correction', color='black')\n",
    "plt.plot(x, y10, label='>=10%', color='green', linestyle='--')\n",
    "plt.plot(x, y20, label='>=20%', color='green', linestyle='-')\n",
    "plt.plot(x, y30, label='>=30%', color='blue', linestyle='--')\n",
    "plt.plot(x, y40, label='>=40%', color='black', linestyle='--')\n",
    "plt.plot(x, y50, label='>=50%', color='blue', linestyle='-')\n",
    "\n",
    "plt.xlabel('number of predictions per image')\n",
    "plt.ylabel('accuracy')\n",
    "plt.xticks(list_of_predictions)\n",
    "#plt.yticks(list_of_dev)\n",
    "plt.title(\"Hyp B MC Average Method\")\n",
    "\n",
    "plt.legend(loc='lower left')\n",
    "plt.show()"
   ]
  },
  {
   "cell_type": "code",
   "execution_count": null,
   "metadata": {},
   "outputs": [],
   "source": []
  }
 ],
 "metadata": {
  "kernelspec": {
   "display_name": "venv_kernel",
   "language": "python",
   "name": "venv_kernel"
  },
  "language_info": {
   "codemirror_mode": {
    "name": "ipython",
    "version": 3
   },
   "file_extension": ".py",
   "mimetype": "text/x-python",
   "name": "python",
   "nbconvert_exporter": "python",
   "pygments_lexer": "ipython3",
   "version": "3.7.3"
  }
 },
 "nbformat": 4,
 "nbformat_minor": 2
}
