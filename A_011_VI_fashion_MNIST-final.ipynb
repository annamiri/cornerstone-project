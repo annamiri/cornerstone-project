{
 "cells": [
  {
   "cell_type": "code",
   "execution_count": 1,
   "metadata": {},
   "outputs": [
    {
     "name": "stdout",
     "output_type": "stream",
     "text": [
      "tensorflow:  2.0.0\n",
      "tensorflow_prob:  0.8.0\n"
     ]
    }
   ],
   "source": [
    "# import the needed packages and check version\n",
    "import tensorflow as tf\n",
    "from tensorflow import keras\n",
    "import tensorflow_probability as tfp\n",
    "\n",
    "# Helper libraries\n",
    "import numpy as np\n",
    "import pandas as pd\n",
    "import matplotlib.pyplot as plt\n",
    "\n",
    "print(\"tensorflow: \", tf.__version__) #2.0.0\n",
    "print(\"tensorflow_prob: \", tfp.__version__) #"
   ]
  },
  {
   "cell_type": "code",
   "execution_count": 2,
   "metadata": {},
   "outputs": [],
   "source": [
    "from tensorflow.python.framework.ops import disable_eager_execution\n",
    "disable_eager_execution()"
   ]
  },
  {
   "cell_type": "code",
   "execution_count": 3,
   "metadata": {},
   "outputs": [],
   "source": [
    "#import the fashion mnist dataset (from Zalando)\n",
    "fashion_mnist = keras.datasets.fashion_mnist\n",
    "data = fashion_mnist.load_data()\n",
    "(train_images, train_labels), (test_images, test_labels) = data\n",
    "#(train_images, train_labels), (test_images, test_labels) = fashion_mnist.load_data()"
   ]
  },
  {
   "cell_type": "code",
   "execution_count": 4,
   "metadata": {},
   "outputs": [],
   "source": [
    "class_names = ['T-shirt/top', 'Trouser', 'Pullover', 'Dress', 'Coat',\n",
    "               'Sandal', 'Shirt', 'Sneaker', 'Bag', 'Ankle boot']"
   ]
  },
  {
   "cell_type": "code",
   "execution_count": 5,
   "metadata": {},
   "outputs": [],
   "source": [
    "#preprocess the data\n",
    "train_x = np.expand_dims(train_images/255.0, axis=3)\n",
    "train_y = train_labels\n",
    "test_y = test_labels\n",
    "test_x = np.expand_dims(test_images/255.0, axis=3)"
   ]
  },
  {
   "cell_type": "markdown",
   "metadata": {},
   "source": [
    "## prepare data and exclude one class"
   ]
  },
  {
   "cell_type": "markdown",
   "metadata": {},
   "source": [
    "exclude one class and get this class seperately from the test set to test later"
   ]
  },
  {
   "cell_type": "code",
   "execution_count": 6,
   "metadata": {},
   "outputs": [],
   "source": [
    "nine_x = test_x[np.where(test_y==9)[0]]\n",
    "nine_y = test_y[np.where(test_y==9)[0]]\n",
    "\n",
    "zero_x = test_x[np.where(test_y==0)[0]]\n",
    "zero_y = test_y[np.where(test_y==0)[0]]"
   ]
  },
  {
   "cell_type": "code",
   "execution_count": 7,
   "metadata": {},
   "outputs": [],
   "source": [
    "train_x = np.delete(train_x, np.where((train_y==9))[0], axis = 0)\n",
    "train_y = np.delete(train_y, np.where(train_y==9)[0], axis = 0)"
   ]
  },
  {
   "cell_type": "code",
   "execution_count": 8,
   "metadata": {},
   "outputs": [],
   "source": [
    "train_y = np.array(pd.get_dummies(train_y))"
   ]
  },
  {
   "cell_type": "code",
   "execution_count": 9,
   "metadata": {},
   "outputs": [],
   "source": [
    "test_x_reduced = np.delete(test_x, np.where((test_y==9))[0], axis=0)\n",
    "test_y_reduced = np.delete(test_y, np.where((test_y==9))[0], axis=0)"
   ]
  },
  {
   "cell_type": "code",
   "execution_count": 10,
   "metadata": {},
   "outputs": [],
   "source": [
    "test_y_reduced = np.array(pd.get_dummies(test_y_reduced))"
   ]
  },
  {
   "cell_type": "code",
   "execution_count": 11,
   "metadata": {},
   "outputs": [],
   "source": [
    "#adjust labels\n",
    "class_names_adj = ['T-shirt/top', 'Trouser', 'Pullover', 'Dress', 'Coat',\n",
    "               'Sandal', 'Shirt', 'Sneaker', 'Bag']"
   ]
  },
  {
   "cell_type": "markdown",
   "metadata": {},
   "source": [
    "## construct a baseline CNN"
   ]
  },
  {
   "cell_type": "code",
   "execution_count": 43,
   "metadata": {},
   "outputs": [
    {
     "name": "stdout",
     "output_type": "stream",
     "text": [
      "Model: \"sequential\"\n",
      "_________________________________________________________________\n",
      "Layer (type)                 Output Shape              Param #   \n",
      "=================================================================\n",
      "conv2d (Conv2D)              (None, 28, 28, 8)         80        \n",
      "_________________________________________________________________\n",
      "conv2d_1 (Conv2D)            (None, 28, 28, 8)         584       \n",
      "_________________________________________________________________\n",
      "max_pooling2d (MaxPooling2D) (None, 14, 14, 8)         0         \n",
      "_________________________________________________________________\n",
      "conv2d_2 (Conv2D)            (None, 14, 14, 16)        1168      \n",
      "_________________________________________________________________\n",
      "flatten (Flatten)            (None, 3136)              0         \n",
      "_________________________________________________________________\n",
      "dropout (Dropout)            (None, 3136)              0         \n",
      "_________________________________________________________________\n",
      "dense (Dense)                (None, 9)                 28233     \n",
      "=================================================================\n",
      "Total params: 30,065\n",
      "Trainable params: 30,065\n",
      "Non-trainable params: 0\n",
      "_________________________________________________________________\n",
      "Epoch 1/10\n",
      "54000/54000 [==============================] - 52s 964us/sample - loss: 0.5159 - acc: 0.8137\n",
      "Epoch 2/10\n",
      "54000/54000 [==============================] - 54s 996us/sample - loss: 0.3540 - acc: 0.8719 - loss: \n",
      "Epoch 3/10\n",
      "54000/54000 [==============================] - 48s 892us/sample - loss: 0.3112 - acc: 0.8882\n",
      "Epoch 4/10\n",
      "54000/54000 [==============================] - 48s 898us/sample - loss: 0.2879 - acc: 0.8962\n",
      "Epoch 5/10\n",
      "54000/54000 [==============================] - 48s 885us/sample - loss: 0.2701 - acc: 0.9033\n",
      "Epoch 6/10\n",
      "54000/54000 [==============================] - 48s 894us/sample - loss: 0.2599 - acc: 0.9074\n",
      "Epoch 7/10\n",
      "54000/54000 [==============================] - 44s 809us/sample - loss: 0.2524 - acc: 0.9098\n",
      "Epoch 8/10\n",
      "54000/54000 [==============================] - 49s 899us/sample - loss: 0.2454 - acc: 0.9104\n",
      "Epoch 9/10\n",
      "54000/54000 [==============================] - 48s 889us/sample - loss: 0.2394 - acc: 0.9122\n",
      "Epoch 10/10\n",
      "54000/54000 [==============================] - 44s 815us/sample - loss: 0.2318 - acc: 0.9151\n"
     ]
    },
    {
     "data": {
      "image/png": "[encoded data removed]",
      "text/plain": [
       "<Figure size 864x360 with 2 Axes>"
      ]
     },
     "metadata": {
      "needs_background": "light"
     },
     "output_type": "display_data"
    }
   ],
   "source": [
    "# Construct a baseline CNN\n",
    "\n",
    "model_b = keras.Sequential([\n",
    "    keras.layers.Convolution2D(8, kernel_size=(3,3), padding=\"same\", activation='relu', input_shape=(28,28,1)),\n",
    "    keras.layers.Convolution2D(8, kernel_size=(3,3), padding=\"same\", activation='relu'),\n",
    "    keras.layers.MaxPooling2D(2,2),\n",
    "    keras.layers.Convolution2D(16, kernel_size=(3,3), padding=\"same\", activation='relu'),\n",
    "    keras.layers.Flatten(),\n",
    "    keras.layers.Dropout((0.5)),\n",
    "    keras.layers.Dense(9, activation='softmax')\n",
    "])\n",
    "\n",
    "model_b.compile(loss='categorical_crossentropy', optimizer='adam', metrics=['accuracy'])\n",
    "model_b.summary()\n",
    "\n",
    "history_b = model_b.fit(train_x, train_y, epochs = 10)\n",
    "\n",
    "plt.figure(figsize=(12,5))\n",
    "plt.subplot(1,2,1)\n",
    "plt.plot(history_b.history['acc'])\n",
    "#plt.plot(history_b.history['val_accuracy'])\n",
    "plt.ylim(0,1)\n",
    "plt.title('model accuracy')\n",
    "plt.ylabel('accuracy')\n",
    "plt.xlabel('epoch')\n",
    "plt.legend(['train', 'valid'], loc='lower right')\n",
    "plt.subplot(1,2,2)\n",
    "plt.plot(history_b.history['loss'])\n",
    "#plt.plot(history_b.history['va_loss'])\n",
    "plt.title('model loss')\n",
    "plt.ylabel('loss')\n",
    "plt.xlabel('epoch')\n",
    "plt.legend(['train', 'valid'], loc='upper right')\n",
    "plt.show()"
   ]
  },
  {
   "cell_type": "code",
   "execution_count": 44,
   "metadata": {},
   "outputs": [
    {
     "name": "stdout",
     "output_type": "stream",
     "text": [
      "9000/9000 [==============================] - 2s 202us/sample - loss: 0.2431 - acc: 0.9123\n"
     ]
    },
    {
     "data": {
      "text/plain": [
       "[0.24310792985227372, 0.9123333]"
      ]
     },
     "execution_count": 44,
     "metadata": {},
     "output_type": "execute_result"
    }
   ],
   "source": [
    "model_b.evaluate(test_x_reduced, test_y_reduced) #test the network with adjusted test set"
   ]
  },
  {
   "cell_type": "code",
   "execution_count": 45,
   "metadata": {},
   "outputs": [],
   "source": [
    "model_b.save('A_008_model_b.h5') #save the model"
   ]
  },
  {
   "cell_type": "code",
   "execution_count": 12,
   "metadata": {},
   "outputs": [
    {
     "name": "stderr",
     "output_type": "stream",
     "text": [
      "WARNING: Logging before flag parsing goes to stderr.\n",
      "W1206 10:53:18.711289 10544 deprecation.py:506] From C:\\Users\\annar\\Anaconda3\\envs\\ml_env\\lib\\site-packages\\tensorflow_core\\python\\ops\\resource_variable_ops.py:1630: calling BaseResourceVariable.__init__ (from tensorflow.python.ops.resource_variable_ops) with constraint is deprecated and will be removed in a future version.\n",
      "Instructions for updating:\n",
      "If using Keras pass *_constraint arguments to layers.\n"
     ]
    }
   ],
   "source": [
    "model_b = tf.keras.models.load_model('A_model_b.h5')"
   ]
  },
  {
   "cell_type": "markdown",
   "metadata": {},
   "source": [
    "## create a BNN with variational inference"
   ]
  },
  {
   "cell_type": "code",
   "execution_count": 13,
   "metadata": {},
   "outputs": [],
   "source": [
    "kernel_divergence_fn=lambda q, p, _: tfp.distributions.kl_divergence(q, p) / (train_x.shape[0] *1.0)"
   ]
  },
  {
   "cell_type": "code",
   "execution_count": 14,
   "metadata": {},
   "outputs": [
    {
     "name": "stderr",
     "output_type": "stream",
     "text": [
      "W1206 10:53:42.022192 10544 deprecation.py:323] From C:\\Users\\annar\\Anaconda3\\envs\\ml_env\\lib\\site-packages\\tensorflow_probability\\python\\layers\\util.py:104: Layer.add_variable (from tensorflow.python.keras.engine.base_layer) is deprecated and will be removed in a future version.\n",
      "Instructions for updating:\n",
      "Please use `layer.add_weight` method instead.\n"
     ]
    },
    {
     "name": "stdout",
     "output_type": "stream",
     "text": [
      "Model: \"sequential\"\n",
      "_________________________________________________________________\n",
      "Layer (type)                 Output Shape              Param #   \n",
      "=================================================================\n",
      "conv2d_flipout (Conv2DFlipou (None, 28, 28, 8)         152       \n",
      "_________________________________________________________________\n",
      "conv2d_flipout_1 (Conv2DFlip (None, 28, 28, 8)         1160      \n",
      "_________________________________________________________________\n",
      "max_pooling2d (MaxPooling2D) (None, 14, 14, 8)         0         \n",
      "_________________________________________________________________\n",
      "conv2d_flipout_2 (Conv2DFlip (None, 14, 14, 16)        2320      \n",
      "_________________________________________________________________\n",
      "flatten (Flatten)            (None, 3136)              0         \n",
      "_________________________________________________________________\n",
      "dense_flipout (DenseFlipout) (None, 9)                 56457     \n",
      "=================================================================\n",
      "Total params: 60,089\n",
      "Trainable params: 60,089\n",
      "Non-trainable params: 0\n",
      "_________________________________________________________________\n"
     ]
    }
   ],
   "source": [
    "model_vi = keras.Sequential([\n",
    "    tfp.layers.Convolution2DFlipout(8, kernel_size=(3,3), padding=\"same\", activation='relu', \n",
    "                                    kernel_divergence_fn=kernel_divergence_fn, input_shape=(28,28,1)),\n",
    "    tfp.layers.Convolution2DFlipout(8, kernel_size=(3,3), padding=\"same\", activation='relu', \n",
    "                                    kernel_divergence_fn = kernel_divergence_fn),\n",
    "    keras.layers.MaxPooling2D(2,2),\n",
    "    tfp.layers.Convolution2DFlipout(16, kernel_size=(3,3), padding=\"same\", activation='relu', \n",
    "                                    kernel_divergence_fn=kernel_divergence_fn),\n",
    "    keras.layers.Flatten(),\n",
    "    #keras.layers.Dropout((0.5)),\n",
    "    tfp.layers.DenseFlipout(9, activation='softmax', kernel_divergence_fn=kernel_divergence_fn)\n",
    "])\n",
    "\n",
    "model_vi.compile(loss='categorical_crossentropy', optimizer=\"adam\", metrics=['accuracy'])\n",
    "model_vi.summary()"
   ]
  },
  {
   "cell_type": "markdown",
   "metadata": {},
   "source": [
    "For each prediction now we get different probabilities"
   ]
  },
  {
   "cell_type": "code",
   "execution_count": 15,
   "metadata": {},
   "outputs": [
    {
     "name": "stdout",
     "output_type": "stream",
     "text": [
      "[0.09069002 0.07989125 0.09356403 0.09162315 0.12571064 0.17126374\n",
      " 0.09960321 0.0687487  0.17890528]\n",
      "[0.05335067 0.22470267 0.07368556 0.10185979 0.12203061 0.1280392\n",
      " 0.08713818 0.07857859 0.13061482]\n",
      "[0.06124888 0.15520921 0.12537321 0.14881317 0.10008454 0.08525317\n",
      " 0.08714456 0.0731087  0.16376455]\n",
      "[0.05532826 0.11979251 0.1412098  0.12389272 0.13372101 0.09785076\n",
      " 0.09617206 0.05600041 0.17603242]\n",
      "[0.10920502 0.06710151 0.14360172 0.11849762 0.10924949 0.10673697\n",
      " 0.0921937  0.09815041 0.1552635 ]\n"
     ]
    }
   ],
   "source": [
    "for i in range(0,5):\n",
    "  print(model_vi.predict(train_x[0:1])[0])"
   ]
  },
  {
   "cell_type": "code",
   "execution_count": 20,
   "metadata": {},
   "outputs": [
    {
     "name": "stdout",
     "output_type": "stream",
     "text": [
      "Train on 54000 samples\n",
      "Epoch 1/10\n",
      "54000/54000 [==============================] - 127s 2ms/sample - loss: 1.9161 - accuracy: 0.7784\n",
      "Epoch 2/10\n",
      "54000/54000 [==============================] - 128s 2ms/sample - loss: 1.5021 - accuracy: 0.8645\n",
      "Epoch 3/10\n",
      "54000/54000 [==============================] - 119s 2ms/sample - loss: 1.3151 - accuracy: 0.8792\n",
      "Epoch 4/10\n",
      "54000/54000 [==============================] - 120s 2ms/sample - loss: 1.1858 - accuracy: 0.8885\n",
      "Epoch 5/10\n",
      "54000/54000 [==============================] - 116s 2ms/sample - loss: 1.0855 - accuracy: 0.8963\n",
      "Epoch 6/10\n",
      "54000/54000 [==============================] - 118s 2ms/sample - loss: 1.0065 - accuracy: 0.8999\n",
      "Epoch 7/10\n",
      "54000/54000 [==============================] - 121s 2ms/sample - loss: 0.9395 - accuracy: 0.9046\n",
      "Epoch 8/10\n",
      "54000/54000 [==============================] - 110s 2ms/sample - loss: 0.8819 - accuracy: 0.9075\n",
      "Epoch 9/10\n",
      "54000/54000 [==============================] - 109s 2ms/sample - loss: 0.8381 - accuracy: 0.9090\n",
      "Epoch 10/10\n",
      "54000/54000 [==============================] - 118s 2ms/sample - loss: 0.7933 - accuracy: 0.9128\n"
     ]
    }
   ],
   "source": [
    "history_vi = model_vi.fit(train_x, train_y, epochs = 10)"
   ]
  },
  {
   "cell_type": "code",
   "execution_count": 16,
   "metadata": {},
   "outputs": [
    {
     "name": "stdout",
     "output_type": "stream",
     "text": [
      "9000/9000 [==============================] - 8s 920us/sample - loss: 3.6582 - accuracy: 0.1019\n"
     ]
    },
    {
     "data": {
      "text/plain": [
       "[3.658216415829129, 0.10188889]"
      ]
     },
     "execution_count": 16,
     "metadata": {},
     "output_type": "execute_result"
    }
   ],
   "source": [
    "model_vi.evaluate(test_x_reduced, test_y_reduced) #test the network with adjusted test set"
   ]
  },
  {
   "cell_type": "code",
   "execution_count": 24,
   "metadata": {},
   "outputs": [],
   "source": [
    "model_vi.save('A_010_model_vi.h5') #save the model"
   ]
  },
  {
   "cell_type": "code",
   "execution_count": 17,
   "metadata": {},
   "outputs": [],
   "source": [
    "model_vi.load_weights('A_010_model_vi.h5')"
   ]
  },
  {
   "cell_type": "markdown",
   "metadata": {},
   "source": [
    "## test with a picture from a class the network has seen before"
   ]
  },
  {
   "cell_type": "code",
   "execution_count": 18,
   "metadata": {},
   "outputs": [],
   "source": [
    "# set picture\n",
    "picture = 100\n",
    "picture_end = picture+1"
   ]
  },
  {
   "cell_type": "code",
   "execution_count": 19,
   "metadata": {},
   "outputs": [
    {
     "data": {
      "text/plain": [
       "array([7.0457202e-01, 6.3970743e-04, 1.8060855e-03, 1.7885707e-01,\n",
       "       1.7118450e-02, 3.4566622e-10, 9.6965641e-02, 1.4508088e-08,\n",
       "       4.1050469e-05], dtype=float32)"
      ]
     },
     "execution_count": 19,
     "metadata": {},
     "output_type": "execute_result"
    }
   ],
   "source": [
    "model_vi.predict(zero_x[picture:picture_end])[0]"
   ]
  },
  {
   "cell_type": "code",
   "execution_count": 20,
   "metadata": {},
   "outputs": [
    {
     "data": {
      "image/png": "[encoded data removed]",
      "text/plain": [
       "<Figure size 432x288 with 9 Axes>"
      ]
     },
     "metadata": {
      "needs_background": "light"
     },
     "output_type": "display_data"
    },
    {
     "data": {
      "image/png": "[encoded data removed]",
      "text/plain": [
       "<Figure size 432x288 with 3 Axes>"
      ]
     },
     "metadata": {
      "needs_background": "light"
     },
     "output_type": "display_data"
    },
    {
     "name": "stdout",
     "output_type": "stream",
     "text": [
      "[5.7220423e-01 8.2328456e-04 3.2160019e-03 1.4499281e-01 1.7195614e-02\n",
      " 5.4942393e-07 2.5859714e-01 4.0235049e-05 2.9301376e-03]\n"
     ]
    }
   ],
   "source": [
    "x = [0,1,2,3,4,5,6,7,8]\n",
    "predictions = model_vi.predict(zero_x[picture:picture_end])\n",
    "for i in range(100):\n",
    "    pred = model_vi.predict(zero_x[picture:picture_end])\n",
    "    predictions = np.append(predictions, pred, axis = 0)\n",
    "    \n",
    "for i in range(9):\n",
    "    plt.subplot(3,3,i+1)\n",
    "    plt.bar(x, predictions[i], color = ['black'])\n",
    "    plt.xticks(np.arange(9), class_names_adj, rotation = 90)\n",
    "    #plt.yticks([0.25, 0.5, 0.75, 1.0])\n",
    "    plt.ylim([0,1])\n",
    "plt.show()\n",
    "    #print(i, predictions)\n",
    "#x = [1,2,3,4,5,6,7,8,9]\n",
    "#y = pred[0].tolist()\n",
    "#plt.bar(x, y)\n",
    "#print(predictions)\n",
    "plt.subplot(2,3,1)\n",
    "plt.yticks([0,2,4,6,8])\n",
    "plt.imshow(predictions[0:9], cmap='binary', interpolation='none')\n",
    "plt.ylabel('run')\n",
    "#plt.xlabel('class')\n",
    "plt.xticks(np.arange(9), class_names_adj, rotation = 90)\n",
    "plt.title('heatmap predictions')\n",
    "plt.subplot(2,3,2)\n",
    "plt.xticks([])\n",
    "plt.yticks([])\n",
    "plt.imshow(np.squeeze(zero_x[picture:picture_end][0], axis = 2), cmap=plt.cm.binary)\n",
    "plt.xlabel(class_names_adj[zero_y[picture_end]])\n",
    "plt.title('image')\n",
    "\n",
    "#### try to also show the barchart with the average probability\n",
    "d = predictions\n",
    "predictions_mean = d.mean(axis=0)\n",
    "x = [0,1,2,3,4,5,6,7,8]\n",
    "\n",
    "plt.subplot(2,3,3)\n",
    "plt.bar(x,predictions_mean, color = ['black']) #color=(0.3,0.3,0.3,1.0)\n",
    "plt.xticks(np.arange(9), class_names_adj, rotation = 90)\n",
    "plt.title('average probability')\n",
    "\n",
    "plt.show()\n",
    "print(predictions_mean)"
   ]
  },
  {
   "cell_type": "markdown",
   "metadata": {},
   "source": [
    "## test with a picture from a class the network has not seen before"
   ]
  },
  {
   "cell_type": "code",
   "execution_count": 21,
   "metadata": {},
   "outputs": [
    {
     "data": {
      "image/png": "[encoded data removed]",
      "text/plain": [
       "<Figure size 432x288 with 9 Axes>"
      ]
     },
     "metadata": {
      "needs_background": "light"
     },
     "output_type": "display_data"
    },
    {
     "data": {
      "image/png": "[encoded data removed]",
      "text/plain": [
       "<Figure size 432x288 with 3 Axes>"
      ]
     },
     "metadata": {
      "needs_background": "light"
     },
     "output_type": "display_data"
    },
    {
     "name": "stdout",
     "output_type": "stream",
     "text": [
      "[3.1794122e-04 8.1372214e-05 7.6031442e-06 1.2128303e-05 3.2129668e-05\n",
      " 6.0592437e-01 8.8398444e-04 3.7760895e-01 1.5131481e-02]\n"
     ]
    }
   ],
   "source": [
    "x = [0,1,2,3,4,5,6,7,8]\n",
    "predictions = model_vi.predict(nine_x[picture:picture_end])\n",
    "for i in range(100):\n",
    "    pred = model_vi.predict(nine_x[picture:picture_end])\n",
    "    predictions = np.append(predictions, pred, axis = 0)\n",
    "    \n",
    "for i in range(9):\n",
    "    plt.subplot(3,3,i+1)\n",
    "    plt.bar(x, predictions[i], color = ['black'])\n",
    "    plt.xticks(np.arange(9), class_names_adj, rotation = 90)\n",
    "    #plt.yticks([0.25, 0.5, 0.75, 1.0])\n",
    "    plt.ylim([0,1])\n",
    "plt.show()\n",
    "    #print(i, predictions)\n",
    "#x = [1,2,3,4,5,6,7,8,9]\n",
    "#y = pred[0].tolist()\n",
    "#plt.bar(x, y)\n",
    "#print(predictions)\n",
    "plt.subplot(2,3,1)\n",
    "plt.yticks([0,2,4,6,8])\n",
    "plt.imshow(predictions[0:9], cmap='binary', interpolation='none')\n",
    "plt.ylabel('run')\n",
    "#plt.xlabel('class')\n",
    "plt.xticks(np.arange(9), class_names_adj, rotation = 90)\n",
    "plt.title('heatmap predictions')\n",
    "plt.subplot(2,3,2)\n",
    "plt.xticks([])\n",
    "plt.yticks([])\n",
    "plt.imshow(np.squeeze(nine_x[picture:picture_end][0], axis = 2), cmap=plt.cm.binary)\n",
    "plt.xlabel(class_names[nine_y[picture_end]])\n",
    "plt.title('image')\n",
    "\n",
    "#### try to also show the barchart with the average probability\n",
    "d = predictions\n",
    "predictions_mean = d.mean(axis=0)\n",
    "x = [0,1,2,3,4,5,6,7,8]\n",
    "\n",
    "plt.subplot(2,3,3)\n",
    "plt.bar(x,predictions_mean, color = ['black']) #color=(0.3,0.3,0.3,1.0)\n",
    "plt.xticks(np.arange(9), class_names_adj, rotation = 90)\n",
    "plt.title('average probability')\n",
    "\n",
    "plt.show()\n",
    "print(predictions_mean)"
   ]
  },
  {
   "cell_type": "markdown",
   "metadata": {},
   "source": [
    "# Compare the two networks with each other"
   ]
  },
  {
   "cell_type": "code",
   "execution_count": 35,
   "metadata": {},
   "outputs": [
    {
     "name": "stdout",
     "output_type": "stream",
     "text": [
      "9000/9000 [==============================] - 4s 408us/sample - loss: 2.3807 - accuracy: 0.2186\n"
     ]
    },
    {
     "data": {
      "text/plain": [
       "[2.3806834466722275, 0.21855555]"
      ]
     },
     "execution_count": 35,
     "metadata": {},
     "output_type": "execute_result"
    }
   ],
   "source": [
    "#first on the reduced test set, where the class 9 has been deleted\n",
    "model_b.evaluate(test_x_reduced, test_y_reduced)"
   ]
  },
  {
   "cell_type": "code",
   "execution_count": 36,
   "metadata": {},
   "outputs": [
    {
     "name": "stdout",
     "output_type": "stream",
     "text": [
      "9000/9000 [==============================] - 8s 922us/sample - loss: 0.8399 - accuracy: 0.8917\n"
     ]
    },
    {
     "data": {
      "text/plain": [
       "[0.8398836990462409, 0.89166665]"
      ]
     },
     "execution_count": 36,
     "metadata": {},
     "output_type": "execute_result"
    }
   ],
   "source": [
    "model_vi.evaluate(test_x_reduced, test_y_reduced)"
   ]
  },
  {
   "cell_type": "markdown",
   "metadata": {},
   "source": [
    "# Check and quantify BNN"
   ]
  },
  {
   "cell_type": "code",
   "execution_count": 22,
   "metadata": {},
   "outputs": [],
   "source": [
    "#import the helper functions for evaluation\n",
    "from helper_functions import m_predict_vi as apvi \n",
    "from helper_functions import b_predict_vi as bpvi"
   ]
  },
  {
   "cell_type": "markdown",
   "metadata": {},
   "source": [
    "## Bernoulli predict"
   ]
  },
  {
   "cell_type": "code",
   "execution_count": 23,
   "metadata": {},
   "outputs": [],
   "source": [
    "list_of_predictions = [5, 10, 25, 50, 100]\n",
    "list_of_dev = [0.1, 0.2, 0.3, 0.4, 0.5]"
   ]
  },
  {
   "cell_type": "code",
   "execution_count": 24,
   "metadata": {},
   "outputs": [],
   "source": [
    "pred = bpvi.bern_predict_vi(test_x, model_vi, 9, 5)"
   ]
  },
  {
   "cell_type": "code",
   "execution_count": 19,
   "metadata": {},
   "outputs": [],
   "source": [
    "#import pandas as pd\n",
    "p = pd.DataFrame(pred)\n",
    "p['soll'] = test_y\n",
    "#p.to_csv(\"A_010_test_set_with_predictions_25.csv\", \";\")"
   ]
  },
  {
   "cell_type": "code",
   "execution_count": 20,
   "metadata": {},
   "outputs": [
    {
     "data": {
      "text/plain": [
       "0.8139"
      ]
     },
     "execution_count": 20,
     "metadata": {},
     "output_type": "execute_result"
    }
   ],
   "source": [
    "#just the predictions:\n",
    "(p[0] == test_y).sum()/test_x.shape[0]"
   ]
  },
  {
   "cell_type": "code",
   "execution_count": 21,
   "metadata": {},
   "outputs": [
    {
     "name": "stdout",
     "output_type": "stream",
     "text": [
      "0.1 :  0.7304\n",
      "0.2 :  0.7304\n",
      "0.3 :  0.7711\n",
      "0.4 :  0.7863\n",
      "0.5 :  0.8109\n"
     ]
    }
   ],
   "source": [
    "#for different uncertainty levels\n",
    "for i in list_of_dev:\n",
    "    p['unc_est'] = np.where(p[3] >= i, 9, p[0])\n",
    "    w = (p['unc_est'] == test_y).sum()/test_x.shape[0]\n",
    "    print(i, \": \" , w)"
   ]
  },
  {
   "cell_type": "code",
   "execution_count": 93,
   "metadata": {},
   "outputs": [],
   "source": [
    "#import pandas as pd\n",
    "#p = pd.read_csv(\"A_008_test_set_with_predictions_100.csv\", sep=';')"
   ]
  },
  {
   "cell_type": "code",
   "execution_count": 22,
   "metadata": {},
   "outputs": [
    {
     "name": "stdout",
     "output_type": "stream",
     "text": [
      "0.1 - 0.2 :  0.788\n",
      "0.1 - 0.3 :  0.7732\n",
      "0.1 - 0.4 :  0.7519\n",
      "0.1 - 0.5 :  0.7304\n",
      "0.2 - 0.3 :  0.7732\n",
      "0.2 - 0.4 :  0.7519\n",
      "0.2 - 0.5 :  0.7304\n",
      "0.3 - 0.4 :  0.7926\n",
      "0.3 - 0.5 :  0.7711\n",
      "0.4 - 0.5 :  0.7863\n"
     ]
    }
   ],
   "source": [
    "#evaluate with ranges\n",
    "for i in list_of_dev:\n",
    "    for j in list_of_dev:\n",
    "        if j>i:\n",
    "                p['unc_est'] = np.where(((p[3] >= i) & (p[3]<=j)), 9, p[0])\n",
    "                w = (p['unc_est'] == test_y).sum()/test_x.shape[0]\n",
    "                print(i, \"-\", j, \": \" , w)\n",
    "            "
   ]
  },
  {
   "cell_type": "markdown",
   "metadata": {},
   "source": [
    "### plot the results"
   ]
  },
  {
   "cell_type": "code",
   "execution_count": 24,
   "metadata": {},
   "outputs": [],
   "source": [
    "x = [5, 10, 25]\n",
    "y = [0.8116, 0.8109, 0.8139]\n",
    "y50 = [0.8116, 0.8094, 0.8109]\n",
    "y40 = [0.7703, 0.7776, 0.7863]\n",
    "y30 = [0.7703, 0.7535, 0.7711]\n",
    "y20 = [0.7703, 0.7535, 0.7304]\n",
    "y10 = [0.7703, 0.7535, 0.7304]"
   ]
  },
  {
   "cell_type": "code",
   "execution_count": 26,
   "metadata": {},
   "outputs": [
    {
     "data": {
      "image/png": "[encoded data removed]",
      "text/plain": [
       "<Figure size 432x288 with 1 Axes>"
      ]
     },
     "metadata": {
      "needs_background": "light"
     },
     "output_type": "display_data"
    }
   ],
   "source": [
    "import matplotlib.pyplot as plt\n",
    "\n",
    "plt.plot(x, y, label='no correction', color='black')\n",
    "plt.plot(x, y10, label='>=10%', color='green', linestyle='--')\n",
    "plt.plot(x, y20, label='>=20%', color='green', linestyle='-')\n",
    "plt.plot(x, y30, label='>=30%', color='blue', linestyle='--')\n",
    "plt.plot(x, y40, label='>=40%', color='black', linestyle='--')\n",
    "plt.plot(x, y50, label='>=50%', color='blue', linestyle='-')\n",
    "\n",
    "plt.xlabel('number of predictions per image')\n",
    "plt.ylabel('accuracy')\n",
    "plt.xticks(x)\n",
    "#plt.yticks(list_of_dev)\n",
    "\n",
    "plt.legend(loc='lower left')\n",
    "plt.show()"
   ]
  },
  {
   "cell_type": "markdown",
   "metadata": {},
   "source": [
    "## Average predict"
   ]
  },
  {
   "cell_type": "code",
   "execution_count": null,
   "metadata": {},
   "outputs": [],
   "source": [
    "pred = apvi.average_predict_vi(test_x, model_vi, 9, 25)"
   ]
  },
  {
   "cell_type": "code",
   "execution_count": 46,
   "metadata": {},
   "outputs": [
    {
     "name": "stderr",
     "output_type": "stream",
     "text": [
      "C:\\Users\\annar\\Anaconda3\\envs\\ml_env\\lib\\site-packages\\ipykernel_launcher.py:14: FutureWarning: \n",
      "The current behaviour of 'Series.argmax' is deprecated, use 'idxmax'\n",
      "instead.\n",
      "The behavior of 'argmax' will be corrected to return the positional\n",
      "maximum in the future. For now, use 'series.values.argmax' or\n",
      "'np.argmax(np.array(values))' to get the position of the maximum\n",
      "row.\n",
      "  \n"
     ]
    }
   ],
   "source": [
    "df = pd.DataFrame(pred)\n",
    "df['soll'] = test_y\n",
    "df.to_csv(\"A_010_test_with_max_pred_25.csv\", \";\")"
   ]
  },
  {
   "cell_type": "code",
   "execution_count": 47,
   "metadata": {},
   "outputs": [
    {
     "data": {
      "text/plain": [
       "0.8149"
      ]
     },
     "execution_count": 47,
     "metadata": {},
     "output_type": "execute_result"
    }
   ],
   "source": [
    "#just the predictions:\n",
    "(df[0] == test_y).sum()/test_x.shape[0]"
   ]
  },
  {
   "cell_type": "code",
   "execution_count": 48,
   "metadata": {},
   "outputs": [
    {
     "name": "stdout",
     "output_type": "stream",
     "text": [
      "0.1 :  0.6949\n",
      "0.2 :  0.8156\n",
      "0.3 :  0.8362\n",
      "0.4 :  0.8167\n",
      "0.5 :  0.8149\n"
     ]
    }
   ],
   "source": [
    "#for different uncertainty levels\n",
    "for i in list_of_dev:\n",
    "    df['unc_est'] = np.where(df[3] >= i, 9, df[0])\n",
    "    w = (df['unc_est'] == test_y).sum()/test_x.shape[0]\n",
    "    print(i, \": \" , w)"
   ]
  },
  {
   "cell_type": "code",
   "execution_count": 49,
   "metadata": {},
   "outputs": [
    {
     "name": "stdout",
     "output_type": "stream",
     "text": [
      "0.1 - 0.2 :  0.6942\n",
      "0.1 - 0.3 :  0.6736\n",
      "0.1 - 0.4 :  0.6931\n",
      "0.1 - 0.5 :  0.6949\n",
      "0.2 - 0.3 :  0.7943\n",
      "0.2 - 0.4 :  0.8138\n",
      "0.2 - 0.5 :  0.8156\n",
      "0.3 - 0.4 :  0.8344\n",
      "0.3 - 0.5 :  0.8362\n",
      "0.4 - 0.5 :  0.8167\n"
     ]
    }
   ],
   "source": [
    "#evaluate with ranges\n",
    "for i in list_of_dev:\n",
    "    for j in list_of_dev:\n",
    "        if j>i:\n",
    "                df['unc_est'] = np.where(((df[3] >= i) & (df[3]<=j)), 9, df[0])\n",
    "                w = (df['unc_est'] == test_y).sum()/test_x.shape[0]                \n",
    "                print(i, \"-\", j, \": \" , w)\n",
    "            "
   ]
  },
  {
   "cell_type": "markdown",
   "metadata": {},
   "source": [
    "### graphic"
   ]
  },
  {
   "cell_type": "code",
   "execution_count": 50,
   "metadata": {},
   "outputs": [],
   "source": [
    "x = [5, 10, 25]\n",
    "y = [0.8122, 0.8129, 0.8149]\n",
    "y50 = [0.8124, 0.8129, 0.8149]\n",
    "y40 = [0.82, 0.8171, 0.8167]\n",
    "y30 = [0.8245, 0.8337, 0.8362]\n",
    "y20 = [0.7989, 0.8092, 0.8156]\n",
    "y10 = [0.7154, 0.7038, 0.6949]"
   ]
  },
  {
   "cell_type": "code",
   "execution_count": 51,
   "metadata": {},
   "outputs": [
    {
     "data": {
      "image/png": "[encoded data removed]",
      "text/plain": [
       "<Figure size 432x288 with 1 Axes>"
      ]
     },
     "metadata": {
      "needs_background": "light"
     },
     "output_type": "display_data"
    }
   ],
   "source": [
    "import matplotlib.pyplot as plt\n",
    "\n",
    "plt.plot(x,y, label='no correction', color='black')\n",
    "plt.plot(x, y10, label='>=10%', color='green', linestyle='--')\n",
    "plt.plot(x, y20, label='>=20%', color='green', linestyle='-')\n",
    "plt.plot(x, y30, label='>=30%', color='blue', linestyle='--')\n",
    "plt.plot(x, y40, label='>=40%', color='black', linestyle='--')\n",
    "plt.plot(x, y50, label='>=50%', color='blue', linestyle='-')\n",
    "\n",
    "plt.xlabel('number of predictions per image')\n",
    "plt.ylabel('accuracy')\n",
    "plt.xticks(x)\n",
    "#plt.yticks(list_of_dev)\n",
    "\n",
    "plt.legend(loc='lower left')\n",
    "plt.show()"
   ]
  }
 ],
 "metadata": {
  "kernelspec": {
   "display_name": "Python [conda env:ml_env]",
   "language": "python",
   "name": "conda-env-ml_env-py"
  },
  "language_info": {
   "codemirror_mode": {
    "name": "ipython",
    "version": 3
   },
   "file_extension": ".py",
   "mimetype": "text/x-python",
   "name": "python",
   "nbconvert_exporter": "python",
   "pygments_lexer": "ipython3",
   "version": "3.7.3"
  }
 },
 "nbformat": 4,
 "nbformat_minor": 2
}
