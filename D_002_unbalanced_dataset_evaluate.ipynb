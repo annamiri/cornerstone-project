{
 "cells": [
  {
   "cell_type": "markdown",
   "metadata": {},
   "source": [
    "Evaluate the best prediction methods for the Hypothesis B with the small training set\n",
    "- Variational Inference - Bernoulli and Average Predict methods as well as standard prediction\n",
    "- Monte Carlo Dropout - Bernoulli and Average predict methods as well as standard prediction\n",
    "- Baseline Modell / CNN with standard prediction method"
   ]
  },
  {
   "cell_type": "code",
   "execution_count": 1,
   "metadata": {},
   "outputs": [
    {
     "name": "stdout",
     "output_type": "stream",
     "text": [
      "tensorflow:  2.0.0\n",
      "tensorflow_prob:  0.8.0\n"
     ]
    }
   ],
   "source": [
    "# import the needed packages and check version\n",
    "import tensorflow as tf\n",
    "from tensorflow import keras\n",
    "import tensorflow_probability as tfp\n",
    "\n",
    "# Helper libraries\n",
    "import numpy as np\n",
    "import pandas as pd\n",
    "import matplotlib.pyplot as plt\n",
    "\n",
    "print(\"tensorflow: \", tf.__version__) #2.0.0\n",
    "print(\"tensorflow_prob: \", tfp.__version__) #"
   ]
  },
  {
   "cell_type": "code",
   "execution_count": 2,
   "metadata": {},
   "outputs": [],
   "source": [
    "#import the helper functions for evaluation\n",
    "from helper_functions import m_predict_vi as apvi \n",
    "from helper_functions import b_predict_vi as bpvi\n",
    "from helper_functions import b_predict_mc as bpmc\n",
    "from helper_functions import m_predict_mc as apmc"
   ]
  },
  {
   "cell_type": "code",
   "execution_count": 3,
   "metadata": {},
   "outputs": [],
   "source": [
    "from tensorflow.python.framework.ops import disable_eager_execution\n",
    "disable_eager_execution()"
   ]
  },
  {
   "cell_type": "code",
   "execution_count": 4,
   "metadata": {},
   "outputs": [],
   "source": [
    "#import the fashion mnist dataset (from Zalando)\n",
    "fashion_mnist = keras.datasets.fashion_mnist\n",
    "data = fashion_mnist.load_data()\n",
    "(train_images, train_labels), (test_images, test_labels) = data\n",
    "#(train_images, train_labels), (test_images, test_labels) = fashion_mnist.load_data()"
   ]
  },
  {
   "cell_type": "code",
   "execution_count": 5,
   "metadata": {},
   "outputs": [],
   "source": [
    "class_names = ['T-shirt/top', 'Trouser', 'Pullover', 'Dress', 'Coat',\n",
    "               'Sandal', 'Shirt', 'Sneaker', 'Bag', 'Ankle boot']"
   ]
  },
  {
   "cell_type": "code",
   "execution_count": 6,
   "metadata": {},
   "outputs": [],
   "source": [
    "#preprocess the images\n",
    "train_x = np.expand_dims(train_images/255.0, axis=3)\n",
    "test_x = np.expand_dims(test_images/255.0, axis=3)"
   ]
  },
  {
   "cell_type": "code",
   "execution_count": 7,
   "metadata": {},
   "outputs": [],
   "source": [
    "train_y = train_labels\n",
    "test_y = test_labels"
   ]
  },
  {
   "cell_type": "markdown",
   "metadata": {},
   "source": [
    "# get the models"
   ]
  },
  {
   "cell_type": "code",
   "execution_count": 8,
   "metadata": {},
   "outputs": [
    {
     "name": "stderr",
     "output_type": "stream",
     "text": [
      "WARNING: Logging before flag parsing goes to stderr.\n",
      "W1130 20:19:30.918413  7944 deprecation.py:506] From C:\\Users\\annar\\Anaconda3\\envs\\ml_env\\lib\\site-packages\\tensorflow_core\\python\\ops\\resource_variable_ops.py:1630: calling BaseResourceVariable.__init__ (from tensorflow.python.ops.resource_variable_ops) with constraint is deprecated and will be removed in a future version.\n",
      "Instructions for updating:\n",
      "If using Keras pass *_constraint arguments to layers.\n"
     ]
    }
   ],
   "source": [
    "model = tf.keras.models.load_model('B_003_model_b.h5')"
   ]
  },
  {
   "cell_type": "code",
   "execution_count": 9,
   "metadata": {},
   "outputs": [],
   "source": [
    "kernel_divergence_fn=lambda q, p, _: tfp.distributions.kl_divergence(q, p) / (train_x.shape[0] *1.0)"
   ]
  },
  {
   "cell_type": "code",
   "execution_count": 10,
   "metadata": {},
   "outputs": [
    {
     "name": "stderr",
     "output_type": "stream",
     "text": [
      "W1130 20:19:33.857183  7944 deprecation.py:323] From C:\\Users\\annar\\Anaconda3\\envs\\ml_env\\lib\\site-packages\\tensorflow_probability\\python\\layers\\util.py:104: Layer.add_variable (from tensorflow.python.keras.engine.base_layer) is deprecated and will be removed in a future version.\n",
      "Instructions for updating:\n",
      "Please use `layer.add_weight` method instead.\n"
     ]
    }
   ],
   "source": [
    "model_vi = keras.Sequential([\n",
    "    tfp.layers.Convolution2DFlipout(8, kernel_size=(3,3), padding=\"same\", activation='relu', \n",
    "                                    kernel_divergence_fn=kernel_divergence_fn, input_shape=(28,28,1)),\n",
    "    tfp.layers.Convolution2DFlipout(8, kernel_size=(3,3), padding=\"same\", activation='relu', \n",
    "                                    kernel_divergence_fn = kernel_divergence_fn),\n",
    "    keras.layers.MaxPooling2D(2,2),\n",
    "    tfp.layers.Convolution2DFlipout(16, kernel_size=(3,3), padding=\"same\", activation='relu', \n",
    "                                    kernel_divergence_fn=kernel_divergence_fn),\n",
    "    keras.layers.Flatten(),\n",
    "    #keras.layers.Dropout((0.5)),\n",
    "    tfp.layers.DenseFlipout(10, activation='softmax', kernel_divergence_fn=kernel_divergence_fn)\n",
    "])"
   ]
  },
  {
   "cell_type": "code",
   "execution_count": 11,
   "metadata": {},
   "outputs": [],
   "source": [
    "#model_vi = tf.keras.models.load_model('B_004_model_vi.h5')\n",
    "model_vi.load_weights('B_005_model_vi.h5')"
   ]
  },
  {
   "cell_type": "code",
   "execution_count": 12,
   "metadata": {},
   "outputs": [],
   "source": [
    "model_mc2 = tf.keras.models.load_model('B_003_model_mc2.h5')"
   ]
  },
  {
   "cell_type": "code",
   "execution_count": 13,
   "metadata": {},
   "outputs": [],
   "source": [
    "import tensorflow.keras.backend as K\n",
    "model_mc2_pred = K.function([model_mc2.input, K.learning_phase()], [model_mc2.output])"
   ]
  },
  {
   "cell_type": "markdown",
   "metadata": {},
   "source": [
    "# Evaluate the models and prediction functions"
   ]
  },
  {
   "cell_type": "markdown",
   "metadata": {},
   "source": [
    "We go for one uncertainty measure and order the test dataset accordingly and then check how the accuracy develops"
   ]
  },
  {
   "cell_type": "code",
   "execution_count": 14,
   "metadata": {},
   "outputs": [],
   "source": [
    "# get the bernoulli predict with the variational inference model\n",
    "# the testing before showed that the best results were achieved with 25 or 10 pictures per prediction, since those are very\n",
    "# close I will go with 10 predictions per image since this is computationally less demanding\n",
    "# 18:38\n",
    "bern_vi = bpvi.bern_predict_vi(test_x, model_vi, 10, 25)"
   ]
  },
  {
   "cell_type": "code",
   "execution_count": 15,
   "metadata": {},
   "outputs": [],
   "source": [
    "df_pred = pd.DataFrame(bern_vi)\n",
    "results = pd.DataFrame(df_pred[3])\n",
    "results.columns = ['sort_order']"
   ]
  },
  {
   "cell_type": "code",
   "execution_count": 16,
   "metadata": {},
   "outputs": [],
   "source": [
    "results['b_vi'] = df_pred[0]"
   ]
  },
  {
   "cell_type": "code",
   "execution_count": 17,
   "metadata": {},
   "outputs": [],
   "source": [
    "results.to_csv(\"D_002_results.csv\", \";\")"
   ]
  },
  {
   "cell_type": "code",
   "execution_count": 21,
   "metadata": {},
   "outputs": [],
   "source": [
    "avg_vi = apvi.average_predict_vi(test_x, model_vi, 10, 25)"
   ]
  },
  {
   "cell_type": "code",
   "execution_count": 22,
   "metadata": {},
   "outputs": [],
   "source": [
    "p = pd.DataFrame(avg_vi)\n",
    "results['a_vi'] = p[0]\n",
    "results['a_vi_std'] = p[3]"
   ]
  },
  {
   "cell_type": "code",
   "execution_count": 23,
   "metadata": {},
   "outputs": [],
   "source": [
    "results.to_csv(\"D_002_results.csv\", \";\")"
   ]
  },
  {
   "cell_type": "code",
   "execution_count": 24,
   "metadata": {},
   "outputs": [],
   "source": [
    "b_mc = bpmc.b_predict_mc(test_x, model_mc2_pred, 10, 50)"
   ]
  },
  {
   "cell_type": "code",
   "execution_count": 25,
   "metadata": {},
   "outputs": [],
   "source": [
    "q = pd.DataFrame(b_mc)\n",
    "results['b_mc'] = q[0]\n",
    "results['b_mc_std'] = q[3]"
   ]
  },
  {
   "cell_type": "code",
   "execution_count": 26,
   "metadata": {},
   "outputs": [],
   "source": [
    "results.to_csv(\"D_002_results.csv\", \";\")"
   ]
  },
  {
   "cell_type": "code",
   "execution_count": 27,
   "metadata": {},
   "outputs": [
    {
     "name": "stderr",
     "output_type": "stream",
     "text": [
      "C:\\Users\\annar\\MAS Data Science\\Masterarbeit\\helper_functions\\m_predict_mc.py:17: FutureWarning: \n",
      "The current behaviour of 'Series.argmax' is deprecated, use 'idxmax'\n",
      "instead.\n",
      "The behavior of 'argmax' will be corrected to return the positional\n",
      "maximum in the future. For now, use 'series.values.argmax' or\n",
      "'np.argmax(np.array(values))' to get the position of the maximum\n",
      "row.\n",
      "  max_value = mean.argmax()\n"
     ]
    }
   ],
   "source": [
    "a_mc = apmc.avg_predict_mc(test_x, model_mc2_pred, 10, 50)"
   ]
  },
  {
   "cell_type": "code",
   "execution_count": 28,
   "metadata": {},
   "outputs": [],
   "source": [
    "r = pd.DataFrame(a_mc)\n",
    "results['a_mc'] = r[0]\n",
    "results['a_mc_std'] = r[3]"
   ]
  },
  {
   "cell_type": "code",
   "execution_count": 29,
   "metadata": {},
   "outputs": [],
   "source": [
    "results.to_csv(\"D_002_results.csv\", \";\")"
   ]
  },
  {
   "cell_type": "code",
   "execution_count": 16,
   "metadata": {},
   "outputs": [],
   "source": [
    "results = pd.read_csv(\"D_002_results.csv\", \";\")"
   ]
  },
  {
   "cell_type": "markdown",
   "metadata": {},
   "source": [
    "# do the predictions for the baseline model and the \"normal\" prediction methods"
   ]
  },
  {
   "cell_type": "code",
   "execution_count": 30,
   "metadata": {},
   "outputs": [],
   "source": [
    "cnn_pred = []\n",
    "for i in range(10000):\n",
    "    j = i + 1\n",
    "    pred = model.predict(test_x[i:j]).argmax()\n",
    "    cnn_pred.append(pred)\n",
    "    #print(pred)"
   ]
  },
  {
   "cell_type": "code",
   "execution_count": 43,
   "metadata": {},
   "outputs": [],
   "source": [
    "results['cnn'] = cnn_pred"
   ]
  },
  {
   "cell_type": "code",
   "execution_count": 32,
   "metadata": {},
   "outputs": [],
   "source": [
    "mc_pred = []\n",
    "for i in range(10000):\n",
    "    j = i + 1\n",
    "    pred = model_mc2.predict(test_x[i:j]).argmax()\n",
    "    mc_pred.append(pred)\n",
    "    #print(pred)"
   ]
  },
  {
   "cell_type": "code",
   "execution_count": 33,
   "metadata": {},
   "outputs": [],
   "source": [
    "results['mc'] = mc_pred"
   ]
  },
  {
   "cell_type": "code",
   "execution_count": 34,
   "metadata": {},
   "outputs": [],
   "source": [
    "vi_pred = []\n",
    "for i in range(10000):\n",
    "    j = i + 1\n",
    "    pred = model_vi.predict(test_x[i:j]).argmax()\n",
    "    vi_pred.append(pred)\n",
    "    #print(pred)"
   ]
  },
  {
   "cell_type": "code",
   "execution_count": 35,
   "metadata": {},
   "outputs": [],
   "source": [
    "results['vi'] = vi_pred"
   ]
  },
  {
   "cell_type": "code",
   "execution_count": 36,
   "metadata": {},
   "outputs": [],
   "source": [
    "results.to_csv(\"D_002_results.csv\", \";\")"
   ]
  },
  {
   "cell_type": "markdown",
   "metadata": {},
   "source": [
    "# create the tests"
   ]
  },
  {
   "cell_type": "code",
   "execution_count": 8,
   "metadata": {},
   "outputs": [],
   "source": [
    "results = pd.read_csv(\"D_002_results.csv\", \";\")"
   ]
  },
  {
   "cell_type": "code",
   "execution_count": 9,
   "metadata": {},
   "outputs": [],
   "source": [
    "results['soll'] = test_y"
   ]
  },
  {
   "cell_type": "code",
   "execution_count": 10,
   "metadata": {},
   "outputs": [],
   "source": [
    "testing = results.sort_values(by=['sort_order'], ascending = True)"
   ]
  },
  {
   "cell_type": "code",
   "execution_count": 40,
   "metadata": {},
   "outputs": [
    {
     "data": {
      "text/html": [
       "<div>\n",
       "<style scoped>\n",
       "    .dataframe tbody tr th:only-of-type {\n",
       "        vertical-align: middle;\n",
       "    }\n",
       "\n",
       "    .dataframe tbody tr th {\n",
       "        vertical-align: top;\n",
       "    }\n",
       "\n",
       "    .dataframe thead th {\n",
       "        text-align: right;\n",
       "    }\n",
       "</style>\n",
       "<table border=\"1\" class=\"dataframe\">\n",
       "  <thead>\n",
       "    <tr style=\"text-align: right;\">\n",
       "      <th></th>\n",
       "      <th>Unnamed: 0</th>\n",
       "      <th>sort_order</th>\n",
       "      <th>b_vi</th>\n",
       "      <th>a_vi</th>\n",
       "      <th>a_vi_std</th>\n",
       "      <th>b_mc</th>\n",
       "      <th>b_mc_std</th>\n",
       "      <th>a_mc</th>\n",
       "      <th>a_mc_std</th>\n",
       "      <th>cnn</th>\n",
       "      <th>mc</th>\n",
       "      <th>vi</th>\n",
       "      <th>soll</th>\n",
       "    </tr>\n",
       "  </thead>\n",
       "  <tbody>\n",
       "    <tr>\n",
       "      <th>0</th>\n",
       "      <td>0</td>\n",
       "      <td>0.0</td>\n",
       "      <td>9</td>\n",
       "      <td>9</td>\n",
       "      <td>0.018360</td>\n",
       "      <td>9</td>\n",
       "      <td>0.14</td>\n",
       "      <td>9</td>\n",
       "      <td>0.143279</td>\n",
       "      <td>9</td>\n",
       "      <td>9</td>\n",
       "      <td>9</td>\n",
       "      <td>9</td>\n",
       "    </tr>\n",
       "    <tr>\n",
       "      <th>6043</th>\n",
       "      <td>6043</td>\n",
       "      <td>0.0</td>\n",
       "      <td>7</td>\n",
       "      <td>7</td>\n",
       "      <td>0.000945</td>\n",
       "      <td>7</td>\n",
       "      <td>0.00</td>\n",
       "      <td>7</td>\n",
       "      <td>0.001296</td>\n",
       "      <td>7</td>\n",
       "      <td>7</td>\n",
       "      <td>7</td>\n",
       "      <td>7</td>\n",
       "    </tr>\n",
       "    <tr>\n",
       "      <th>6041</th>\n",
       "      <td>6041</td>\n",
       "      <td>0.0</td>\n",
       "      <td>3</td>\n",
       "      <td>3</td>\n",
       "      <td>0.024998</td>\n",
       "      <td>3</td>\n",
       "      <td>0.00</td>\n",
       "      <td>3</td>\n",
       "      <td>0.021275</td>\n",
       "      <td>3</td>\n",
       "      <td>3</td>\n",
       "      <td>3</td>\n",
       "      <td>3</td>\n",
       "    </tr>\n",
       "    <tr>\n",
       "      <th>6040</th>\n",
       "      <td>6040</td>\n",
       "      <td>0.0</td>\n",
       "      <td>9</td>\n",
       "      <td>9</td>\n",
       "      <td>0.047453</td>\n",
       "      <td>9</td>\n",
       "      <td>0.00</td>\n",
       "      <td>9</td>\n",
       "      <td>0.096386</td>\n",
       "      <td>9</td>\n",
       "      <td>9</td>\n",
       "      <td>9</td>\n",
       "      <td>9</td>\n",
       "    </tr>\n",
       "    <tr>\n",
       "      <th>6039</th>\n",
       "      <td>6039</td>\n",
       "      <td>0.0</td>\n",
       "      <td>8</td>\n",
       "      <td>8</td>\n",
       "      <td>0.098020</td>\n",
       "      <td>8</td>\n",
       "      <td>0.26</td>\n",
       "      <td>8</td>\n",
       "      <td>0.178941</td>\n",
       "      <td>8</td>\n",
       "      <td>8</td>\n",
       "      <td>8</td>\n",
       "      <td>8</td>\n",
       "    </tr>\n",
       "    <tr>\n",
       "      <th>6036</th>\n",
       "      <td>6036</td>\n",
       "      <td>0.0</td>\n",
       "      <td>9</td>\n",
       "      <td>9</td>\n",
       "      <td>0.006892</td>\n",
       "      <td>9</td>\n",
       "      <td>0.14</td>\n",
       "      <td>9</td>\n",
       "      <td>0.144648</td>\n",
       "      <td>9</td>\n",
       "      <td>9</td>\n",
       "      <td>9</td>\n",
       "      <td>9</td>\n",
       "    </tr>\n",
       "    <tr>\n",
       "      <th>6035</th>\n",
       "      <td>6035</td>\n",
       "      <td>0.0</td>\n",
       "      <td>5</td>\n",
       "      <td>5</td>\n",
       "      <td>0.090772</td>\n",
       "      <td>5</td>\n",
       "      <td>0.00</td>\n",
       "      <td>5</td>\n",
       "      <td>0.027582</td>\n",
       "      <td>5</td>\n",
       "      <td>5</td>\n",
       "      <td>5</td>\n",
       "      <td>5</td>\n",
       "    </tr>\n",
       "    <tr>\n",
       "      <th>6033</th>\n",
       "      <td>6033</td>\n",
       "      <td>0.0</td>\n",
       "      <td>6</td>\n",
       "      <td>6</td>\n",
       "      <td>0.047734</td>\n",
       "      <td>6</td>\n",
       "      <td>0.00</td>\n",
       "      <td>6</td>\n",
       "      <td>0.110959</td>\n",
       "      <td>6</td>\n",
       "      <td>6</td>\n",
       "      <td>6</td>\n",
       "      <td>6</td>\n",
       "    </tr>\n",
       "    <tr>\n",
       "      <th>6031</th>\n",
       "      <td>6031</td>\n",
       "      <td>0.0</td>\n",
       "      <td>8</td>\n",
       "      <td>8</td>\n",
       "      <td>0.041355</td>\n",
       "      <td>8</td>\n",
       "      <td>0.00</td>\n",
       "      <td>8</td>\n",
       "      <td>0.002401</td>\n",
       "      <td>8</td>\n",
       "      <td>8</td>\n",
       "      <td>8</td>\n",
       "      <td>8</td>\n",
       "    </tr>\n",
       "    <tr>\n",
       "      <th>6029</th>\n",
       "      <td>6029</td>\n",
       "      <td>0.0</td>\n",
       "      <td>9</td>\n",
       "      <td>9</td>\n",
       "      <td>0.003055</td>\n",
       "      <td>9</td>\n",
       "      <td>0.00</td>\n",
       "      <td>9</td>\n",
       "      <td>0.022458</td>\n",
       "      <td>9</td>\n",
       "      <td>9</td>\n",
       "      <td>9</td>\n",
       "      <td>9</td>\n",
       "    </tr>\n",
       "    <tr>\n",
       "      <th>6028</th>\n",
       "      <td>6028</td>\n",
       "      <td>0.0</td>\n",
       "      <td>5</td>\n",
       "      <td>5</td>\n",
       "      <td>0.000678</td>\n",
       "      <td>5</td>\n",
       "      <td>0.00</td>\n",
       "      <td>5</td>\n",
       "      <td>0.000383</td>\n",
       "      <td>5</td>\n",
       "      <td>5</td>\n",
       "      <td>5</td>\n",
       "      <td>5</td>\n",
       "    </tr>\n",
       "    <tr>\n",
       "      <th>6027</th>\n",
       "      <td>6027</td>\n",
       "      <td>0.0</td>\n",
       "      <td>2</td>\n",
       "      <td>2</td>\n",
       "      <td>0.082529</td>\n",
       "      <td>2</td>\n",
       "      <td>0.24</td>\n",
       "      <td>2</td>\n",
       "      <td>0.172378</td>\n",
       "      <td>2</td>\n",
       "      <td>2</td>\n",
       "      <td>2</td>\n",
       "      <td>2</td>\n",
       "    </tr>\n",
       "    <tr>\n",
       "      <th>6024</th>\n",
       "      <td>6024</td>\n",
       "      <td>0.0</td>\n",
       "      <td>0</td>\n",
       "      <td>0</td>\n",
       "      <td>0.090954</td>\n",
       "      <td>0</td>\n",
       "      <td>0.00</td>\n",
       "      <td>0</td>\n",
       "      <td>0.083729</td>\n",
       "      <td>0</td>\n",
       "      <td>0</td>\n",
       "      <td>0</td>\n",
       "      <td>6</td>\n",
       "    </tr>\n",
       "    <tr>\n",
       "      <th>6022</th>\n",
       "      <td>6022</td>\n",
       "      <td>0.0</td>\n",
       "      <td>2</td>\n",
       "      <td>2</td>\n",
       "      <td>0.029188</td>\n",
       "      <td>2</td>\n",
       "      <td>0.00</td>\n",
       "      <td>2</td>\n",
       "      <td>0.059460</td>\n",
       "      <td>2</td>\n",
       "      <td>2</td>\n",
       "      <td>2</td>\n",
       "      <td>2</td>\n",
       "    </tr>\n",
       "    <tr>\n",
       "      <th>6046</th>\n",
       "      <td>6046</td>\n",
       "      <td>0.0</td>\n",
       "      <td>3</td>\n",
       "      <td>3</td>\n",
       "      <td>0.192044</td>\n",
       "      <td>3</td>\n",
       "      <td>0.00</td>\n",
       "      <td>3</td>\n",
       "      <td>0.009434</td>\n",
       "      <td>3</td>\n",
       "      <td>3</td>\n",
       "      <td>3</td>\n",
       "      <td>1</td>\n",
       "    </tr>\n",
       "    <tr>\n",
       "      <th>6019</th>\n",
       "      <td>6019</td>\n",
       "      <td>0.0</td>\n",
       "      <td>7</td>\n",
       "      <td>7</td>\n",
       "      <td>0.001396</td>\n",
       "      <td>7</td>\n",
       "      <td>0.00</td>\n",
       "      <td>7</td>\n",
       "      <td>0.023990</td>\n",
       "      <td>7</td>\n",
       "      <td>7</td>\n",
       "      <td>7</td>\n",
       "      <td>7</td>\n",
       "    </tr>\n",
       "    <tr>\n",
       "      <th>6017</th>\n",
       "      <td>6017</td>\n",
       "      <td>0.0</td>\n",
       "      <td>9</td>\n",
       "      <td>9</td>\n",
       "      <td>0.001024</td>\n",
       "      <td>9</td>\n",
       "      <td>0.00</td>\n",
       "      <td>9</td>\n",
       "      <td>0.058226</td>\n",
       "      <td>9</td>\n",
       "      <td>9</td>\n",
       "      <td>9</td>\n",
       "      <td>9</td>\n",
       "    </tr>\n",
       "    <tr>\n",
       "      <th>6016</th>\n",
       "      <td>6016</td>\n",
       "      <td>0.0</td>\n",
       "      <td>4</td>\n",
       "      <td>4</td>\n",
       "      <td>0.092466</td>\n",
       "      <td>4</td>\n",
       "      <td>0.00</td>\n",
       "      <td>4</td>\n",
       "      <td>0.220155</td>\n",
       "      <td>4</td>\n",
       "      <td>0</td>\n",
       "      <td>4</td>\n",
       "      <td>4</td>\n",
       "    </tr>\n",
       "    <tr>\n",
       "      <th>6014</th>\n",
       "      <td>6014</td>\n",
       "      <td>0.0</td>\n",
       "      <td>0</td>\n",
       "      <td>0</td>\n",
       "      <td>0.011157</td>\n",
       "      <td>0</td>\n",
       "      <td>0.00</td>\n",
       "      <td>0</td>\n",
       "      <td>0.115857</td>\n",
       "      <td>0</td>\n",
       "      <td>0</td>\n",
       "      <td>0</td>\n",
       "      <td>0</td>\n",
       "    </tr>\n",
       "    <tr>\n",
       "      <th>6013</th>\n",
       "      <td>6013</td>\n",
       "      <td>0.0</td>\n",
       "      <td>2</td>\n",
       "      <td>2</td>\n",
       "      <td>0.009616</td>\n",
       "      <td>2</td>\n",
       "      <td>0.00</td>\n",
       "      <td>2</td>\n",
       "      <td>0.067309</td>\n",
       "      <td>2</td>\n",
       "      <td>2</td>\n",
       "      <td>2</td>\n",
       "      <td>2</td>\n",
       "    </tr>\n",
       "  </tbody>\n",
       "</table>\n",
       "</div>"
      ],
      "text/plain": [
       "      Unnamed: 0  sort_order  b_vi  a_vi  a_vi_std  b_mc  b_mc_std  a_mc  \\\n",
       "0              0         0.0     9     9  0.018360     9      0.14     9   \n",
       "6043        6043         0.0     7     7  0.000945     7      0.00     7   \n",
       "6041        6041         0.0     3     3  0.024998     3      0.00     3   \n",
       "6040        6040         0.0     9     9  0.047453     9      0.00     9   \n",
       "6039        6039         0.0     8     8  0.098020     8      0.26     8   \n",
       "6036        6036         0.0     9     9  0.006892     9      0.14     9   \n",
       "6035        6035         0.0     5     5  0.090772     5      0.00     5   \n",
       "6033        6033         0.0     6     6  0.047734     6      0.00     6   \n",
       "6031        6031         0.0     8     8  0.041355     8      0.00     8   \n",
       "6029        6029         0.0     9     9  0.003055     9      0.00     9   \n",
       "6028        6028         0.0     5     5  0.000678     5      0.00     5   \n",
       "6027        6027         0.0     2     2  0.082529     2      0.24     2   \n",
       "6024        6024         0.0     0     0  0.090954     0      0.00     0   \n",
       "6022        6022         0.0     2     2  0.029188     2      0.00     2   \n",
       "6046        6046         0.0     3     3  0.192044     3      0.00     3   \n",
       "6019        6019         0.0     7     7  0.001396     7      0.00     7   \n",
       "6017        6017         0.0     9     9  0.001024     9      0.00     9   \n",
       "6016        6016         0.0     4     4  0.092466     4      0.00     4   \n",
       "6014        6014         0.0     0     0  0.011157     0      0.00     0   \n",
       "6013        6013         0.0     2     2  0.009616     2      0.00     2   \n",
       "\n",
       "      a_mc_std  cnn  mc  vi  soll  \n",
       "0     0.143279    9   9   9     9  \n",
       "6043  0.001296    7   7   7     7  \n",
       "6041  0.021275    3   3   3     3  \n",
       "6040  0.096386    9   9   9     9  \n",
       "6039  0.178941    8   8   8     8  \n",
       "6036  0.144648    9   9   9     9  \n",
       "6035  0.027582    5   5   5     5  \n",
       "6033  0.110959    6   6   6     6  \n",
       "6031  0.002401    8   8   8     8  \n",
       "6029  0.022458    9   9   9     9  \n",
       "6028  0.000383    5   5   5     5  \n",
       "6027  0.172378    2   2   2     2  \n",
       "6024  0.083729    0   0   0     6  \n",
       "6022  0.059460    2   2   2     2  \n",
       "6046  0.009434    3   3   3     1  \n",
       "6019  0.023990    7   7   7     7  \n",
       "6017  0.058226    9   9   9     9  \n",
       "6016  0.220155    4   0   4     4  \n",
       "6014  0.115857    0   0   0     0  \n",
       "6013  0.067309    2   2   2     2  "
      ]
     },
     "execution_count": 40,
     "metadata": {},
     "output_type": "execute_result"
    }
   ],
   "source": [
    "testing.head(20)"
   ]
  },
  {
   "cell_type": "code",
   "execution_count": 10,
   "metadata": {},
   "outputs": [],
   "source": [
    "x = []\n",
    "b_vi = []\n",
    "a_vi = []\n",
    "b_mc = []\n",
    "a_mc = []\n",
    "cnn = []\n",
    "mc = []\n",
    "vi = []\n",
    "for i in range(500,10400,500):\n",
    "    data = results.sort_values(by=['sort_order'], ascending = True)\n",
    "    data = data[0:i]\n",
    "    x.append(i)\n",
    "    b_vi.append((data['soll']==data['b_vi']).sum()/i)\n",
    "    cnn.append((data['soll']==data['cnn']).sum()/i)\n",
    "    mc.append((data['soll']==data['mc']).sum()/i)\n",
    "    vi.append((data['soll']==data['vi']).sum()/i)\n",
    "    data = results.sort_values(by=['a_vi_std'], ascending = True)\n",
    "    data = data[0:i]\n",
    "    a_vi.append((data['soll']==data['a_vi']).sum()/i)\n",
    "    data = results.sort_values(by=['b_mc_std'], ascending = True)\n",
    "    data = data[0:i]\n",
    "    b_mc.append((data['soll']==data['b_mc']).sum()/i)\n",
    "    data = results.sort_values(by=['a_mc_std'], ascending = True)\n",
    "    data = data[0:i]\n",
    "    a_mc.append((data['soll']==data['a_mc']).sum()/i)\n",
    "    data = results    "
   ]
  },
  {
   "cell_type": "code",
   "execution_count": 15,
   "metadata": {
    "scrolled": true
   },
   "outputs": [
    {
     "data": {
      "text/plain": [
       "Text(0.5, 1.0, 'Scenario B')"
      ]
     },
     "execution_count": 15,
     "metadata": {},
     "output_type": "execute_result"
    },
    {
     "data": {
      "image/png": "[encoded data removed]",
      "text/plain": [
       "<Figure size 432x288 with 1 Axes>"
      ]
     },
     "metadata": {
      "needs_background": "light"
     },
     "output_type": "display_data"
    }
   ],
   "source": [
    "import matplotlib.pyplot as plt\n",
    "\n",
    "plt.plot(x, b_vi, label='BNN VI Bernoulli', color='red', linestyle='--')\n",
    "plt.plot(x, a_vi, label='BNN VI Average', color='red')\n",
    "plt.plot(x, b_mc, label='BNN MC Bernoulli', color='green', linestyle='-')\n",
    "plt.plot(x, a_mc, label='BNN MC Average', color='blue', linestyle='--')\n",
    "plt.plot(x, cnn, label='CNN', color='black')\n",
    "#plt.plot(x, mc, label='BNN MC', color='orange', linestyle='-')\n",
    "#plt.plot(x, vi, label='BNN VI', color='blue', linestyle='-')\n",
    "\n",
    "plt.xlabel('nr of examples taken')\n",
    "plt.ylabel('accuracy')\n",
    "#plt.xticks(x)\n",
    "#plt.yticks(list_of_dev) \n",
    "\n",
    "plt.legend(loc='lower left')\n",
    "plt.title(\"Scenario B\")"
   ]
  },
  {
   "cell_type": "markdown",
   "metadata": {},
   "source": [
    "## Check a picture with high uncertainty and low uncertainty"
   ]
  },
  {
   "cell_type": "code",
   "execution_count": 11,
   "metadata": {},
   "outputs": [
    {
     "data": {
      "text/plain": [
       "Text(0.5, 1.0, 'Hyp B picture with low uncertainty')"
      ]
     },
     "execution_count": 11,
     "metadata": {},
     "output_type": "execute_result"
    },
    {
     "data": {
      "image/png": "[encoded data removed]",
      "text/plain": [
       "<Figure size 432x288 with 1 Axes>"
      ]
     },
     "metadata": {
      "needs_background": "light"
     },
     "output_type": "display_data"
    }
   ],
   "source": [
    "# low uncertainty based on BNN VI average \n",
    "testing = results.sort_values(by=['a_vi_std'], ascending = True)\n",
    "n = testing.index[3]\n",
    "plt.imshow(np.squeeze(test_x[n:n+1][0], axis = 2), cmap=plt.cm.binary)\n",
    "plt.xlabel(class_names[test_y[n]])\n",
    "plt.title('Hyp B picture with low uncertainty')"
   ]
  },
  {
   "cell_type": "code",
   "execution_count": 12,
   "metadata": {
    "scrolled": true
   },
   "outputs": [
    {
     "data": {
      "text/plain": [
       "Text(0.5, 1.0, 'Hyp B picture with high uncertainty')"
      ]
     },
     "execution_count": 12,
     "metadata": {},
     "output_type": "execute_result"
    },
    {
     "data": {
      "image/png": "[encoded data removed]",
      "text/plain": [
       "<Figure size 432x288 with 1 Axes>"
      ]
     },
     "metadata": {
      "needs_background": "light"
     },
     "output_type": "display_data"
    }
   ],
   "source": [
    "# high uncertainty\n",
    "n = testing.index[9999]\n",
    "plt.imshow(np.squeeze(test_x[n:n+1][0], axis = 2), cmap=plt.cm.binary)\n",
    "plt.xlabel(class_names[test_y[n]])\n",
    "plt.title('Hyp B picture with high uncertainty')"
   ]
  },
  {
   "cell_type": "code",
   "execution_count": 29,
   "metadata": {},
   "outputs": [
    {
     "data": {
      "text/plain": [
       "1    0.2980\n",
       "6    0.1885\n",
       "4    0.1235\n",
       "0    0.0975\n",
       "2    0.0940\n",
       "3    0.0800\n",
       "7    0.0345\n",
       "9    0.0295\n",
       "5    0.0275\n",
       "8    0.0270\n",
       "Name: soll, dtype: float64"
      ]
     },
     "execution_count": 29,
     "metadata": {},
     "output_type": "execute_result"
    }
   ],
   "source": [
    "#check whether the more unceratin ones are from a specific classtesting\n",
    "testing['soll'][7999:9999].value_counts()/2000"
   ]
  },
  {
   "cell_type": "markdown",
   "metadata": {},
   "source": [
    "# Check what classes with the highest std, are they of the unseen class?"
   ]
  },
  {
   "cell_type": "code",
   "execution_count": 11,
   "metadata": {},
   "outputs": [],
   "source": [
    "x = []\n",
    "b_vi = []\n",
    "a_vi = []\n",
    "b_mc = []\n",
    "a_mc = []\n",
    "cnn = []\n",
    "mc = []\n",
    "vi = []\n",
    "not_seen_class = 9\n",
    "for i in range(100,10040,100):\n",
    "    data = results.sort_values(by=['sort_order'], ascending = False)\n",
    "    data = data[0:i]\n",
    "    x.append(i)\n",
    "    b_vi.append((data['soll']==not_seen_class).sum()/i)\n",
    "    cnn.append((data['soll']==not_seen_class).sum()/i)\n",
    "    mc.append((data['soll']==not_seen_class).sum()/i)\n",
    "    vi.append((data['soll']==not_seen_class).sum()/i)\n",
    "    data = results.sort_values(by=['a_vi_std'], ascending = False)\n",
    "    data = data[0:i]\n",
    "    a_vi.append((data['soll']==not_seen_class).sum()/i)\n",
    "    data = results.sort_values(by=['b_mc_std'], ascending = False)\n",
    "    data = data[0:i]\n",
    "    b_mc.append((data['soll']==not_seen_class).sum()/i)\n",
    "    data = results.sort_values(by=['a_mc_std'], ascending = False)\n",
    "    data = data[0:i]\n",
    "    a_mc.append((data['soll']==not_seen_class).sum()/i)\n",
    "    data = results "
   ]
  },
  {
   "cell_type": "code",
   "execution_count": 12,
   "metadata": {},
   "outputs": [
    {
     "name": "stdout",
     "output_type": "stream",
     "text": [
      "[0, 0, 0, 0, 0, 0, 0, 0, 0, 0, 0, 0, 0, 0, 0, 0, 0, 0, 0, 0, 0, 0, 0, 0, 0, 0, 0, 0, 0, 0, 0, 0, 0, 0, 0, 0, 0, 0, 0, 0, 0, 0, 0, 0, 0, 0, 0, 0, 0, 0, 0, 0, 0, 0, 0, 0, 0, 0, 0, 0, 0, 0, 0, 0, 0, 0, 0, 0, 0, 0, 0, 0, 0, 0, 0, 0, 0, 0, 0, 0, 0, 0, 0, 0, 0, 0, 0, 0, 0, 0, 0.0, 0.01, 0.02, 0.03, 0.04, 0.05, 0.06, 0.07, 0.08, 0.09]\n"
     ]
    }
   ],
   "source": [
    "n = len(x)\n",
    "random_classifier = np.full((n), 0.1)\n",
    "optimal_classifier = np.full((round(n*0.9)), 0)\n",
    "optimal_more = []\n",
    "bound = 90\n",
    "for i in range(round(n)):\n",
    "    if i < bound:\n",
    "        j = 0\n",
    "    else:\n",
    "        j = (i-bound)/n\n",
    "    optimal_more.append(j)\n",
    "print(optimal_more)"
   ]
  },
  {
   "cell_type": "code",
   "execution_count": 13,
   "metadata": {},
   "outputs": [
    {
     "data": {
      "text/plain": [
       "Text(0.5, 1.0, 'Scenario B ratio rarely class')"
      ]
     },
     "execution_count": 13,
     "metadata": {},
     "output_type": "execute_result"
    },
    {
     "data": {
      "image/png": "[encoded data removed]",
      "text/plain": [
       "<Figure size 432x288 with 1 Axes>"
      ]
     },
     "metadata": {
      "needs_background": "light"
     },
     "output_type": "display_data"
    }
   ],
   "source": [
    "import matplotlib.pyplot as plt\n",
    "\n",
    "plt.plot(x, b_vi, label='BNN VI Bernoulli', color='red', linestyle='--')\n",
    "plt.plot(x, a_vi, label='BNN VI Average', color='red')\n",
    "plt.plot(x, b_mc, label='BNN MC Bernoulli', color='green', linestyle='-')\n",
    "plt.plot(x, a_mc, label='BNN MC Average', color='blue', linestyle='--')\n",
    "plt.plot(x, random_classifier, color = 'black', linestyle='--')\n",
    "plt.plot(x, optimal_more, color = 'black', linestyle='-')\n",
    "#plt.plot(x, cnn, label='CNN', color='black')\n",
    "#plt.plot(x, mc, label='BNN MC', color='orange', linestyle='-')\n",
    "#plt.plot(x, vi, label='BNN VI', color='blue', linestyle='-')\n",
    "\n",
    "plt.xlabel('nr of examples taken')\n",
    "plt.ylabel('ratio')\n",
    "#plt.xticks(x)\n",
    "#plt.yticks(list_of_dev) \n",
    "\n",
    "plt.legend(loc='lower right')\n",
    "plt.title(\"Scenario B ratio rarely class\")"
   ]
  },
  {
   "cell_type": "code",
   "execution_count": null,
   "metadata": {},
   "outputs": [],
   "source": []
  }
 ],
 "metadata": {
  "kernelspec": {
   "display_name": "Python [conda env:ml_env]",
   "language": "python",
   "name": "conda-env-ml_env-py"
  },
  "language_info": {
   "codemirror_mode": {
    "name": "ipython",
    "version": 3
   },
   "file_extension": ".py",
   "mimetype": "text/x-python",
   "name": "python",
   "nbconvert_exporter": "python",
   "pygments_lexer": "ipython3",
   "version": "3.7.3"
  }
 },
 "nbformat": 4,
 "nbformat_minor": 2
}
