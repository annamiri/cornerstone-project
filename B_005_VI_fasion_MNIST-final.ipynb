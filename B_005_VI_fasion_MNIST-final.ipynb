{
 "cells": [
  {
   "cell_type": "code",
   "execution_count": 1,
   "metadata": {},
   "outputs": [
    {
     "name": "stdout",
     "output_type": "stream",
     "text": [
      "tensorflow:  2.0.0\n",
      "tensorflow_prob:  0.8.0\n"
     ]
    }
   ],
   "source": [
    "# import the needed packages and check version\n",
    "import tensorflow as tf\n",
    "from tensorflow import keras\n",
    "import tensorflow_probability as tfp\n",
    "\n",
    "# Helper libraries\n",
    "import numpy as np\n",
    "import pandas as pd\n",
    "import matplotlib.pyplot as plt\n",
    "\n",
    "print(\"tensorflow: \", tf.__version__) #2.0.0\n",
    "print(\"tensorflow_prob: \", tfp.__version__) #"
   ]
  },
  {
   "cell_type": "code",
   "execution_count": 2,
   "metadata": {},
   "outputs": [],
   "source": [
    "from tensorflow.python.framework.ops import disable_eager_execution\n",
    "disable_eager_execution()"
   ]
  },
  {
   "cell_type": "code",
   "execution_count": 3,
   "metadata": {},
   "outputs": [],
   "source": [
    "#import the fashion mnist dataset (from Zalando)\n",
    "fashion_mnist = keras.datasets.fashion_mnist\n",
    "data = fashion_mnist.load_data()\n",
    "(train_images, train_labels), (test_images, test_labels) = data\n",
    "#(train_images, train_labels), (test_images, test_labels) = fashion_mnist.load_data()"
   ]
  },
  {
   "cell_type": "code",
   "execution_count": 4,
   "metadata": {},
   "outputs": [],
   "source": [
    "class_names = ['T-shirt/top', 'Trouser', 'Pullover', 'Dress', 'Coat',\n",
    "               'Sandal', 'Shirt', 'Sneaker', 'Bag', 'Ankle boot']"
   ]
  },
  {
   "cell_type": "code",
   "execution_count": 5,
   "metadata": {},
   "outputs": [],
   "source": [
    "#preprocess the images\n",
    "train_x = np.expand_dims(train_images/255.0, axis=3)\n",
    "test_x = np.expand_dims(test_images/255.0, axis=3)"
   ]
  },
  {
   "cell_type": "code",
   "execution_count": 6,
   "metadata": {},
   "outputs": [],
   "source": [
    "train_y = train_labels\n",
    "test_y = test_labels"
   ]
  },
  {
   "cell_type": "code",
   "execution_count": 7,
   "metadata": {},
   "outputs": [
    {
     "name": "stdout",
     "output_type": "stream",
     "text": [
      "(10000,)\n"
     ]
    }
   ],
   "source": [
    "print(test_y.shape)\n",
    "test_y_ohe = np.array(pd.get_dummies(np.array(test_y)))"
   ]
  },
  {
   "cell_type": "markdown",
   "metadata": {},
   "source": [
    "# Miminimze one class"
   ]
  },
  {
   "cell_type": "code",
   "execution_count": 8,
   "metadata": {},
   "outputs": [],
   "source": [
    "# define function to select only specific category\n",
    "def select_max_category(data, label, category, max_nr_for_category):\n",
    "    new_data = []\n",
    "    new_label = []\n",
    "    for i in range(len(label)):\n",
    "        if label[i] == category:\n",
    "            if len(new_label) <= max_nr_for_category-1:\n",
    "                new_label.append(label[i])\n",
    "                new_data.append(data[i])\n",
    "    #new_data = np.array(new_data)\n",
    "    #new_label = np.array(new_label)\n",
    "    return new_data, new_label"
   ]
  },
  {
   "cell_type": "code",
   "execution_count": 9,
   "metadata": {},
   "outputs": [
    {
     "name": "stdout",
     "output_type": "stream",
     "text": [
      "(6000, 28, 28, 1) (6000,)\n"
     ]
    }
   ],
   "source": [
    "#create an array with only the \"small class\"\n",
    "all_one_x = train_x[np.where(train_y==1)[0]]\n",
    "all_one_y = train_y[np.where(train_y==1)[0]]\n",
    "print(all_one_x.shape, all_one_y.shape)"
   ]
  },
  {
   "cell_type": "code",
   "execution_count": 10,
   "metadata": {},
   "outputs": [],
   "source": [
    "#create a set with only zeros in it for experimenting\n",
    "all_zero_x = test_x[np.where(test_y==0)[0]]\n",
    "all_zero_y = test_y[np.where(test_y==0)[0]]"
   ]
  },
  {
   "cell_type": "code",
   "execution_count": 11,
   "metadata": {},
   "outputs": [],
   "source": [
    "# select some pictures of class 1 and define how many\n",
    "# in the original dataset 7000 images per class are available\n",
    "rate = 0.005\n",
    "one_x, one_y = select_max_category(train_x, train_y, 1, 6000*rate)"
   ]
  },
  {
   "cell_type": "code",
   "execution_count": 12,
   "metadata": {},
   "outputs": [
    {
     "data": {
      "text/plain": [
       "(30, 28, 28, 1)"
      ]
     },
     "execution_count": 12,
     "metadata": {},
     "output_type": "execute_result"
    }
   ],
   "source": [
    "one_x = np.array(one_x)\n",
    "one_x.shape"
   ]
  },
  {
   "cell_type": "code",
   "execution_count": 13,
   "metadata": {},
   "outputs": [
    {
     "data": {
      "text/plain": [
       "(30,)"
      ]
     },
     "execution_count": 13,
     "metadata": {},
     "output_type": "execute_result"
    }
   ],
   "source": [
    "one_y = np.array(one_y)\n",
    "one_y.shape"
   ]
  },
  {
   "cell_type": "code",
   "execution_count": 14,
   "metadata": {},
   "outputs": [
    {
     "name": "stdout",
     "output_type": "stream",
     "text": [
      "(54000, 28, 28, 1)\n"
     ]
    }
   ],
   "source": [
    "#delete class 1 from the training set\n",
    "train_x = np.delete(train_x, np.where(train_y==1)[0], axis = 0)\n",
    "print(train_x.shape)"
   ]
  },
  {
   "cell_type": "code",
   "execution_count": 15,
   "metadata": {},
   "outputs": [
    {
     "name": "stdout",
     "output_type": "stream",
     "text": [
      "(54000,)\n"
     ]
    }
   ],
   "source": [
    "train_y = np.delete(train_y, np.where(train_y==1)[0], axis = 0)\n",
    "print(train_y.shape)"
   ]
  },
  {
   "cell_type": "code",
   "execution_count": 16,
   "metadata": {},
   "outputs": [],
   "source": [
    "train_x = np.append(train_x, one_x, axis=0)\n",
    "train_y = np.append(train_y, one_y, axis=0)\n",
    "#train_y = np.array(pd.get_dummies(train_y)) #onehotencoding"
   ]
  },
  {
   "cell_type": "code",
   "execution_count": 17,
   "metadata": {},
   "outputs": [
    {
     "name": "stdout",
     "output_type": "stream",
     "text": [
      "(54030, 28, 28, 1) (54030,)\n"
     ]
    }
   ],
   "source": [
    "print(train_x.shape, train_y.shape)"
   ]
  },
  {
   "cell_type": "code",
   "execution_count": 18,
   "metadata": {},
   "outputs": [],
   "source": [
    "#shuffle the data\n",
    "n = train_x.shape[0]\n",
    "## numpy has a shuffle method\n",
    "permutation = np.arange(n) #n = number of pictures/length of data\n",
    "np.random.shuffle(permutation)\n",
    "    \n",
    "train_x = [train_x[i] for i in permutation]\n",
    "train_y = [train_y[i] for i in permutation]\n",
    "#labels_ohe_shuffled = [labels_ohe[i] for i in permutation]\n",
    "\n",
    "train_x = np.array(train_x)\n",
    "train_y = np.array(train_y)\n",
    "\n",
    "train_y = np.array(pd.get_dummies(train_y)) #onehotencoding"
   ]
  },
  {
   "cell_type": "code",
   "execution_count": 19,
   "metadata": {},
   "outputs": [
    {
     "name": "stdout",
     "output_type": "stream",
     "text": [
      "(54030, 28, 28, 1)\n",
      "(54030, 10)\n"
     ]
    }
   ],
   "source": [
    "print(train_x.shape)\n",
    "print(train_y.shape)"
   ]
  },
  {
   "cell_type": "markdown",
   "metadata": {},
   "source": [
    "# Construct a baseline CNN"
   ]
  },
  {
   "cell_type": "code",
   "execution_count": 22,
   "metadata": {},
   "outputs": [],
   "source": [
    "model = keras.Sequential([\n",
    "    keras.layers.Convolution2D(8, kernel_size=(3,3), padding=\"same\", activation='relu', input_shape=(28,28,1)),\n",
    "    keras.layers.Convolution2D(8, kernel_size=(3,3), padding=\"same\", activation='relu'),\n",
    "    keras.layers.MaxPooling2D(2,2),\n",
    "    keras.layers.Convolution2D(16, kernel_size=(3,3), padding=\"same\", activation='relu'),\n",
    "    keras.layers.Flatten(),\n",
    "    keras.layers.Dropout((0.5)),\n",
    "    keras.layers.Dense(10, activation='softmax')\n",
    "])"
   ]
  },
  {
   "cell_type": "code",
   "execution_count": 23,
   "metadata": {},
   "outputs": [
    {
     "name": "stdout",
     "output_type": "stream",
     "text": [
      "Model: \"sequential_1\"\n",
      "_________________________________________________________________\n",
      "Layer (type)                 Output Shape              Param #   \n",
      "=================================================================\n",
      "conv2d_3 (Conv2D)            (None, 28, 28, 8)         80        \n",
      "_________________________________________________________________\n",
      "conv2d_4 (Conv2D)            (None, 28, 28, 8)         584       \n",
      "_________________________________________________________________\n",
      "max_pooling2d_1 (MaxPooling2 (None, 14, 14, 8)         0         \n",
      "_________________________________________________________________\n",
      "conv2d_5 (Conv2D)            (None, 14, 14, 16)        1168      \n",
      "_________________________________________________________________\n",
      "flatten_1 (Flatten)          (None, 3136)              0         \n",
      "_________________________________________________________________\n",
      "dropout_1 (Dropout)          (None, 3136)              0         \n",
      "_________________________________________________________________\n",
      "dense_1 (Dense)              (None, 10)                31370     \n",
      "=================================================================\n",
      "Total params: 33,202\n",
      "Trainable params: 33,202\n",
      "Non-trainable params: 0\n",
      "_________________________________________________________________\n"
     ]
    }
   ],
   "source": [
    "model.compile(loss='categorical_crossentropy', optimizer='adam', metrics=['accuracy'])\n",
    "model.summary()"
   ]
  },
  {
   "cell_type": "code",
   "execution_count": 24,
   "metadata": {},
   "outputs": [
    {
     "name": "stdout",
     "output_type": "stream",
     "text": [
      "Epoch 1/10\n",
      "54030/54030 [==============================] - 40s 746us/sample - loss: 0.5128 - acc: 0.8144\n",
      "Epoch 2/10\n",
      "54030/54030 [==============================] - 46s 856us/sample - loss: 0.3613 - acc: 0.8694\n",
      "Epoch 3/10\n",
      "54030/54030 [==============================] - 49s 904us/sample - loss: 0.3202 - acc: 0.8842\n",
      "Epoch 4/10\n",
      "54030/54030 [==============================] - 46s 852us/sample - loss: 0.2953 - acc: 0.8929\n",
      "Epoch 5/10\n",
      "54030/54030 [==============================] - 49s 906us/sample - loss: 0.2799 - acc: 0.8986\n",
      "Epoch 6/10\n",
      "54030/54030 [==============================] - 52s 968us/sample - loss: 0.2710 - acc: 0.9022\n",
      "Epoch 7/10\n",
      "54030/54030 [==============================] - 47s 872us/sample - loss: 0.2632 - acc: 0.9034\n",
      "Epoch 8/10\n",
      "54030/54030 [==============================] - 42s 786us/sample - loss: 0.2553 - acc: 0.9075\n",
      "Epoch 9/10\n",
      "54030/54030 [==============================] - 46s 852us/sample - loss: 0.2485 - acc: 0.9082\n",
      "Epoch 10/10\n",
      "54030/54030 [==============================] - 50s 926us/sample - loss: 0.2458 - acc: 0.9089\n"
     ]
    }
   ],
   "source": [
    "history = model.fit(train_x, train_y, epochs = 10)"
   ]
  },
  {
   "cell_type": "code",
   "execution_count": 26,
   "metadata": {},
   "outputs": [],
   "source": [
    "model.save('B_003_model_b.h5') #save the model for the scrumbled data"
   ]
  },
  {
   "cell_type": "code",
   "execution_count": 20,
   "metadata": {},
   "outputs": [
    {
     "name": "stderr",
     "output_type": "stream",
     "text": [
      "WARNING: Logging before flag parsing goes to stderr.\n",
      "W1206 13:13:17.935049  5612 deprecation.py:506] From C:\\Users\\annar\\Anaconda3\\envs\\ml_env\\lib\\site-packages\\tensorflow_core\\python\\ops\\resource_variable_ops.py:1630: calling BaseResourceVariable.__init__ (from tensorflow.python.ops.resource_variable_ops) with constraint is deprecated and will be removed in a future version.\n",
      "Instructions for updating:\n",
      "If using Keras pass *_constraint arguments to layers.\n"
     ]
    }
   ],
   "source": [
    "model = tf.keras.models.load_model('B_003_model_b.h5')"
   ]
  },
  {
   "cell_type": "code",
   "execution_count": 28,
   "metadata": {},
   "outputs": [
    {
     "data": {
      "image/png": "[encoded data removed]",
      "text/plain": [
       "<Figure size 864x360 with 2 Axes>"
      ]
     },
     "metadata": {
      "needs_background": "light"
     },
     "output_type": "display_data"
    }
   ],
   "source": [
    "plt.figure(figsize=(12,5))\n",
    "plt.subplot(1,2,1)\n",
    "plt.plot(history.history['acc'])\n",
    "#plt.plot(history_b.history['val_accuracy'])\n",
    "plt.ylim(0,1)\n",
    "plt.title('model accuracy')\n",
    "plt.ylabel('accuracy')\n",
    "plt.xlabel('epoch')\n",
    "plt.legend(['train', 'valid'], loc='lower right')\n",
    "plt.subplot(1,2,2)\n",
    "plt.plot(history.history['loss'])\n",
    "#plt.plot(history_b.history['va_loss'])\n",
    "plt.title('model loss')\n",
    "plt.ylabel('loss')\n",
    "plt.xlabel('epoch')\n",
    "plt.legend(['train', 'valid'], loc='upper right')\n",
    "plt.show()"
   ]
  },
  {
   "cell_type": "code",
   "execution_count": 35,
   "metadata": {},
   "outputs": [
    {
     "name": "stdout",
     "output_type": "stream",
     "text": [
      "10000/10000 [==============================] - 3s 262us/sample - loss: 0.3419 - acc: 0.8975\n"
     ]
    },
    {
     "data": {
      "text/plain": [
       "[0.3418784276366234, 0.8975]"
      ]
     },
     "execution_count": 35,
     "metadata": {},
     "output_type": "execute_result"
    }
   ],
   "source": [
    "model.evaluate(test_x, test_y_ohe)"
   ]
  },
  {
   "cell_type": "markdown",
   "metadata": {},
   "source": [
    "# Check the baseline model for a rarely seen picture"
   ]
  },
  {
   "cell_type": "code",
   "execution_count": 21,
   "metadata": {},
   "outputs": [],
   "source": [
    "picture = 100\n",
    "picture_end = picture + 1"
   ]
  },
  {
   "cell_type": "code",
   "execution_count": 22,
   "metadata": {},
   "outputs": [
    {
     "data": {
      "image/png": "[encoded data removed]",
      "text/plain": [
       "<Figure size 432x288 with 25 Axes>"
      ]
     },
     "metadata": {
      "needs_background": "light"
     },
     "output_type": "display_data"
    }
   ],
   "source": [
    "all_one_x.shape\n",
    "for i in range(800,825,1):\n",
    "    j = 1+i\n",
    "    k = i-799\n",
    "    prediction = model.predict([all_one_x[i:j], 1])[0]\n",
    "    x = [0,1,2,3,4,5,6,7,8,9]\n",
    "    plt.subplot(5,5,k)\n",
    "    plt.bar(x,prediction, color = ['black']) #color=(0.3,0.3,0.3,1.0)\n",
    "    plt.xticks(x)\n",
    "    plt.ylim(0,1.0)\n",
    "    #plt.xticks(np.arange(10), class_names, rotation = 90)\n",
    "    #plt.title('probabilities predicted')"
   ]
  },
  {
   "cell_type": "code",
   "execution_count": 23,
   "metadata": {},
   "outputs": [
    {
     "data": {
      "text/plain": [
       "Text(0.5, 1.0, 'image')"
      ]
     },
     "execution_count": 23,
     "metadata": {},
     "output_type": "execute_result"
    },
    {
     "data": {
      "image/png": "[encoded data removed]",
      "text/plain": [
       "<Figure size 432x288 with 2 Axes>"
      ]
     },
     "metadata": {
      "needs_background": "light"
     },
     "output_type": "display_data"
    }
   ],
   "source": [
    "prediction = model.predict([all_one_x[picture:picture_end], 1])[0]\n",
    "x = [0,1,2,3,4,5,6,7,8,9]\n",
    "plt.subplot(2,3,1)\n",
    "plt.bar(x,prediction, color = ['black']) #color=(0.3,0.3,0.3,1.0)\n",
    "plt.xticks(np.arange(10), class_names, rotation = 90)\n",
    "plt.title('probabilities predicted')\n",
    "\n",
    "plt.subplot(2,3,2)\n",
    "plt.xticks([])\n",
    "plt.yticks([])\n",
    "plt.imshow(np.squeeze(all_one_x[picture:picture_end][0], axis = 2), cmap=plt.cm.binary)\n",
    "plt.xlabel(class_names[all_one_y[picture]])\n",
    "plt.title('image')"
   ]
  },
  {
   "cell_type": "markdown",
   "metadata": {},
   "source": [
    "# Create a model with Variational Inference"
   ]
  },
  {
   "cell_type": "code",
   "execution_count": 24,
   "metadata": {},
   "outputs": [],
   "source": [
    "kernel_divergence_fn=lambda q, p, _: tfp.distributions.kl_divergence(q, p) / (train_x.shape[0] *1.0)"
   ]
  },
  {
   "cell_type": "code",
   "execution_count": 25,
   "metadata": {},
   "outputs": [
    {
     "name": "stderr",
     "output_type": "stream",
     "text": [
      "W1206 13:13:51.647676  5612 deprecation.py:323] From C:\\Users\\annar\\Anaconda3\\envs\\ml_env\\lib\\site-packages\\tensorflow_probability\\python\\layers\\util.py:104: Layer.add_variable (from tensorflow.python.keras.engine.base_layer) is deprecated and will be removed in a future version.\n",
      "Instructions for updating:\n",
      "Please use `layer.add_weight` method instead.\n"
     ]
    },
    {
     "name": "stdout",
     "output_type": "stream",
     "text": [
      "Model: \"sequential\"\n",
      "_________________________________________________________________\n",
      "Layer (type)                 Output Shape              Param #   \n",
      "=================================================================\n",
      "conv2d_flipout (Conv2DFlipou (None, 28, 28, 8)         152       \n",
      "_________________________________________________________________\n",
      "conv2d_flipout_1 (Conv2DFlip (None, 28, 28, 8)         1160      \n",
      "_________________________________________________________________\n",
      "max_pooling2d (MaxPooling2D) (None, 14, 14, 8)         0         \n",
      "_________________________________________________________________\n",
      "conv2d_flipout_2 (Conv2DFlip (None, 14, 14, 16)        2320      \n",
      "_________________________________________________________________\n",
      "flatten (Flatten)            (None, 3136)              0         \n",
      "_________________________________________________________________\n",
      "dense_flipout (DenseFlipout) (None, 10)                62730     \n",
      "=================================================================\n",
      "Total params: 66,362\n",
      "Trainable params: 66,362\n",
      "Non-trainable params: 0\n",
      "_________________________________________________________________\n"
     ]
    }
   ],
   "source": [
    "model_vi = keras.Sequential([\n",
    "    tfp.layers.Convolution2DFlipout(8, kernel_size=(3,3), padding=\"same\", activation='relu', \n",
    "                                    kernel_divergence_fn=kernel_divergence_fn, input_shape=(28,28,1)),\n",
    "    tfp.layers.Convolution2DFlipout(8, kernel_size=(3,3), padding=\"same\", activation='relu', \n",
    "                                    kernel_divergence_fn = kernel_divergence_fn),\n",
    "    keras.layers.MaxPooling2D(2,2),\n",
    "    tfp.layers.Convolution2DFlipout(16, kernel_size=(3,3), padding=\"same\", activation='relu', \n",
    "                                    kernel_divergence_fn=kernel_divergence_fn),\n",
    "    keras.layers.Flatten(),\n",
    "    #keras.layers.Dropout((0.5)),\n",
    "    tfp.layers.DenseFlipout(10, activation='softmax', kernel_divergence_fn=kernel_divergence_fn)\n",
    "])\n",
    "\n",
    "model_vi.compile(loss='categorical_crossentropy', optimizer=\"adam\", metrics=['accuracy'])\n",
    "model_vi.summary()"
   ]
  },
  {
   "cell_type": "code",
   "execution_count": 28,
   "metadata": {},
   "outputs": [
    {
     "name": "stdout",
     "output_type": "stream",
     "text": [
      "Train on 54030 samples\n",
      "Epoch 1/10\n",
      "54030/54030 [==============================] - 107s 2ms/sample - loss: 2.0132 - accuracy: 0.7746\n",
      "Epoch 2/10\n",
      "54030/54030 [==============================] - 100s 2ms/sample - loss: 1.5533 - accuracy: 0.8499\n",
      "Epoch 3/10\n",
      "54030/54030 [==============================] - 93s 2ms/sample - loss: 1.3293 - accuracy: 0.8685\n",
      "Epoch 4/10\n",
      "54030/54030 [==============================] - 94s 2ms/sample - loss: 1.1944 - accuracy: 0.8800\n",
      "Epoch 5/10\n",
      "54030/54030 [==============================] - 94s 2ms/sample - loss: 1.0941 - accuracy: 0.8874\n",
      "Epoch 6/10\n",
      "54030/54030 [==============================] - 79s 1ms/sample - loss: 1.0111 - accuracy: 0.8936\n",
      "Epoch 7/10\n",
      "54030/54030 [==============================] - 84s 2ms/sample - loss: 0.9442 - accuracy: 0.8977\n",
      "Epoch 8/10\n",
      "54030/54030 [==============================] - 110s 2ms/sample - loss: 0.8910 - accuracy: 0.9009 - loss: 0.8911 - accuracy: 0.90\n",
      "Epoch 9/10\n",
      "54030/54030 [==============================] - 102s 2ms/sample - loss: 0.8427 - accuracy: 0.9026\n",
      "Epoch 10/10\n",
      "54030/54030 [==============================] - 112s 2ms/sample - loss: 0.7994 - accuracy: 0.9056\n"
     ]
    }
   ],
   "source": [
    "history_vi = model_vi.fit(train_x, train_y, epochs = 10)"
   ]
  },
  {
   "cell_type": "code",
   "execution_count": 43,
   "metadata": {},
   "outputs": [
    {
     "data": {
      "image/png": "[encoded data removed]",
      "text/plain": [
       "<Figure size 864x360 with 2 Axes>"
      ]
     },
     "metadata": {
      "needs_background": "light"
     },
     "output_type": "display_data"
    }
   ],
   "source": [
    "plt.figure(figsize=(12,5))\n",
    "plt.subplot(1,2,1)\n",
    "plt.plot(history_vi.history['acc'])\n",
    "#plt.plot(history_b.history['val_accuracy'])\n",
    "plt.ylim(0,1)\n",
    "plt.title('model accuracy')\n",
    "plt.ylabel('accuracy')\n",
    "plt.xlabel('epoch')\n",
    "plt.legend(['train', 'valid'], loc='lower right')\n",
    "plt.subplot(1,2,2)\n",
    "plt.plot(history_vi.history['loss'])\n",
    "#plt.plot(history_b.history['va_loss'])\n",
    "plt.title('model loss')\n",
    "plt.ylabel('loss')\n",
    "plt.xlabel('epoch')\n",
    "plt.legend(['train', 'valid'], loc='upper right')\n",
    "plt.show()"
   ]
  },
  {
   "cell_type": "code",
   "execution_count": 29,
   "metadata": {},
   "outputs": [],
   "source": [
    "model_vi.save('B_005_model_vi.h5')"
   ]
  },
  {
   "cell_type": "code",
   "execution_count": 26,
   "metadata": {},
   "outputs": [],
   "source": [
    "#model_vi = tf.keras.models.load_model('B_004_model_vi.h5')\n",
    "model_vi.load_weights('B_005_model_vi.h5')"
   ]
  },
  {
   "cell_type": "code",
   "execution_count": 27,
   "metadata": {},
   "outputs": [
    {
     "name": "stdout",
     "output_type": "stream",
     "text": [
      "10000/10000 [==============================] - 6s 565us/sample - loss: 0.9593 - accuracy: 0.8665\n"
     ]
    },
    {
     "data": {
      "text/plain": [
       "[0.9592667919158936, 0.8665]"
      ]
     },
     "execution_count": 27,
     "metadata": {},
     "output_type": "execute_result"
    }
   ],
   "source": [
    "model_vi.evaluate(test_x, test_y_ohe)"
   ]
  },
  {
   "cell_type": "markdown",
   "metadata": {},
   "source": [
    "## predictions for a rarely seen image (trousers)"
   ]
  },
  {
   "cell_type": "code",
   "execution_count": 32,
   "metadata": {},
   "outputs": [
    {
     "data": {
      "text/plain": [
       "array([[2.9954883e-01, 2.6293096e-01, 1.8965791e-03, 1.1289555e-01,\n",
       "        3.1727666e-01, 5.4360311e-07, 4.7892905e-03, 1.5620088e-08,\n",
       "        1.4056070e-04, 5.2107900e-04]], dtype=float32)"
      ]
     },
     "execution_count": 32,
     "metadata": {},
     "output_type": "execute_result"
    }
   ],
   "source": [
    "picture = 100\n",
    "picture_end = picture+1\n",
    "model_vi.predict(all_one_x[picture:picture_end])"
   ]
  },
  {
   "cell_type": "code",
   "execution_count": 33,
   "metadata": {},
   "outputs": [
    {
     "name": "stdout",
     "output_type": "stream",
     "text": [
      "(100, 10)\n"
     ]
    },
    {
     "data": {
      "image/png": "[encoded data removed]",
      "text/plain": [
       "<Figure size 432x288 with 20 Axes>"
      ]
     },
     "metadata": {
      "needs_background": "light"
     },
     "output_type": "display_data"
    },
    {
     "data": {
      "image/png": "[encoded data removed]",
      "text/plain": [
       "<Figure size 432x288 with 3 Axes>"
      ]
     },
     "metadata": {
      "needs_background": "light"
     },
     "output_type": "display_data"
    },
    {
     "name": "stdout",
     "output_type": "stream",
     "text": [
      "[1.7840275e-01 3.8051784e-01 5.2391393e-03 5.2385177e-02 3.7458056e-01\n",
      " 4.5672528e-05 8.0932658e-03 9.7228178e-05 4.2407936e-04 2.1420984e-04]\n"
     ]
    }
   ],
   "source": [
    "x = [0,1,2,3,4,5,6,7,8,9]\n",
    "predictions = model_vi.predict(all_one_x[picture:picture_end])\n",
    "for i in range(700,799,1):\n",
    "    pred = model_vi.predict(all_one_x[picture:picture_end])\n",
    "    #print(pred)\n",
    "    predictions = np.append(predictions, pred, axis = 0)\n",
    "    #print(i, predictions)\n",
    "\n",
    "print(predictions.shape)\n",
    "\n",
    "for i in range(20):\n",
    "    plt.subplot(5,4,i+1)\n",
    "    plt.bar(x, predictions[i], color = ['black'])\n",
    "    plt.xticks(np.arange(10), class_names, rotation = 90)\n",
    "    #plt.yticks([0.25, 0.5, 0.75, 1.0])\n",
    "    plt.ylim([0,1])\n",
    "plt.show()\n",
    "\n",
    "plt.subplot(2,3,1)\n",
    "plt.yticks([0,2,4,6,8])\n",
    "plt.imshow(predictions[0:10], cmap='binary', interpolation='none')\n",
    "plt.ylabel('run')\n",
    "#plt.xlabel('class')\n",
    "plt.xticks(np.arange(10), class_names, rotation = 90)\n",
    "plt.title('heatmap predictions')\n",
    "plt.subplot(2,3,2)\n",
    "plt.xticks([])\n",
    "plt.yticks([])\n",
    "plt.imshow(np.squeeze(all_one_x[picture:picture_end][0], axis = 2), cmap=plt.cm.binary)\n",
    "plt.xlabel(class_names[all_one_y[picture]])\n",
    "plt.title('image')\n",
    "\n",
    "#### try to also show the barchart with the average probability\n",
    "d = predictions\n",
    "predictions_mean = d.mean(axis=0)\n",
    "#x = [0,1,2,3,4,5,6,7,8]\n",
    "\n",
    "plt.subplot(2,3,3)\n",
    "plt.bar(x,predictions_mean, color = ['black']) #color=(0.3,0.3,0.3,1.0)\n",
    "plt.xticks(np.arange(10), class_names, rotation = 90)\n",
    "plt.title('average probability')\n",
    "\n",
    "plt.show()\n",
    "print(predictions_mean)"
   ]
  },
  {
   "cell_type": "markdown",
   "metadata": {},
   "source": [
    "## prediction for an often seen image (class 0)"
   ]
  },
  {
   "cell_type": "code",
   "execution_count": 34,
   "metadata": {},
   "outputs": [
    {
     "name": "stdout",
     "output_type": "stream",
     "text": [
      "(100, 10)\n"
     ]
    },
    {
     "data": {
      "image/png": "[encoded data removed]",
      "text/plain": [
       "<Figure size 432x288 with 20 Axes>"
      ]
     },
     "metadata": {
      "needs_background": "light"
     },
     "output_type": "display_data"
    },
    {
     "data": {
      "image/png": "[encoded data removed]",
      "text/plain": [
       "<Figure size 432x288 with 3 Axes>"
      ]
     },
     "metadata": {
      "needs_background": "light"
     },
     "output_type": "display_data"
    },
    {
     "name": "stdout",
     "output_type": "stream",
     "text": [
      "[6.9994736e-01 3.0099081e-03 1.6286165e-02 1.1597443e-01 1.5083456e-02\n",
      " 2.3168312e-05 1.4743833e-01 1.3332159e-04 1.4082703e-03 6.9566281e-04]\n"
     ]
    }
   ],
   "source": [
    "x = [0,1,2,3,4,5,6,7,8,9]\n",
    "predictions = model_vi.predict(all_zero_x[picture:picture_end])\n",
    "for i in range(700,799,1):\n",
    "    pred = model_vi.predict(all_zero_x[picture:picture_end])\n",
    "    #print(pred)\n",
    "    predictions = np.append(predictions, pred, axis = 0)\n",
    "    #print(i, predictions)\n",
    "\n",
    "print(predictions.shape)\n",
    "\n",
    "for i in range(20):\n",
    "    plt.subplot(5,4,i+1)\n",
    "    plt.bar(x, predictions[i], color = ['black'])\n",
    "    plt.xticks(np.arange(10), class_names, rotation = 90)\n",
    "    #plt.yticks([0.25, 0.5, 0.75, 1.0])\n",
    "    plt.ylim([0,1])\n",
    "plt.show()\n",
    "\n",
    "plt.subplot(2,3,1)\n",
    "plt.yticks([0,2,4,6,8])\n",
    "plt.imshow(predictions[0:10], cmap='binary', interpolation='none')\n",
    "plt.ylabel('run')\n",
    "#plt.xlabel('class')\n",
    "plt.xticks(np.arange(10), class_names, rotation = 90)\n",
    "plt.title('heatmap predictions')\n",
    "plt.subplot(2,3,2)\n",
    "plt.xticks([])\n",
    "plt.yticks([])\n",
    "plt.imshow(np.squeeze(all_zero_x[picture:picture_end][0], axis = 2), cmap=plt.cm.binary)\n",
    "plt.xlabel(class_names[all_zero_y[picture]])\n",
    "plt.title('image')\n",
    "\n",
    "#### try to also show the barchart with the average probability\n",
    "d = predictions\n",
    "predictions_mean = d.mean(axis=0)\n",
    "#x = [0,1,2,3,4,5,6,7,8]\n",
    "\n",
    "plt.subplot(2,3,3)\n",
    "plt.bar(x,predictions_mean, color = ['black']) #color=(0.3,0.3,0.3,1.0)\n",
    "plt.xticks(np.arange(10), class_names, rotation = 90)\n",
    "plt.title('average probability')\n",
    "\n",
    "plt.show()\n",
    "print(predictions_mean)"
   ]
  },
  {
   "cell_type": "markdown",
   "metadata": {},
   "source": [
    "# Check and quantify the BNN "
   ]
  },
  {
   "cell_type": "markdown",
   "metadata": {},
   "source": [
    "## evaluate baseline CNN"
   ]
  },
  {
   "cell_type": "code",
   "execution_count": 39,
   "metadata": {},
   "outputs": [
    {
     "name": "stdout",
     "output_type": "stream",
     "text": [
      "10000/10000 [==============================] - 2s 215us/sample - loss: 0.3419 - accuracy: 0.8975\n"
     ]
    },
    {
     "data": {
      "text/plain": [
       "[0.3418784363389015, 0.8975]"
      ]
     },
     "execution_count": 39,
     "metadata": {},
     "output_type": "execute_result"
    }
   ],
   "source": [
    "# evaluate the baseline CNN on the test dataset\n",
    "test_y_ohe = np.array(pd.get_dummies(test_y))\n",
    "model.evaluate(test_x, test_y_ohe)"
   ]
  },
  {
   "cell_type": "code",
   "execution_count": 40,
   "metadata": {},
   "outputs": [],
   "source": [
    "# evaluate the baseline CNN on the rarely seen pictures only\n",
    "l = []\n",
    "for i in range(all_one_x.shape[0]):\n",
    "    pred = model.predict(all_one_x[i:i+1])\n",
    "    l.append(pred.argmax())"
   ]
  },
  {
   "cell_type": "code",
   "execution_count": 41,
   "metadata": {},
   "outputs": [
    {
     "data": {
      "text/plain": [
       "0.8386666666666667"
      ]
     },
     "execution_count": 41,
     "metadata": {},
     "output_type": "execute_result"
    }
   ],
   "source": [
    "(l == all_one_y).sum()/all_one_x.shape[0]"
   ]
  },
  {
   "cell_type": "markdown",
   "metadata": {},
   "source": [
    "## evaluate the BNN with the standard prediction method"
   ]
  },
  {
   "cell_type": "code",
   "execution_count": 42,
   "metadata": {},
   "outputs": [
    {
     "name": "stdout",
     "output_type": "stream",
     "text": [
      "10000/10000 [==============================] - 5s 541us/sample - loss: 0.9556 - accuracy: 0.8723\n"
     ]
    },
    {
     "data": {
      "text/plain": [
       "[0.9556285731315612, 0.8723]"
      ]
     },
     "execution_count": 42,
     "metadata": {},
     "output_type": "execute_result"
    }
   ],
   "source": [
    "test_y_ohe = np.array(pd.get_dummies(test_y))\n",
    "model_vi.evaluate(test_x, test_y_ohe)"
   ]
  },
  {
   "cell_type": "code",
   "execution_count": 44,
   "metadata": {},
   "outputs": [],
   "source": [
    "# evaluate the BNN with standard prediction on the rarely seen pictures only\n",
    "l = []\n",
    "for i in range(all_one_x.shape[0]):\n",
    "    pred = model_vi.predict(all_one_x[i:i+1])\n",
    "    l.append(pred.argmax())"
   ]
  },
  {
   "cell_type": "code",
   "execution_count": 45,
   "metadata": {},
   "outputs": [
    {
     "data": {
      "text/plain": [
       "0.7001666666666667"
      ]
     },
     "execution_count": 45,
     "metadata": {},
     "output_type": "execute_result"
    }
   ],
   "source": [
    "(l == all_one_y).sum()/all_one_x.shape[0]"
   ]
  },
  {
   "cell_type": "markdown",
   "metadata": {},
   "source": [
    "# evaluate the BNN with special prediction method"
   ]
  },
  {
   "cell_type": "code",
   "execution_count": 29,
   "metadata": {},
   "outputs": [],
   "source": [
    "#import the helper functions for evaluation\n",
    "from helper_functions import m_predict_vi as apvi \n",
    "from helper_functions import b_predict_vi as bpvi"
   ]
  },
  {
   "cell_type": "code",
   "execution_count": 30,
   "metadata": {},
   "outputs": [],
   "source": [
    "list_of_predictions = [5, 10, 25]\n",
    "list_of_dev = [0.1, 0.2, 0.3, 0.4, 0.5]"
   ]
  },
  {
   "cell_type": "markdown",
   "metadata": {},
   "source": [
    "## Bernoulli predict"
   ]
  },
  {
   "cell_type": "code",
   "execution_count": 57,
   "metadata": {},
   "outputs": [],
   "source": [
    "# test without taking uncertainty into consideration\n",
    "# for 5, 10, 25, 50 and 100 predictions per image\n",
    "pred = bpvi.bern_predict_vi(test_x, model_vi, 10, 5)"
   ]
  },
  {
   "cell_type": "code",
   "execution_count": 58,
   "metadata": {},
   "outputs": [],
   "source": [
    "import pandas as pd\n",
    "p = pd.DataFrame(pred)\n",
    "p['soll'] = test_y\n",
    "p.to_csv(\"B_005_test_set_with_predictions_25.csv\", \";\")"
   ]
  },
  {
   "cell_type": "code",
   "execution_count": 59,
   "metadata": {},
   "outputs": [
    {
     "data": {
      "text/plain": [
       "0.8902"
      ]
     },
     "execution_count": 59,
     "metadata": {},
     "output_type": "execute_result"
    }
   ],
   "source": [
    "#just the predictions:\n",
    "(p[0] == test_y).sum()/test_x.shape[0]"
   ]
  },
  {
   "cell_type": "code",
   "execution_count": 60,
   "metadata": {},
   "outputs": [
    {
     "name": "stdout",
     "output_type": "stream",
     "text": [
      "0.1 :  0.7646\n",
      "0.2 :  0.7646\n",
      "0.3 :  0.825\n",
      "0.4 :  0.8485\n",
      "0.5 :  0.885\n"
     ]
    }
   ],
   "source": [
    "#for different uncertainty levels\n",
    "for i in list_of_dev:\n",
    "    p['unc_est'] = np.where(p[3] >= i, 1, p[0])\n",
    "    w = (p['unc_est'] == test_y).sum()/test_x.shape[0]\n",
    "    print(i, \": \" , w)"
   ]
  },
  {
   "cell_type": "code",
   "execution_count": 61,
   "metadata": {},
   "outputs": [
    {
     "name": "stdout",
     "output_type": "stream",
     "text": [
      "0.1 - 0.2 :  0.8502\n",
      "0.1 - 0.3 :  0.8298\n",
      "0.1 - 0.4 :  0.798\n",
      "0.1 - 0.5 :  0.7646\n",
      "0.2 - 0.3 :  0.8298\n",
      "0.2 - 0.4 :  0.798\n",
      "0.2 - 0.5 :  0.7646\n",
      "0.3 - 0.4 :  0.8584\n",
      "0.3 - 0.5 :  0.825\n",
      "0.4 - 0.5 :  0.8485\n"
     ]
    }
   ],
   "source": [
    "#evaluate with ranges\n",
    "for i in list_of_dev:\n",
    "    for j in list_of_dev:\n",
    "        if j>i:\n",
    "                p['unc_est'] = np.where(((p[3] >= i) & (p[3]<=j)), 1, p[0])\n",
    "                w = (p['unc_est'] == test_y).sum()/test_x.shape[0]\n",
    "                print(i, \"-\", j, \": \" , w)\n",
    "            "
   ]
  },
  {
   "cell_type": "markdown",
   "metadata": {},
   "source": [
    "### graphic"
   ]
  },
  {
   "cell_type": "code",
   "execution_count": 2,
   "metadata": {},
   "outputs": [],
   "source": [
    "x = [5, 10, 25]\n",
    "y = [0.8813, 0.8869, 0.8902]\n",
    "y50 = [0.8813, 0.883, 0.885]\n",
    "y40 = [0.8255, 0.8401, 0.8485]\n",
    "y30 = [0.8255, 0.7993, 0.825]\n",
    "y20 = [0.8255, 0.7993, 0.7647]\n",
    "y10 = [0.8255, 0.7993, 0.7647]"
   ]
  },
  {
   "cell_type": "code",
   "execution_count": 4,
   "metadata": {},
   "outputs": [
    {
     "data": {
      "image/png": "[encoded data removed]",
      "text/plain": [
       "<Figure size 432x288 with 1 Axes>"
      ]
     },
     "metadata": {
      "needs_background": "light"
     },
     "output_type": "display_data"
    }
   ],
   "source": [
    "import matplotlib.pyplot as plt\n",
    "\n",
    "plt.plot(x,y, label='no correction', color='black')\n",
    "plt.plot(x, y10, label='>=10%', color='green', linestyle='--')\n",
    "plt.plot(x, y20, label='>=20%', color='green', linestyle='-')\n",
    "plt.plot(x, y30, label='>=30%', color='blue', linestyle='--')\n",
    "plt.plot(x, y40, label='>=40%', color='black', linestyle='--')\n",
    "plt.plot(x, y50, label='>=50%', color='blue', linestyle='-')\n",
    "\n",
    "plt.xlabel('number of predictions per image')\n",
    "plt.ylabel('accuracy')\n",
    "plt.xticks(x)\n",
    "#plt.yticks(list_of_dev)\n",
    "\n",
    "plt.legend(loc='lower left')\n",
    "plt.title(\"Hyp B VI Bernoulli Method\")\n",
    "plt.show()"
   ]
  },
  {
   "cell_type": "markdown",
   "metadata": {},
   "source": [
    "## Average prediction"
   ]
  },
  {
   "cell_type": "code",
   "execution_count": 68,
   "metadata": {},
   "outputs": [],
   "source": [
    "list_of_predictions = [5, 10, 25, 50, 100]\n",
    "list_of_dev = [0.1, 0.2, 0.3, 0.4, 0.5]"
   ]
  },
  {
   "cell_type": "code",
   "execution_count": null,
   "metadata": {},
   "outputs": [],
   "source": [
    "pred = apvi.average_predict_vi(test_x, model_vi, 10, 25)"
   ]
  },
  {
   "cell_type": "code",
   "execution_count": 77,
   "metadata": {},
   "outputs": [
    {
     "name": "stderr",
     "output_type": "stream",
     "text": [
      "C:\\Users\\annar\\Anaconda3\\envs\\ml_env\\lib\\site-packages\\ipykernel_launcher.py:14: FutureWarning: \n",
      "The current behaviour of 'Series.argmax' is deprecated, use 'idxmax'\n",
      "instead.\n",
      "The behavior of 'argmax' will be corrected to return the positional\n",
      "maximum in the future. For now, use 'series.values.argmax' or\n",
      "'np.argmax(np.array(values))' to get the position of the maximum\n",
      "row.\n",
      "  \n"
     ]
    }
   ],
   "source": [
    "df = pd.DataFrame(pred)\n",
    "df['soll'] = test_y\n",
    "df.to_csv(\"B_005_test_with_max_pred_25.csv\", \";\")"
   ]
  },
  {
   "cell_type": "code",
   "execution_count": 78,
   "metadata": {},
   "outputs": [
    {
     "data": {
      "text/plain": [
       "0.889"
      ]
     },
     "execution_count": 78,
     "metadata": {},
     "output_type": "execute_result"
    }
   ],
   "source": [
    "#just the predictions:\n",
    "(df[0] == test_y).sum()/test_x.shape[0]"
   ]
  },
  {
   "cell_type": "code",
   "execution_count": 79,
   "metadata": {},
   "outputs": [
    {
     "name": "stdout",
     "output_type": "stream",
     "text": [
      "0.1 :  0.7232\n",
      "0.2 :  0.866\n",
      "0.3 :  0.8913\n",
      "0.4 :  0.889\n",
      "0.5 :  0.889\n"
     ]
    }
   ],
   "source": [
    "#for different uncertainty levels\n",
    "for i in list_of_dev:\n",
    "    df['unc_est'] = np.where(df[3] >= i, 1, df[0])\n",
    "    w = (df['unc_est'] == test_y).sum()/test_x.shape[0]\n",
    "    print(i, \": \" , w)"
   ]
  },
  {
   "cell_type": "code",
   "execution_count": 80,
   "metadata": {
    "scrolled": true
   },
   "outputs": [
    {
     "name": "stdout",
     "output_type": "stream",
     "text": [
      "0.1 - 0.2 :  0.7462\n",
      "0.1 - 0.3 :  0.7209\n",
      "0.1 - 0.4 :  0.7232\n",
      "0.1 - 0.5 :  0.7232\n",
      "0.2 - 0.3 :  0.8637\n",
      "0.2 - 0.4 :  0.866\n",
      "0.2 - 0.5 :  0.866\n",
      "0.3 - 0.4 :  0.8913\n",
      "0.3 - 0.5 :  0.8913\n",
      "0.4 - 0.5 :  0.889\n"
     ]
    }
   ],
   "source": [
    "#evaluate with ranges\n",
    "for i in list_of_dev:\n",
    "    for j in list_of_dev:\n",
    "        if j>i:\n",
    "                df['unc_est'] = np.where(((df[3] >= i) & (df[3]<=j)), 1, df[0])\n",
    "                w = (df['unc_est'] == test_y).sum()/test_x.shape[0]                \n",
    "                print(i, \"-\", j, \": \" , w)\n",
    "            "
   ]
  },
  {
   "cell_type": "markdown",
   "metadata": {},
   "source": [
    "### graphic"
   ]
  },
  {
   "cell_type": "code",
   "execution_count": 5,
   "metadata": {},
   "outputs": [],
   "source": [
    "x = [5, 10, 25]\n",
    "y = [0.8851, 0.8873, 0.889]\n",
    "y50 = [0.8851, 0.8873, 0.889]\n",
    "y40 = [0.8852, 0.8873, 0.889]\n",
    "y30 = [0.884, 0.8879, 0.8913]\n",
    "y20 = [0.8547, 0.8583, 0.866]\n",
    "y10 = [0.7515, 0.734, 0.7232]"
   ]
  },
  {
   "cell_type": "code",
   "execution_count": 6,
   "metadata": {},
   "outputs": [
    {
     "data": {
      "image/png": "[encoded data removed]",
      "text/plain": [
       "<Figure size 432x288 with 1 Axes>"
      ]
     },
     "metadata": {
      "needs_background": "light"
     },
     "output_type": "display_data"
    }
   ],
   "source": [
    "import matplotlib.pyplot as plt\n",
    "\n",
    "plt.plot(x, y, label='no correction', color='black')\n",
    "plt.plot(x, y10, label='>=10%', color='green', linestyle='--')\n",
    "plt.plot(x, y20, label='>=20%', color='green', linestyle='-')\n",
    "plt.plot(x, y30, label='>=30%', color='blue', linestyle='--')\n",
    "plt.plot(x, y40, label='>=40%', color='black', linestyle='--')\n",
    "plt.plot(x, y50, label='>=50%', color='blue', linestyle='-')\n",
    "\n",
    "plt.xlabel('number of predictions per image')\n",
    "plt.ylabel('accuracy')\n",
    "plt.xticks(x)\n",
    "#plt.yticks(list_of_dev)\n",
    "\n",
    "plt.legend(loc='lower left')\n",
    "plt.title(\"Hyp B VI Average Method\")\n",
    "plt.show()"
   ]
  },
  {
   "cell_type": "code",
   "execution_count": null,
   "metadata": {},
   "outputs": [],
   "source": []
  }
 ],
 "metadata": {
  "kernelspec": {
   "display_name": "Python [conda env:ml_env]",
   "language": "python",
   "name": "conda-env-ml_env-py"
  },
  "language_info": {
   "codemirror_mode": {
    "name": "ipython",
    "version": 3
   },
   "file_extension": ".py",
   "mimetype": "text/x-python",
   "name": "python",
   "nbconvert_exporter": "python",
   "pygments_lexer": "ipython3",
   "version": "3.7.3"
  }
 },
 "nbformat": 4,
 "nbformat_minor": 2
}
